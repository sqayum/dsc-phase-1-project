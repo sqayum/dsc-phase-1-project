{
 "cells": [
  {
   "cell_type": "markdown",
   "source": [
    "# Overview"
   ],
   "metadata": {}
  },
  {
   "cell_type": "markdown",
   "source": [
    "This analysis is intended to guide the Microsoft movie studio in its decision regarding which types of films to produce. The purpose of this analysis is to identify which kinds of movies are high-performers, and the extent to which performance depends on a film's production budget. A film's performance will be determined with respect to two main categories: financial performance and ratings. \r\n"
   ],
   "metadata": {}
  },
  {
   "cell_type": "markdown",
   "source": [
    "##\r\n",
    "---"
   ],
   "metadata": {}
  },
  {
   "cell_type": "markdown",
   "source": [
    "# Business Problem"
   ],
   "metadata": {}
  },
  {
   "cell_type": "markdown",
   "source": [
    "This analysis addresses the following questions:\r\n",
    "\r\n",
    "> *1. Which genres of film perform the best financially?*   \r\n",
    "\r\n",
    "> *2. Which genres of film have the highest ratings?*   \r\n",
    "\r\n",
    "> *3. Does a film's financial performance and/or ratings depend on its production budget?*\r\n",
    "\r\n",
    "\r\n",
    "In the context of this analysis, a film's financial performance measures how profitable it is by accounting for: *gross income*, *production budget*, *net income*, and *efficiency (cost-to-income ratio)*. On the other hand, a film's ratings are determined via *average user ratings in datasets extracted from the IMDb (International Movie Database) and TMDb (The Movie Database)*.\r\n",
    "\r\n",
    "The first two questions in this analysis are answered based on the premise that *genre* is a category by which movies should be distinguished when analyzing performance. An analysis which does not account for genre ignores the fact that different genres appeal to different demographics, and it follows that insights into movie performance gained from such an analysis will be misleading. In addition, due to differences in popularity of each genre, the average production budget is not the same across genres. However, this does not entirely preclude low financial performance or low ratings. For example, a given genre could have a lower average net income than some other genre, but have a higher gain per dolar spen on production (lower cost-to-income ratio) and better average rating. Therefore, all performance analysis is carried out on data grouped by genre. \r\n",
    "\r\n",
    "As for the last question, the effect of production budget on performance should not depend on a film's genre. Common sense tells us that a higher production budget should lead to better results for a film, regardless of its genre. Therefore, the data is not grouped by genre during this part of the analysis.\r\n"
   ],
   "metadata": {}
  },
  {
   "cell_type": "markdown",
   "source": [
    "##\r\n",
    "---"
   ],
   "metadata": {}
  },
  {
   "cell_type": "markdown",
   "source": [
    "# Data Overview"
   ],
   "metadata": {}
  },
  {
   "cell_type": "markdown",
   "source": [
    "The data used for this analysis is a collection of CSV files located in the [project_files/data](./dsc-phase1-project-template.ipynb) subdirectory.\r\n",
    "\r\n",
    "The `imdb.title.basics.csv` dataset assigns a unique movie ID to over 140,000 films, in addition to listing their title, year of release, runtime, and genres. After the column containing movie runtimes was discarded, this dataset was used to create the `titleyear_to_id_map` and `id_to_genre_map` DataFrames --`titleyear_to_id_map` is a  a table by which the `title` + `year` of a movie in a DataFrame without unique identifiers was mapped to its *IMDb*-designated ID  and `id_to_genre_map` is a table by which each movie ID is mapped to a list containing its associated genres.\r\n",
    "\r\n",
    "The `imdb.title.ratings.csv` and `tmdb.movies.csv` files contains data from which the *IMDb* average rating and *TMDb* average rating were obtained for each movie ID. Both files contain a data column indicating the number of votes behind each average rating, which was used to filter out average ratings (by requiring an average rating to have at least 10 votes). This column was then discarded after the filtering was complete.\r\n",
    "\r\n",
    "Finally, the `tn.movie_budgets.csv` dataset was the source of all financial data used in the analysis. It contains the production budget and gross income (both domestic and worldwide) of over 5,000 films. The worldwide gross income was taken as the total gross income for each film, and the column listing domestic gross incomes was discarded."
   ],
   "metadata": {}
  },
  {
   "cell_type": "markdown",
   "source": [
    "##\r\n",
    "---"
   ],
   "metadata": {}
  },
  {
   "cell_type": "markdown",
   "source": [
    "# Methods"
   ],
   "metadata": {}
  },
  {
   "cell_type": "markdown",
   "source": [
    "## *Data Preparation*"
   ],
   "metadata": {}
  },
  {
   "cell_type": "markdown",
   "source": [
    "While addressing Questions 1 and 2, datasets that did not have a column listing *IMDb* movie ID's (i.e. datasets not sourced from *IMDb*) were first re-indexed by movie `title` + `year`, and then  joined with the `titleyear_to_id_map` DataFrame. This process allowed the *IMDb* movie ID's to be mapped onto all other datasets. This process, in turn, allowed the genres associated with each movie ID to be mapped onto these datasets by performing another join with the `id_to_genre_map` DataFrame. \r\n",
    "\r\n",
    "Furthermore, while addressing Question 3, the `id_to_financials_map`, `id_to_tmdb_rating_map`, and `id_to_imdb_rating_map` DataFrames (the cleaned versions of `tn.movie_budgets.csv`, `tmdb.movies.csv`, and `imdb.title.ratings.csv` respectively) were used to map production_budget, gross income, net income, cost-to-income ratio, *TMDb* average rating, and *IMDb* average rating to their associated movie ID."
   ],
   "metadata": {}
  },
  {
   "cell_type": "markdown",
   "source": [
    "##\r\n",
    "---"
   ],
   "metadata": {}
  },
  {
   "cell_type": "markdown",
   "source": [
    "## *Descriptive Analysis*"
   ],
   "metadata": {}
  },
  {
   "cell_type": "markdown",
   "source": [
    "With respect to Question 1, three boxplots were created to illustrate the distributions of gross income, net income, and cost-to-income ratio by genre. A bosplot was used rather than a bar chart to highlight the spread of each feature's distribution. In addition, the median had to be used as a measure of cenral tendency for these features because they were all highly skewed.\r\n",
    "\r\n",
    "For Question 2, two bar charts were made depicting the *TMBd* and *IMBd* mean average rating by genre. The mean was used here because both ratings were distributed normally for all genres.\r\n",
    "\r\n",
    "As for Question 3, four linear regression plots were created to depict the correlation of production budget with gross income, net income,  *TMDb* average rating, and *IMDb* average rating. The cost-to-income ratio feature was omitted because it contained a large number of outliers and did not produce a meaningful regression plot."
   ],
   "metadata": {}
  },
  {
   "cell_type": "markdown",
   "source": [
    "##\r\n",
    "---"
   ],
   "metadata": {}
  },
  {
   "cell_type": "markdown",
   "source": [
    "# Data Preparation"
   ],
   "metadata": {}
  },
  {
   "cell_type": "markdown",
   "source": [
    "---"
   ],
   "metadata": {}
  },
  {
   "cell_type": "markdown",
   "source": [
    "## 0.1 - Importing the Required Modules"
   ],
   "metadata": {}
  },
  {
   "cell_type": "code",
   "execution_count": 415,
   "source": [
    "import pandas as pd\r\n",
    "import numpy as np\r\n",
    "\r\n",
    "import matplotlib.pyplot as plt\r\n",
    "%matplotlib inline\r\n",
    "\r\n",
    "import seaborn as sns\r\n",
    "sns.set_style(\"whitegrid\")\r\n",
    "sns.set_context(\"talk\")"
   ],
   "outputs": [],
   "metadata": {}
  },
  {
   "cell_type": "markdown",
   "source": [
    "##\r\n",
    "---"
   ],
   "metadata": {}
  },
  {
   "cell_type": "markdown",
   "source": [
    "## 0.2 - Importing and Cleaning the Dataset in `imdb.title.basics.csv`"
   ],
   "metadata": {}
  },
  {
   "cell_type": "markdown",
   "source": [
    "### 0.2.1 - Import the Dataset in `imbd.title.basics`"
   ],
   "metadata": {}
  },
  {
   "cell_type": "code",
   "execution_count": 416,
   "source": [
    "imdb_titles_df = pd.read_csv(\"data/imdb.title.basics.csv\")"
   ],
   "outputs": [],
   "metadata": {}
  },
  {
   "cell_type": "markdown",
   "source": [
    "### 0.2.2 - Drop the Unnecessary Columns in `imdb_titles_df`"
   ],
   "metadata": {}
  },
  {
   "cell_type": "code",
   "execution_count": 417,
   "source": [
    "imdb_titles_df.info()"
   ],
   "outputs": [
    {
     "output_type": "stream",
     "name": "stdout",
     "text": [
      "<class 'pandas.core.frame.DataFrame'>\n",
      "RangeIndex: 146144 entries, 0 to 146143\n",
      "Data columns (total 6 columns):\n",
      " #   Column           Non-Null Count   Dtype  \n",
      "---  ------           --------------   -----  \n",
      " 0   tconst           146144 non-null  object \n",
      " 1   primary_title    146144 non-null  object \n",
      " 2   original_title   146123 non-null  object \n",
      " 3   start_year       146144 non-null  int64  \n",
      " 4   runtime_minutes  114405 non-null  float64\n",
      " 5   genres           140736 non-null  object \n",
      "dtypes: float64(1), int64(1), object(4)\n",
      "memory usage: 6.7+ MB\n"
     ]
    }
   ],
   "metadata": {}
  },
  {
   "cell_type": "code",
   "execution_count": 418,
   "source": [
    "imdb_titles_df.drop([\"original_title\", \"runtime_minutes\"], axis=1, inplace=True)"
   ],
   "outputs": [],
   "metadata": {}
  },
  {
   "cell_type": "code",
   "execution_count": 419,
   "source": [
    "imdb_titles_df.columns"
   ],
   "outputs": [
    {
     "output_type": "execute_result",
     "data": {
      "text/plain": [
       "Index(['tconst', 'primary_title', 'start_year', 'genres'], dtype='object')"
      ]
     },
     "metadata": {},
     "execution_count": 419
    }
   ],
   "metadata": {}
  },
  {
   "cell_type": "markdown",
   "source": [
    "### 0.2.3 - Rename the Relevant Columns in `imdb_titles_df`"
   ],
   "metadata": {}
  },
  {
   "cell_type": "code",
   "execution_count": 420,
   "source": [
    "imdb_titles_df.rename(columns={\"tconst\": \"movie_ID\", \"primary_title\": \"title\", \"start_year\": \"year\"}, inplace=True)"
   ],
   "outputs": [],
   "metadata": {}
  },
  {
   "cell_type": "code",
   "execution_count": 421,
   "source": [
    "imdb_titles_df.columns"
   ],
   "outputs": [
    {
     "output_type": "execute_result",
     "data": {
      "text/plain": [
       "Index(['movie_ID', 'title', 'year', 'genres'], dtype='object')"
      ]
     },
     "metadata": {},
     "execution_count": 421
    }
   ],
   "metadata": {}
  },
  {
   "cell_type": "markdown",
   "source": [
    "### 0.2.4 - Drop Rows Containing Null Values in `imdb_titles_df`"
   ],
   "metadata": {}
  },
  {
   "cell_type": "code",
   "execution_count": 422,
   "source": [
    "imdb_titles_df.info()"
   ],
   "outputs": [
    {
     "output_type": "stream",
     "name": "stdout",
     "text": [
      "<class 'pandas.core.frame.DataFrame'>\n",
      "RangeIndex: 146144 entries, 0 to 146143\n",
      "Data columns (total 4 columns):\n",
      " #   Column    Non-Null Count   Dtype \n",
      "---  ------    --------------   ----- \n",
      " 0   movie_ID  146144 non-null  object\n",
      " 1   title     146144 non-null  object\n",
      " 2   year      146144 non-null  int64 \n",
      " 3   genres    140736 non-null  object\n",
      "dtypes: int64(1), object(3)\n",
      "memory usage: 4.5+ MB\n"
     ]
    }
   ],
   "metadata": {}
  },
  {
   "cell_type": "code",
   "execution_count": 423,
   "source": [
    "imdb_titles_df.dropna(inplace=True)"
   ],
   "outputs": [],
   "metadata": {}
  },
  {
   "cell_type": "code",
   "execution_count": 424,
   "source": [
    "imdb_titles_df.info()"
   ],
   "outputs": [
    {
     "output_type": "stream",
     "name": "stdout",
     "text": [
      "<class 'pandas.core.frame.DataFrame'>\n",
      "Int64Index: 140736 entries, 0 to 146143\n",
      "Data columns (total 4 columns):\n",
      " #   Column    Non-Null Count   Dtype \n",
      "---  ------    --------------   ----- \n",
      " 0   movie_ID  140736 non-null  object\n",
      " 1   title     140736 non-null  object\n",
      " 2   year      140736 non-null  int64 \n",
      " 3   genres    140736 non-null  object\n",
      "dtypes: int64(1), object(3)\n",
      "memory usage: 5.4+ MB\n"
     ]
    }
   ],
   "metadata": {}
  },
  {
   "cell_type": "markdown",
   "source": [
    "### 0.2.5 - Convert Entries in the `genre` Column from Strings to Arrays"
   ],
   "metadata": {}
  },
  {
   "cell_type": "code",
   "execution_count": 425,
   "source": [
    "imdb_titles_df[\"genres\"]"
   ],
   "outputs": [
    {
     "output_type": "execute_result",
     "data": {
      "text/plain": [
       "0            Action,Crime,Drama\n",
       "1               Biography,Drama\n",
       "2                         Drama\n",
       "3                  Comedy,Drama\n",
       "4          Comedy,Drama,Fantasy\n",
       "                  ...          \n",
       "146138    Adventure,History,War\n",
       "146139                    Drama\n",
       "146140              Documentary\n",
       "146141                   Comedy\n",
       "146143              Documentary\n",
       "Name: genres, Length: 140736, dtype: object"
      ]
     },
     "metadata": {},
     "execution_count": 425
    }
   ],
   "metadata": {}
  },
  {
   "cell_type": "code",
   "execution_count": 426,
   "source": [
    "imdb_titles_df[\"genres\"] = imdb_titles_df[\"genres\"].str.split(',')"
   ],
   "outputs": [],
   "metadata": {}
  },
  {
   "cell_type": "code",
   "execution_count": 427,
   "source": [
    "imdb_titles_df[\"genres\"]"
   ],
   "outputs": [
    {
     "output_type": "execute_result",
     "data": {
      "text/plain": [
       "0            [Action, Crime, Drama]\n",
       "1                [Biography, Drama]\n",
       "2                           [Drama]\n",
       "3                   [Comedy, Drama]\n",
       "4          [Comedy, Drama, Fantasy]\n",
       "                    ...            \n",
       "146138    [Adventure, History, War]\n",
       "146139                      [Drama]\n",
       "146140                [Documentary]\n",
       "146141                     [Comedy]\n",
       "146143                [Documentary]\n",
       "Name: genres, Length: 140736, dtype: object"
      ]
     },
     "metadata": {},
     "execution_count": 427
    }
   ],
   "metadata": {}
  },
  {
   "cell_type": "markdown",
   "source": [
    "### 0.2.6 - View the Cleaned `imdb_titles_df` DataFrame"
   ],
   "metadata": {}
  },
  {
   "cell_type": "code",
   "execution_count": 428,
   "source": [
    "imdb_titles_df.head()"
   ],
   "outputs": [
    {
     "output_type": "execute_result",
     "data": {
      "text/plain": [
       "    movie_ID                            title  year                    genres\n",
       "0  tt0063540                        Sunghursh  2013    [Action, Crime, Drama]\n",
       "1  tt0066787  One Day Before the Rainy Season  2019        [Biography, Drama]\n",
       "2  tt0069049       The Other Side of the Wind  2018                   [Drama]\n",
       "3  tt0069204                  Sabse Bada Sukh  2018           [Comedy, Drama]\n",
       "4  tt0100275         The Wandering Soap Opera  2017  [Comedy, Drama, Fantasy]"
      ],
      "text/html": [
       "<div>\n",
       "<style scoped>\n",
       "    .dataframe tbody tr th:only-of-type {\n",
       "        vertical-align: middle;\n",
       "    }\n",
       "\n",
       "    .dataframe tbody tr th {\n",
       "        vertical-align: top;\n",
       "    }\n",
       "\n",
       "    .dataframe thead th {\n",
       "        text-align: right;\n",
       "    }\n",
       "</style>\n",
       "<table border=\"1\" class=\"dataframe\">\n",
       "  <thead>\n",
       "    <tr style=\"text-align: right;\">\n",
       "      <th></th>\n",
       "      <th>movie_ID</th>\n",
       "      <th>title</th>\n",
       "      <th>year</th>\n",
       "      <th>genres</th>\n",
       "    </tr>\n",
       "  </thead>\n",
       "  <tbody>\n",
       "    <tr>\n",
       "      <th>0</th>\n",
       "      <td>tt0063540</td>\n",
       "      <td>Sunghursh</td>\n",
       "      <td>2013</td>\n",
       "      <td>[Action, Crime, Drama]</td>\n",
       "    </tr>\n",
       "    <tr>\n",
       "      <th>1</th>\n",
       "      <td>tt0066787</td>\n",
       "      <td>One Day Before the Rainy Season</td>\n",
       "      <td>2019</td>\n",
       "      <td>[Biography, Drama]</td>\n",
       "    </tr>\n",
       "    <tr>\n",
       "      <th>2</th>\n",
       "      <td>tt0069049</td>\n",
       "      <td>The Other Side of the Wind</td>\n",
       "      <td>2018</td>\n",
       "      <td>[Drama]</td>\n",
       "    </tr>\n",
       "    <tr>\n",
       "      <th>3</th>\n",
       "      <td>tt0069204</td>\n",
       "      <td>Sabse Bada Sukh</td>\n",
       "      <td>2018</td>\n",
       "      <td>[Comedy, Drama]</td>\n",
       "    </tr>\n",
       "    <tr>\n",
       "      <th>4</th>\n",
       "      <td>tt0100275</td>\n",
       "      <td>The Wandering Soap Opera</td>\n",
       "      <td>2017</td>\n",
       "      <td>[Comedy, Drama, Fantasy]</td>\n",
       "    </tr>\n",
       "  </tbody>\n",
       "</table>\n",
       "</div>"
      ]
     },
     "metadata": {},
     "execution_count": 428
    }
   ],
   "metadata": {}
  },
  {
   "cell_type": "markdown",
   "source": [
    "##\r\n",
    "---"
   ],
   "metadata": {}
  },
  {
   "cell_type": "markdown",
   "source": [
    "## 0.3 - Creating a DataFrame (`id_to_genre_map`) that Maps *Movie ID* to *Genres*"
   ],
   "metadata": {}
  },
  {
   "cell_type": "markdown",
   "source": [
    "### 0.3.1 - Initialize `id_to_genre_map` by Slicing from the `imbd_titles_df` DataFrame"
   ],
   "metadata": {}
  },
  {
   "cell_type": "code",
   "execution_count": 429,
   "source": [
    "id_to_genre_map = imdb_titles_df.loc[:, [\"movie_ID\", \"genres\"]]"
   ],
   "outputs": [],
   "metadata": {}
  },
  {
   "cell_type": "code",
   "execution_count": 430,
   "source": [
    "id_to_genre_map.head()"
   ],
   "outputs": [
    {
     "output_type": "execute_result",
     "data": {
      "text/plain": [
       "    movie_ID                    genres\n",
       "0  tt0063540    [Action, Crime, Drama]\n",
       "1  tt0066787        [Biography, Drama]\n",
       "2  tt0069049                   [Drama]\n",
       "3  tt0069204           [Comedy, Drama]\n",
       "4  tt0100275  [Comedy, Drama, Fantasy]"
      ],
      "text/html": [
       "<div>\n",
       "<style scoped>\n",
       "    .dataframe tbody tr th:only-of-type {\n",
       "        vertical-align: middle;\n",
       "    }\n",
       "\n",
       "    .dataframe tbody tr th {\n",
       "        vertical-align: top;\n",
       "    }\n",
       "\n",
       "    .dataframe thead th {\n",
       "        text-align: right;\n",
       "    }\n",
       "</style>\n",
       "<table border=\"1\" class=\"dataframe\">\n",
       "  <thead>\n",
       "    <tr style=\"text-align: right;\">\n",
       "      <th></th>\n",
       "      <th>movie_ID</th>\n",
       "      <th>genres</th>\n",
       "    </tr>\n",
       "  </thead>\n",
       "  <tbody>\n",
       "    <tr>\n",
       "      <th>0</th>\n",
       "      <td>tt0063540</td>\n",
       "      <td>[Action, Crime, Drama]</td>\n",
       "    </tr>\n",
       "    <tr>\n",
       "      <th>1</th>\n",
       "      <td>tt0066787</td>\n",
       "      <td>[Biography, Drama]</td>\n",
       "    </tr>\n",
       "    <tr>\n",
       "      <th>2</th>\n",
       "      <td>tt0069049</td>\n",
       "      <td>[Drama]</td>\n",
       "    </tr>\n",
       "    <tr>\n",
       "      <th>3</th>\n",
       "      <td>tt0069204</td>\n",
       "      <td>[Comedy, Drama]</td>\n",
       "    </tr>\n",
       "    <tr>\n",
       "      <th>4</th>\n",
       "      <td>tt0100275</td>\n",
       "      <td>[Comedy, Drama, Fantasy]</td>\n",
       "    </tr>\n",
       "  </tbody>\n",
       "</table>\n",
       "</div>"
      ]
     },
     "metadata": {},
     "execution_count": 430
    }
   ],
   "metadata": {}
  },
  {
   "cell_type": "markdown",
   "source": [
    "### 0.3.2 - Set the `movie_ID` Column as the Index of `id_to_genre_map`"
   ],
   "metadata": {}
  },
  {
   "cell_type": "code",
   "execution_count": 431,
   "source": [
    "id_to_genre_map.set_index(\"movie_ID\", inplace=True)"
   ],
   "outputs": [],
   "metadata": {}
  },
  {
   "cell_type": "code",
   "execution_count": 432,
   "source": [
    "id_to_genre_map.head()"
   ],
   "outputs": [
    {
     "output_type": "execute_result",
     "data": {
      "text/plain": [
       "                             genres\n",
       "movie_ID                           \n",
       "tt0063540    [Action, Crime, Drama]\n",
       "tt0066787        [Biography, Drama]\n",
       "tt0069049                   [Drama]\n",
       "tt0069204           [Comedy, Drama]\n",
       "tt0100275  [Comedy, Drama, Fantasy]"
      ],
      "text/html": [
       "<div>\n",
       "<style scoped>\n",
       "    .dataframe tbody tr th:only-of-type {\n",
       "        vertical-align: middle;\n",
       "    }\n",
       "\n",
       "    .dataframe tbody tr th {\n",
       "        vertical-align: top;\n",
       "    }\n",
       "\n",
       "    .dataframe thead th {\n",
       "        text-align: right;\n",
       "    }\n",
       "</style>\n",
       "<table border=\"1\" class=\"dataframe\">\n",
       "  <thead>\n",
       "    <tr style=\"text-align: right;\">\n",
       "      <th></th>\n",
       "      <th>genres</th>\n",
       "    </tr>\n",
       "    <tr>\n",
       "      <th>movie_ID</th>\n",
       "      <th></th>\n",
       "    </tr>\n",
       "  </thead>\n",
       "  <tbody>\n",
       "    <tr>\n",
       "      <th>tt0063540</th>\n",
       "      <td>[Action, Crime, Drama]</td>\n",
       "    </tr>\n",
       "    <tr>\n",
       "      <th>tt0066787</th>\n",
       "      <td>[Biography, Drama]</td>\n",
       "    </tr>\n",
       "    <tr>\n",
       "      <th>tt0069049</th>\n",
       "      <td>[Drama]</td>\n",
       "    </tr>\n",
       "    <tr>\n",
       "      <th>tt0069204</th>\n",
       "      <td>[Comedy, Drama]</td>\n",
       "    </tr>\n",
       "    <tr>\n",
       "      <th>tt0100275</th>\n",
       "      <td>[Comedy, Drama, Fantasy]</td>\n",
       "    </tr>\n",
       "  </tbody>\n",
       "</table>\n",
       "</div>"
      ]
     },
     "metadata": {},
     "execution_count": 432
    }
   ],
   "metadata": {}
  },
  {
   "cell_type": "markdown",
   "source": [
    "### 0.3.3 - Extract the Individual Genres in `id_to_genre_map[genres]` into Their Own Dedicated Columns"
   ],
   "metadata": {}
  },
  {
   "cell_type": "code",
   "execution_count": 433,
   "source": [
    "id_to_genre_map[\"genre_1\"] = id_to_genre_map[\"genres\"].map(lambda x: x[0])\r\n",
    "id_to_genre_map[\"genre_2\"] = id_to_genre_map[\"genres\"].map(lambda x: x[1] if len(x) > 1 else None)\r\n",
    "id_to_genre_map[\"genre_3\"] = id_to_genre_map[\"genres\"].map(lambda x: x[2] if len(x) > 2 else None)"
   ],
   "outputs": [],
   "metadata": {}
  },
  {
   "cell_type": "code",
   "execution_count": 434,
   "source": [
    "id_to_genre_map.head()"
   ],
   "outputs": [
    {
     "output_type": "execute_result",
     "data": {
      "text/plain": [
       "                             genres    genre_1 genre_2  genre_3\n",
       "movie_ID                                                       \n",
       "tt0063540    [Action, Crime, Drama]     Action   Crime    Drama\n",
       "tt0066787        [Biography, Drama]  Biography   Drama     None\n",
       "tt0069049                   [Drama]      Drama    None     None\n",
       "tt0069204           [Comedy, Drama]     Comedy   Drama     None\n",
       "tt0100275  [Comedy, Drama, Fantasy]     Comedy   Drama  Fantasy"
      ],
      "text/html": [
       "<div>\n",
       "<style scoped>\n",
       "    .dataframe tbody tr th:only-of-type {\n",
       "        vertical-align: middle;\n",
       "    }\n",
       "\n",
       "    .dataframe tbody tr th {\n",
       "        vertical-align: top;\n",
       "    }\n",
       "\n",
       "    .dataframe thead th {\n",
       "        text-align: right;\n",
       "    }\n",
       "</style>\n",
       "<table border=\"1\" class=\"dataframe\">\n",
       "  <thead>\n",
       "    <tr style=\"text-align: right;\">\n",
       "      <th></th>\n",
       "      <th>genres</th>\n",
       "      <th>genre_1</th>\n",
       "      <th>genre_2</th>\n",
       "      <th>genre_3</th>\n",
       "    </tr>\n",
       "    <tr>\n",
       "      <th>movie_ID</th>\n",
       "      <th></th>\n",
       "      <th></th>\n",
       "      <th></th>\n",
       "      <th></th>\n",
       "    </tr>\n",
       "  </thead>\n",
       "  <tbody>\n",
       "    <tr>\n",
       "      <th>tt0063540</th>\n",
       "      <td>[Action, Crime, Drama]</td>\n",
       "      <td>Action</td>\n",
       "      <td>Crime</td>\n",
       "      <td>Drama</td>\n",
       "    </tr>\n",
       "    <tr>\n",
       "      <th>tt0066787</th>\n",
       "      <td>[Biography, Drama]</td>\n",
       "      <td>Biography</td>\n",
       "      <td>Drama</td>\n",
       "      <td>None</td>\n",
       "    </tr>\n",
       "    <tr>\n",
       "      <th>tt0069049</th>\n",
       "      <td>[Drama]</td>\n",
       "      <td>Drama</td>\n",
       "      <td>None</td>\n",
       "      <td>None</td>\n",
       "    </tr>\n",
       "    <tr>\n",
       "      <th>tt0069204</th>\n",
       "      <td>[Comedy, Drama]</td>\n",
       "      <td>Comedy</td>\n",
       "      <td>Drama</td>\n",
       "      <td>None</td>\n",
       "    </tr>\n",
       "    <tr>\n",
       "      <th>tt0100275</th>\n",
       "      <td>[Comedy, Drama, Fantasy]</td>\n",
       "      <td>Comedy</td>\n",
       "      <td>Drama</td>\n",
       "      <td>Fantasy</td>\n",
       "    </tr>\n",
       "  </tbody>\n",
       "</table>\n",
       "</div>"
      ]
     },
     "metadata": {},
     "execution_count": 434
    }
   ],
   "metadata": {}
  },
  {
   "cell_type": "markdown",
   "source": [
    "### 0.3.4 - Drop the `genres` Column in `id_to_genre_map`"
   ],
   "metadata": {}
  },
  {
   "cell_type": "code",
   "execution_count": 435,
   "source": [
    "id_to_genre_map.drop(columns=\"genres\", inplace=True)"
   ],
   "outputs": [],
   "metadata": {}
  },
  {
   "cell_type": "code",
   "execution_count": 436,
   "source": [
    "id_to_genre_map.head()"
   ],
   "outputs": [
    {
     "output_type": "execute_result",
     "data": {
      "text/plain": [
       "             genre_1 genre_2  genre_3\n",
       "movie_ID                             \n",
       "tt0063540     Action   Crime    Drama\n",
       "tt0066787  Biography   Drama     None\n",
       "tt0069049      Drama    None     None\n",
       "tt0069204     Comedy   Drama     None\n",
       "tt0100275     Comedy   Drama  Fantasy"
      ],
      "text/html": [
       "<div>\n",
       "<style scoped>\n",
       "    .dataframe tbody tr th:only-of-type {\n",
       "        vertical-align: middle;\n",
       "    }\n",
       "\n",
       "    .dataframe tbody tr th {\n",
       "        vertical-align: top;\n",
       "    }\n",
       "\n",
       "    .dataframe thead th {\n",
       "        text-align: right;\n",
       "    }\n",
       "</style>\n",
       "<table border=\"1\" class=\"dataframe\">\n",
       "  <thead>\n",
       "    <tr style=\"text-align: right;\">\n",
       "      <th></th>\n",
       "      <th>genre_1</th>\n",
       "      <th>genre_2</th>\n",
       "      <th>genre_3</th>\n",
       "    </tr>\n",
       "    <tr>\n",
       "      <th>movie_ID</th>\n",
       "      <th></th>\n",
       "      <th></th>\n",
       "      <th></th>\n",
       "    </tr>\n",
       "  </thead>\n",
       "  <tbody>\n",
       "    <tr>\n",
       "      <th>tt0063540</th>\n",
       "      <td>Action</td>\n",
       "      <td>Crime</td>\n",
       "      <td>Drama</td>\n",
       "    </tr>\n",
       "    <tr>\n",
       "      <th>tt0066787</th>\n",
       "      <td>Biography</td>\n",
       "      <td>Drama</td>\n",
       "      <td>None</td>\n",
       "    </tr>\n",
       "    <tr>\n",
       "      <th>tt0069049</th>\n",
       "      <td>Drama</td>\n",
       "      <td>None</td>\n",
       "      <td>None</td>\n",
       "    </tr>\n",
       "    <tr>\n",
       "      <th>tt0069204</th>\n",
       "      <td>Comedy</td>\n",
       "      <td>Drama</td>\n",
       "      <td>None</td>\n",
       "    </tr>\n",
       "    <tr>\n",
       "      <th>tt0100275</th>\n",
       "      <td>Comedy</td>\n",
       "      <td>Drama</td>\n",
       "      <td>Fantasy</td>\n",
       "    </tr>\n",
       "  </tbody>\n",
       "</table>\n",
       "</div>"
      ]
     },
     "metadata": {},
     "execution_count": 436
    }
   ],
   "metadata": {}
  },
  {
   "cell_type": "markdown",
   "source": [
    "##\r\n",
    "---"
   ],
   "metadata": {}
  },
  {
   "cell_type": "markdown",
   "source": [
    "## 0.4 - Creating a DataFrame (`titleyear_to_id_map`) that Maps *Movie Title* and *Year of Release* to *Movie ID* "
   ],
   "metadata": {}
  },
  {
   "cell_type": "markdown",
   "source": [
    "### 0.4.1 - Initialize `titleyear_to_id_map` by Slicing from the `imbd_titles_df` DataFrame"
   ],
   "metadata": {}
  },
  {
   "cell_type": "code",
   "execution_count": 437,
   "source": [
    "titleyear_to_id_map = imdb_titles_df.loc[:, [\"movie_ID\", \"title\", \"year\"]]"
   ],
   "outputs": [],
   "metadata": {}
  },
  {
   "cell_type": "code",
   "execution_count": 438,
   "source": [
    "titleyear_to_id_map.head()"
   ],
   "outputs": [
    {
     "output_type": "execute_result",
     "data": {
      "text/plain": [
       "    movie_ID                            title  year\n",
       "0  tt0063540                        Sunghursh  2013\n",
       "1  tt0066787  One Day Before the Rainy Season  2019\n",
       "2  tt0069049       The Other Side of the Wind  2018\n",
       "3  tt0069204                  Sabse Bada Sukh  2018\n",
       "4  tt0100275         The Wandering Soap Opera  2017"
      ],
      "text/html": [
       "<div>\n",
       "<style scoped>\n",
       "    .dataframe tbody tr th:only-of-type {\n",
       "        vertical-align: middle;\n",
       "    }\n",
       "\n",
       "    .dataframe tbody tr th {\n",
       "        vertical-align: top;\n",
       "    }\n",
       "\n",
       "    .dataframe thead th {\n",
       "        text-align: right;\n",
       "    }\n",
       "</style>\n",
       "<table border=\"1\" class=\"dataframe\">\n",
       "  <thead>\n",
       "    <tr style=\"text-align: right;\">\n",
       "      <th></th>\n",
       "      <th>movie_ID</th>\n",
       "      <th>title</th>\n",
       "      <th>year</th>\n",
       "    </tr>\n",
       "  </thead>\n",
       "  <tbody>\n",
       "    <tr>\n",
       "      <th>0</th>\n",
       "      <td>tt0063540</td>\n",
       "      <td>Sunghursh</td>\n",
       "      <td>2013</td>\n",
       "    </tr>\n",
       "    <tr>\n",
       "      <th>1</th>\n",
       "      <td>tt0066787</td>\n",
       "      <td>One Day Before the Rainy Season</td>\n",
       "      <td>2019</td>\n",
       "    </tr>\n",
       "    <tr>\n",
       "      <th>2</th>\n",
       "      <td>tt0069049</td>\n",
       "      <td>The Other Side of the Wind</td>\n",
       "      <td>2018</td>\n",
       "    </tr>\n",
       "    <tr>\n",
       "      <th>3</th>\n",
       "      <td>tt0069204</td>\n",
       "      <td>Sabse Bada Sukh</td>\n",
       "      <td>2018</td>\n",
       "    </tr>\n",
       "    <tr>\n",
       "      <th>4</th>\n",
       "      <td>tt0100275</td>\n",
       "      <td>The Wandering Soap Opera</td>\n",
       "      <td>2017</td>\n",
       "    </tr>\n",
       "  </tbody>\n",
       "</table>\n",
       "</div>"
      ]
     },
     "metadata": {},
     "execution_count": 438
    }
   ],
   "metadata": {}
  },
  {
   "cell_type": "markdown",
   "source": [
    "### 0.4.2 - Set the `title` and `year` Columns as the Index of `titleyear_to_id_map`"
   ],
   "metadata": {}
  },
  {
   "cell_type": "code",
   "execution_count": 439,
   "source": [
    "titleyear_to_id_map.set_index([\"title\", \"year\"], inplace=True)"
   ],
   "outputs": [],
   "metadata": {}
  },
  {
   "cell_type": "code",
   "execution_count": 440,
   "source": [
    "titleyear_to_id_map.head()"
   ],
   "outputs": [
    {
     "output_type": "execute_result",
     "data": {
      "text/plain": [
       "                                       movie_ID\n",
       "title                           year           \n",
       "Sunghursh                       2013  tt0063540\n",
       "One Day Before the Rainy Season 2019  tt0066787\n",
       "The Other Side of the Wind      2018  tt0069049\n",
       "Sabse Bada Sukh                 2018  tt0069204\n",
       "The Wandering Soap Opera        2017  tt0100275"
      ],
      "text/html": [
       "<div>\n",
       "<style scoped>\n",
       "    .dataframe tbody tr th:only-of-type {\n",
       "        vertical-align: middle;\n",
       "    }\n",
       "\n",
       "    .dataframe tbody tr th {\n",
       "        vertical-align: top;\n",
       "    }\n",
       "\n",
       "    .dataframe thead th {\n",
       "        text-align: right;\n",
       "    }\n",
       "</style>\n",
       "<table border=\"1\" class=\"dataframe\">\n",
       "  <thead>\n",
       "    <tr style=\"text-align: right;\">\n",
       "      <th></th>\n",
       "      <th></th>\n",
       "      <th>movie_ID</th>\n",
       "    </tr>\n",
       "    <tr>\n",
       "      <th>title</th>\n",
       "      <th>year</th>\n",
       "      <th></th>\n",
       "    </tr>\n",
       "  </thead>\n",
       "  <tbody>\n",
       "    <tr>\n",
       "      <th>Sunghursh</th>\n",
       "      <th>2013</th>\n",
       "      <td>tt0063540</td>\n",
       "    </tr>\n",
       "    <tr>\n",
       "      <th>One Day Before the Rainy Season</th>\n",
       "      <th>2019</th>\n",
       "      <td>tt0066787</td>\n",
       "    </tr>\n",
       "    <tr>\n",
       "      <th>The Other Side of the Wind</th>\n",
       "      <th>2018</th>\n",
       "      <td>tt0069049</td>\n",
       "    </tr>\n",
       "    <tr>\n",
       "      <th>Sabse Bada Sukh</th>\n",
       "      <th>2018</th>\n",
       "      <td>tt0069204</td>\n",
       "    </tr>\n",
       "    <tr>\n",
       "      <th>The Wandering Soap Opera</th>\n",
       "      <th>2017</th>\n",
       "      <td>tt0100275</td>\n",
       "    </tr>\n",
       "  </tbody>\n",
       "</table>\n",
       "</div>"
      ]
     },
     "metadata": {},
     "execution_count": 440
    }
   ],
   "metadata": {}
  },
  {
   "cell_type": "markdown",
   "source": [
    "##\r\n",
    "---"
   ],
   "metadata": {}
  },
  {
   "cell_type": "markdown",
   "source": [
    "## 0.5 - Importing and Cleaning the Dataset in `tn.movie_budgets.csv`"
   ],
   "metadata": {}
  },
  {
   "cell_type": "markdown",
   "source": [
    "### 0.5.1 - Import the Dataset in `tn.movie_budgets.csv`"
   ],
   "metadata": {}
  },
  {
   "cell_type": "code",
   "execution_count": 441,
   "source": [
    "tn_movie_budgets_df = pd.read_csv(\"data/tn.movie_budgets.csv\")"
   ],
   "outputs": [],
   "metadata": {}
  },
  {
   "cell_type": "code",
   "execution_count": 442,
   "source": [
    "tn_movie_budgets_df.info()"
   ],
   "outputs": [
    {
     "output_type": "stream",
     "name": "stdout",
     "text": [
      "<class 'pandas.core.frame.DataFrame'>\n",
      "RangeIndex: 5782 entries, 0 to 5781\n",
      "Data columns (total 6 columns):\n",
      " #   Column             Non-Null Count  Dtype \n",
      "---  ------             --------------  ----- \n",
      " 0   id                 5782 non-null   int64 \n",
      " 1   release_date       5782 non-null   object\n",
      " 2   movie              5782 non-null   object\n",
      " 3   production_budget  5782 non-null   object\n",
      " 4   domestic_gross     5782 non-null   object\n",
      " 5   worldwide_gross    5782 non-null   object\n",
      "dtypes: int64(1), object(5)\n",
      "memory usage: 271.2+ KB\n"
     ]
    }
   ],
   "metadata": {}
  },
  {
   "cell_type": "markdown",
   "source": [
    "### 0.5.2 - Drop the Unnecessary Columns from `tn.movie_budgets.csv`"
   ],
   "metadata": {}
  },
  {
   "cell_type": "code",
   "execution_count": 443,
   "source": [
    "tn_movie_budgets_df.drop([\"id\", \"domestic_gross\"], axis=1, inplace=True)"
   ],
   "outputs": [],
   "metadata": {}
  },
  {
   "cell_type": "code",
   "execution_count": 444,
   "source": [
    "tn_movie_budgets_df.head()"
   ],
   "outputs": [
    {
     "output_type": "execute_result",
     "data": {
      "text/plain": [
       "   release_date                                        movie  \\\n",
       "0  Dec 18, 2009                                       Avatar   \n",
       "1  May 20, 2011  Pirates of the Caribbean: On Stranger Tides   \n",
       "2   Jun 7, 2019                                 Dark Phoenix   \n",
       "3   May 1, 2015                      Avengers: Age of Ultron   \n",
       "4  Dec 15, 2017            Star Wars Ep. VIII: The Last Jedi   \n",
       "\n",
       "  production_budget worldwide_gross  \n",
       "0      $425,000,000  $2,776,345,279  \n",
       "1      $410,600,000  $1,045,663,875  \n",
       "2      $350,000,000    $149,762,350  \n",
       "3      $330,600,000  $1,403,013,963  \n",
       "4      $317,000,000  $1,316,721,747  "
      ],
      "text/html": [
       "<div>\n",
       "<style scoped>\n",
       "    .dataframe tbody tr th:only-of-type {\n",
       "        vertical-align: middle;\n",
       "    }\n",
       "\n",
       "    .dataframe tbody tr th {\n",
       "        vertical-align: top;\n",
       "    }\n",
       "\n",
       "    .dataframe thead th {\n",
       "        text-align: right;\n",
       "    }\n",
       "</style>\n",
       "<table border=\"1\" class=\"dataframe\">\n",
       "  <thead>\n",
       "    <tr style=\"text-align: right;\">\n",
       "      <th></th>\n",
       "      <th>release_date</th>\n",
       "      <th>movie</th>\n",
       "      <th>production_budget</th>\n",
       "      <th>worldwide_gross</th>\n",
       "    </tr>\n",
       "  </thead>\n",
       "  <tbody>\n",
       "    <tr>\n",
       "      <th>0</th>\n",
       "      <td>Dec 18, 2009</td>\n",
       "      <td>Avatar</td>\n",
       "      <td>$425,000,000</td>\n",
       "      <td>$2,776,345,279</td>\n",
       "    </tr>\n",
       "    <tr>\n",
       "      <th>1</th>\n",
       "      <td>May 20, 2011</td>\n",
       "      <td>Pirates of the Caribbean: On Stranger Tides</td>\n",
       "      <td>$410,600,000</td>\n",
       "      <td>$1,045,663,875</td>\n",
       "    </tr>\n",
       "    <tr>\n",
       "      <th>2</th>\n",
       "      <td>Jun 7, 2019</td>\n",
       "      <td>Dark Phoenix</td>\n",
       "      <td>$350,000,000</td>\n",
       "      <td>$149,762,350</td>\n",
       "    </tr>\n",
       "    <tr>\n",
       "      <th>3</th>\n",
       "      <td>May 1, 2015</td>\n",
       "      <td>Avengers: Age of Ultron</td>\n",
       "      <td>$330,600,000</td>\n",
       "      <td>$1,403,013,963</td>\n",
       "    </tr>\n",
       "    <tr>\n",
       "      <th>4</th>\n",
       "      <td>Dec 15, 2017</td>\n",
       "      <td>Star Wars Ep. VIII: The Last Jedi</td>\n",
       "      <td>$317,000,000</td>\n",
       "      <td>$1,316,721,747</td>\n",
       "    </tr>\n",
       "  </tbody>\n",
       "</table>\n",
       "</div>"
      ]
     },
     "metadata": {},
     "execution_count": 444
    }
   ],
   "metadata": {}
  },
  {
   "cell_type": "markdown",
   "source": [
    "### 0.5.3 - Discard the Day and Month of each Date in the `release_date` Column"
   ],
   "metadata": {}
  },
  {
   "cell_type": "code",
   "execution_count": 445,
   "source": [
    "tn_movie_budgets_df[\"release_date\"].head()"
   ],
   "outputs": [
    {
     "output_type": "execute_result",
     "data": {
      "text/plain": [
       "0    Dec 18, 2009\n",
       "1    May 20, 2011\n",
       "2     Jun 7, 2019\n",
       "3     May 1, 2015\n",
       "4    Dec 15, 2017\n",
       "Name: release_date, dtype: object"
      ]
     },
     "metadata": {},
     "execution_count": 445
    }
   ],
   "metadata": {}
  },
  {
   "cell_type": "code",
   "execution_count": 446,
   "source": [
    "tn_movie_budgets_df[\"release_date\"] = tn_movie_budgets_df[\"release_date\"].str.split(' ').map(lambda x: int(x[-1]))"
   ],
   "outputs": [],
   "metadata": {}
  },
  {
   "cell_type": "code",
   "execution_count": 447,
   "source": [
    "tn_movie_budgets_df[\"release_date\"].head()"
   ],
   "outputs": [
    {
     "output_type": "execute_result",
     "data": {
      "text/plain": [
       "0    2009\n",
       "1    2011\n",
       "2    2019\n",
       "3    2015\n",
       "4    2017\n",
       "Name: release_date, dtype: int64"
      ]
     },
     "metadata": {},
     "execution_count": 447
    }
   ],
   "metadata": {}
  },
  {
   "cell_type": "markdown",
   "source": [
    "### 0.5.4 - Rename the Relevant Columns of `tn.movie_budgets.csv`"
   ],
   "metadata": {}
  },
  {
   "cell_type": "code",
   "execution_count": 448,
   "source": [
    "tn_movie_budgets_df.columns"
   ],
   "outputs": [
    {
     "output_type": "execute_result",
     "data": {
      "text/plain": [
       "Index(['release_date', 'movie', 'production_budget', 'worldwide_gross'], dtype='object')"
      ]
     },
     "metadata": {},
     "execution_count": 448
    }
   ],
   "metadata": {}
  },
  {
   "cell_type": "code",
   "execution_count": 449,
   "source": [
    "tn_movie_budgets_df.rename(columns={\"release_date\": \"year\", \"movie\": \"title\", \"worldwide_gross\": \"gross_income\"}, inplace=True)"
   ],
   "outputs": [],
   "metadata": {}
  },
  {
   "cell_type": "code",
   "execution_count": 450,
   "source": [
    "tn_movie_budgets_df.columns"
   ],
   "outputs": [
    {
     "output_type": "execute_result",
     "data": {
      "text/plain": [
       "Index(['year', 'title', 'production_budget', 'gross_income'], dtype='object')"
      ]
     },
     "metadata": {},
     "execution_count": 450
    }
   ],
   "metadata": {}
  },
  {
   "cell_type": "markdown",
   "source": [
    "### 0.5.5 - Reformat the Entries in the `production_budget` and `gross_income` Columns as Integers"
   ],
   "metadata": {}
  },
  {
   "cell_type": "code",
   "execution_count": 451,
   "source": [
    "tn_movie_budgets_df[[\"production_budget\", \"gross_income\"]]"
   ],
   "outputs": [
    {
     "output_type": "execute_result",
     "data": {
      "text/plain": [
       "     production_budget    gross_income\n",
       "0         $425,000,000  $2,776,345,279\n",
       "1         $410,600,000  $1,045,663,875\n",
       "2         $350,000,000    $149,762,350\n",
       "3         $330,600,000  $1,403,013,963\n",
       "4         $317,000,000  $1,316,721,747\n",
       "...                ...             ...\n",
       "5777            $7,000              $0\n",
       "5778            $6,000        $240,495\n",
       "5779            $5,000          $1,338\n",
       "5780            $1,400              $0\n",
       "5781            $1,100        $181,041\n",
       "\n",
       "[5782 rows x 2 columns]"
      ],
      "text/html": [
       "<div>\n",
       "<style scoped>\n",
       "    .dataframe tbody tr th:only-of-type {\n",
       "        vertical-align: middle;\n",
       "    }\n",
       "\n",
       "    .dataframe tbody tr th {\n",
       "        vertical-align: top;\n",
       "    }\n",
       "\n",
       "    .dataframe thead th {\n",
       "        text-align: right;\n",
       "    }\n",
       "</style>\n",
       "<table border=\"1\" class=\"dataframe\">\n",
       "  <thead>\n",
       "    <tr style=\"text-align: right;\">\n",
       "      <th></th>\n",
       "      <th>production_budget</th>\n",
       "      <th>gross_income</th>\n",
       "    </tr>\n",
       "  </thead>\n",
       "  <tbody>\n",
       "    <tr>\n",
       "      <th>0</th>\n",
       "      <td>$425,000,000</td>\n",
       "      <td>$2,776,345,279</td>\n",
       "    </tr>\n",
       "    <tr>\n",
       "      <th>1</th>\n",
       "      <td>$410,600,000</td>\n",
       "      <td>$1,045,663,875</td>\n",
       "    </tr>\n",
       "    <tr>\n",
       "      <th>2</th>\n",
       "      <td>$350,000,000</td>\n",
       "      <td>$149,762,350</td>\n",
       "    </tr>\n",
       "    <tr>\n",
       "      <th>3</th>\n",
       "      <td>$330,600,000</td>\n",
       "      <td>$1,403,013,963</td>\n",
       "    </tr>\n",
       "    <tr>\n",
       "      <th>4</th>\n",
       "      <td>$317,000,000</td>\n",
       "      <td>$1,316,721,747</td>\n",
       "    </tr>\n",
       "    <tr>\n",
       "      <th>...</th>\n",
       "      <td>...</td>\n",
       "      <td>...</td>\n",
       "    </tr>\n",
       "    <tr>\n",
       "      <th>5777</th>\n",
       "      <td>$7,000</td>\n",
       "      <td>$0</td>\n",
       "    </tr>\n",
       "    <tr>\n",
       "      <th>5778</th>\n",
       "      <td>$6,000</td>\n",
       "      <td>$240,495</td>\n",
       "    </tr>\n",
       "    <tr>\n",
       "      <th>5779</th>\n",
       "      <td>$5,000</td>\n",
       "      <td>$1,338</td>\n",
       "    </tr>\n",
       "    <tr>\n",
       "      <th>5780</th>\n",
       "      <td>$1,400</td>\n",
       "      <td>$0</td>\n",
       "    </tr>\n",
       "    <tr>\n",
       "      <th>5781</th>\n",
       "      <td>$1,100</td>\n",
       "      <td>$181,041</td>\n",
       "    </tr>\n",
       "  </tbody>\n",
       "</table>\n",
       "<p>5782 rows × 2 columns</p>\n",
       "</div>"
      ]
     },
     "metadata": {},
     "execution_count": 451
    }
   ],
   "metadata": {}
  },
  {
   "cell_type": "code",
   "execution_count": 452,
   "source": [
    "tn_movie_budgets_df[[\"production_budget\", \"gross_income\"]].info()\r\n"
   ],
   "outputs": [
    {
     "output_type": "stream",
     "name": "stdout",
     "text": [
      "<class 'pandas.core.frame.DataFrame'>\n",
      "RangeIndex: 5782 entries, 0 to 5781\n",
      "Data columns (total 2 columns):\n",
      " #   Column             Non-Null Count  Dtype \n",
      "---  ------             --------------  ----- \n",
      " 0   production_budget  5782 non-null   object\n",
      " 1   gross_income       5782 non-null   object\n",
      "dtypes: object(2)\n",
      "memory usage: 90.5+ KB\n"
     ]
    }
   ],
   "metadata": {}
  },
  {
   "cell_type": "code",
   "execution_count": 453,
   "source": [
    "tn_movie_budgets_df[\"production_budget\"] = tn_movie_budgets_df[\"production_budget\"].str.replace(\"[$,]\", '', regex=True).map(lambda x: int(x))\r\n",
    "tn_movie_budgets_df[\"gross_income\"] = tn_movie_budgets_df[\"gross_income\"].str.replace(\"[$,]\", '', regex=True).map(lambda x: int(x))"
   ],
   "outputs": [],
   "metadata": {}
  },
  {
   "cell_type": "code",
   "execution_count": 454,
   "source": [
    "tn_movie_budgets_df[[\"production_budget\", \"gross_income\"]].info()"
   ],
   "outputs": [
    {
     "output_type": "stream",
     "name": "stdout",
     "text": [
      "<class 'pandas.core.frame.DataFrame'>\n",
      "RangeIndex: 5782 entries, 0 to 5781\n",
      "Data columns (total 2 columns):\n",
      " #   Column             Non-Null Count  Dtype\n",
      "---  ------             --------------  -----\n",
      " 0   production_budget  5782 non-null   int64\n",
      " 1   gross_income       5782 non-null   int64\n",
      "dtypes: int64(2)\n",
      "memory usage: 90.5 KB\n"
     ]
    }
   ],
   "metadata": {}
  },
  {
   "cell_type": "markdown",
   "source": [
    "### 0.5.6 - Drop Rows with a Null Value in the `production_budget` or `gross_income` Column"
   ],
   "metadata": {}
  },
  {
   "cell_type": "code",
   "execution_count": 455,
   "source": [
    "print(0 in tn_movie_budgets_df[\"production_budget\"].unique())\r\n",
    "print(0 in tn_movie_budgets_df[\"gross_income\"].unique())"
   ],
   "outputs": [
    {
     "output_type": "stream",
     "name": "stdout",
     "text": [
      "False\n",
      "True\n"
     ]
    }
   ],
   "metadata": {}
  },
  {
   "cell_type": "code",
   "execution_count": 456,
   "source": [
    "tn_movie_budgets_df[\"gross_income\"].value_counts()[0]"
   ],
   "outputs": [
    {
     "output_type": "execute_result",
     "data": {
      "text/plain": [
       "367"
      ]
     },
     "metadata": {},
     "execution_count": 456
    }
   ],
   "metadata": {}
  },
  {
   "cell_type": "code",
   "execution_count": 457,
   "source": [
    "tn_movie_budgets_df = tn_movie_budgets_df[tn_movie_budgets_df[\"gross_income\"] > 0]"
   ],
   "outputs": [],
   "metadata": {}
  },
  {
   "cell_type": "code",
   "execution_count": 458,
   "source": [
    "print(0 in tn_movie_budgets_df[\"gross_income\"].unique())"
   ],
   "outputs": [
    {
     "output_type": "stream",
     "name": "stdout",
     "text": [
      "False\n"
     ]
    }
   ],
   "metadata": {}
  },
  {
   "cell_type": "markdown",
   "source": [
    "##\r\n",
    "---"
   ],
   "metadata": {}
  },
  {
   "cell_type": "markdown",
   "source": [
    "## 0.6 - Creating a DataFrame (`id_to_financials_map`) that Maps *Movie ID* to *Production Budget*, *Gross Income*, *Net Income*, and *Cost-to-Income Ratio*"
   ],
   "metadata": {}
  },
  {
   "cell_type": "markdown",
   "source": [
    "### 0.6.1 - Set the `title` and `year` Columns as the Index of `tn_movie_budgets_df`"
   ],
   "metadata": {}
  },
  {
   "cell_type": "code",
   "execution_count": 459,
   "source": [
    "tn_movie_budgets_df.set_index([\"title\", \"year\"], inplace=True)"
   ],
   "outputs": [],
   "metadata": {}
  },
  {
   "cell_type": "code",
   "execution_count": 460,
   "source": [
    "tn_movie_budgets_df.head()"
   ],
   "outputs": [
    {
     "output_type": "execute_result",
     "data": {
      "text/plain": [
       "                                                  production_budget  \\\n",
       "title                                       year                      \n",
       "Avatar                                      2009          425000000   \n",
       "Pirates of the Caribbean: On Stranger Tides 2011          410600000   \n",
       "Dark Phoenix                                2019          350000000   \n",
       "Avengers: Age of Ultron                     2015          330600000   \n",
       "Star Wars Ep. VIII: The Last Jedi           2017          317000000   \n",
       "\n",
       "                                                  gross_income  \n",
       "title                                       year                \n",
       "Avatar                                      2009    2776345279  \n",
       "Pirates of the Caribbean: On Stranger Tides 2011    1045663875  \n",
       "Dark Phoenix                                2019     149762350  \n",
       "Avengers: Age of Ultron                     2015    1403013963  \n",
       "Star Wars Ep. VIII: The Last Jedi           2017    1316721747  "
      ],
      "text/html": [
       "<div>\n",
       "<style scoped>\n",
       "    .dataframe tbody tr th:only-of-type {\n",
       "        vertical-align: middle;\n",
       "    }\n",
       "\n",
       "    .dataframe tbody tr th {\n",
       "        vertical-align: top;\n",
       "    }\n",
       "\n",
       "    .dataframe thead th {\n",
       "        text-align: right;\n",
       "    }\n",
       "</style>\n",
       "<table border=\"1\" class=\"dataframe\">\n",
       "  <thead>\n",
       "    <tr style=\"text-align: right;\">\n",
       "      <th></th>\n",
       "      <th></th>\n",
       "      <th>production_budget</th>\n",
       "      <th>gross_income</th>\n",
       "    </tr>\n",
       "    <tr>\n",
       "      <th>title</th>\n",
       "      <th>year</th>\n",
       "      <th></th>\n",
       "      <th></th>\n",
       "    </tr>\n",
       "  </thead>\n",
       "  <tbody>\n",
       "    <tr>\n",
       "      <th>Avatar</th>\n",
       "      <th>2009</th>\n",
       "      <td>425000000</td>\n",
       "      <td>2776345279</td>\n",
       "    </tr>\n",
       "    <tr>\n",
       "      <th>Pirates of the Caribbean: On Stranger Tides</th>\n",
       "      <th>2011</th>\n",
       "      <td>410600000</td>\n",
       "      <td>1045663875</td>\n",
       "    </tr>\n",
       "    <tr>\n",
       "      <th>Dark Phoenix</th>\n",
       "      <th>2019</th>\n",
       "      <td>350000000</td>\n",
       "      <td>149762350</td>\n",
       "    </tr>\n",
       "    <tr>\n",
       "      <th>Avengers: Age of Ultron</th>\n",
       "      <th>2015</th>\n",
       "      <td>330600000</td>\n",
       "      <td>1403013963</td>\n",
       "    </tr>\n",
       "    <tr>\n",
       "      <th>Star Wars Ep. VIII: The Last Jedi</th>\n",
       "      <th>2017</th>\n",
       "      <td>317000000</td>\n",
       "      <td>1316721747</td>\n",
       "    </tr>\n",
       "  </tbody>\n",
       "</table>\n",
       "</div>"
      ]
     },
     "metadata": {},
     "execution_count": 460
    }
   ],
   "metadata": {}
  },
  {
   "cell_type": "markdown",
   "source": [
    "### 0.6.2 - Append the Column with the Associated *Movie ID*  for each *Title* and *Year of Release* by Joining `titleyear_to_id_map` with `tn_movie_budgets_df`"
   ],
   "metadata": {}
  },
  {
   "cell_type": "code",
   "execution_count": 461,
   "source": [
    "tn_movie_budgets_df = tn_movie_budgets_df.join(titleyear_to_id_map, how='inner')"
   ],
   "outputs": [],
   "metadata": {}
  },
  {
   "cell_type": "code",
   "execution_count": 462,
   "source": [
    "tn_movie_budgets_df.head()"
   ],
   "outputs": [
    {
     "output_type": "execute_result",
     "data": {
      "text/plain": [
       "                            production_budget  gross_income   movie_ID\n",
       "title                 year                                            \n",
       "10 Cloverfield Lane   2016            5000000     108286422  tt1179933\n",
       "10 Days in a Madhouse 2015           12000000         14616  tt3453052\n",
       "12 Strong             2018           35000000      71118378  tt1413492\n",
       "12 Years a Slave      2013           20000000     181025343  tt2024544\n",
       "127 Hours             2010           18000000      60217171  tt1542344"
      ],
      "text/html": [
       "<div>\n",
       "<style scoped>\n",
       "    .dataframe tbody tr th:only-of-type {\n",
       "        vertical-align: middle;\n",
       "    }\n",
       "\n",
       "    .dataframe tbody tr th {\n",
       "        vertical-align: top;\n",
       "    }\n",
       "\n",
       "    .dataframe thead th {\n",
       "        text-align: right;\n",
       "    }\n",
       "</style>\n",
       "<table border=\"1\" class=\"dataframe\">\n",
       "  <thead>\n",
       "    <tr style=\"text-align: right;\">\n",
       "      <th></th>\n",
       "      <th></th>\n",
       "      <th>production_budget</th>\n",
       "      <th>gross_income</th>\n",
       "      <th>movie_ID</th>\n",
       "    </tr>\n",
       "    <tr>\n",
       "      <th>title</th>\n",
       "      <th>year</th>\n",
       "      <th></th>\n",
       "      <th></th>\n",
       "      <th></th>\n",
       "    </tr>\n",
       "  </thead>\n",
       "  <tbody>\n",
       "    <tr>\n",
       "      <th>10 Cloverfield Lane</th>\n",
       "      <th>2016</th>\n",
       "      <td>5000000</td>\n",
       "      <td>108286422</td>\n",
       "      <td>tt1179933</td>\n",
       "    </tr>\n",
       "    <tr>\n",
       "      <th>10 Days in a Madhouse</th>\n",
       "      <th>2015</th>\n",
       "      <td>12000000</td>\n",
       "      <td>14616</td>\n",
       "      <td>tt3453052</td>\n",
       "    </tr>\n",
       "    <tr>\n",
       "      <th>12 Strong</th>\n",
       "      <th>2018</th>\n",
       "      <td>35000000</td>\n",
       "      <td>71118378</td>\n",
       "      <td>tt1413492</td>\n",
       "    </tr>\n",
       "    <tr>\n",
       "      <th>12 Years a Slave</th>\n",
       "      <th>2013</th>\n",
       "      <td>20000000</td>\n",
       "      <td>181025343</td>\n",
       "      <td>tt2024544</td>\n",
       "    </tr>\n",
       "    <tr>\n",
       "      <th>127 Hours</th>\n",
       "      <th>2010</th>\n",
       "      <td>18000000</td>\n",
       "      <td>60217171</td>\n",
       "      <td>tt1542344</td>\n",
       "    </tr>\n",
       "  </tbody>\n",
       "</table>\n",
       "</div>"
      ]
     },
     "metadata": {},
     "execution_count": 462
    }
   ],
   "metadata": {}
  },
  {
   "cell_type": "markdown",
   "source": [
    "### 0.6.3 - Set the `movie_ID` Column as the Index of `tn_movie_budgets_df`"
   ],
   "metadata": {}
  },
  {
   "cell_type": "code",
   "execution_count": 463,
   "source": [
    "tn_movie_budgets_df.set_index(\"movie_ID\", inplace=True)"
   ],
   "outputs": [],
   "metadata": {}
  },
  {
   "cell_type": "code",
   "execution_count": 464,
   "source": [
    "tn_movie_budgets_df.head()"
   ],
   "outputs": [
    {
     "output_type": "execute_result",
     "data": {
      "text/plain": [
       "           production_budget  gross_income\n",
       "movie_ID                                  \n",
       "tt1179933            5000000     108286422\n",
       "tt3453052           12000000         14616\n",
       "tt1413492           35000000      71118378\n",
       "tt2024544           20000000     181025343\n",
       "tt1542344           18000000      60217171"
      ],
      "text/html": [
       "<div>\n",
       "<style scoped>\n",
       "    .dataframe tbody tr th:only-of-type {\n",
       "        vertical-align: middle;\n",
       "    }\n",
       "\n",
       "    .dataframe tbody tr th {\n",
       "        vertical-align: top;\n",
       "    }\n",
       "\n",
       "    .dataframe thead th {\n",
       "        text-align: right;\n",
       "    }\n",
       "</style>\n",
       "<table border=\"1\" class=\"dataframe\">\n",
       "  <thead>\n",
       "    <tr style=\"text-align: right;\">\n",
       "      <th></th>\n",
       "      <th>production_budget</th>\n",
       "      <th>gross_income</th>\n",
       "    </tr>\n",
       "    <tr>\n",
       "      <th>movie_ID</th>\n",
       "      <th></th>\n",
       "      <th></th>\n",
       "    </tr>\n",
       "  </thead>\n",
       "  <tbody>\n",
       "    <tr>\n",
       "      <th>tt1179933</th>\n",
       "      <td>5000000</td>\n",
       "      <td>108286422</td>\n",
       "    </tr>\n",
       "    <tr>\n",
       "      <th>tt3453052</th>\n",
       "      <td>12000000</td>\n",
       "      <td>14616</td>\n",
       "    </tr>\n",
       "    <tr>\n",
       "      <th>tt1413492</th>\n",
       "      <td>35000000</td>\n",
       "      <td>71118378</td>\n",
       "    </tr>\n",
       "    <tr>\n",
       "      <th>tt2024544</th>\n",
       "      <td>20000000</td>\n",
       "      <td>181025343</td>\n",
       "    </tr>\n",
       "    <tr>\n",
       "      <th>tt1542344</th>\n",
       "      <td>18000000</td>\n",
       "      <td>60217171</td>\n",
       "    </tr>\n",
       "  </tbody>\n",
       "</table>\n",
       "</div>"
      ]
     },
     "metadata": {},
     "execution_count": 464
    }
   ],
   "metadata": {}
  },
  {
   "cell_type": "markdown",
   "source": [
    "### 0.6.4 - Feature Engineering: Create the *Net Income* and *Cost-to-Income Ratio* Features"
   ],
   "metadata": {}
  },
  {
   "cell_type": "code",
   "execution_count": 465,
   "source": [
    "tn_movie_budgets_df[\"net_income\"] = tn_movie_budgets_df[\"gross_income\"] - tn_movie_budgets_df[\"production_budget\"]\r\n",
    "tn_movie_budgets_df[\"cost_income_ratio\"] = tn_movie_budgets_df[\"production_budget\"] / tn_movie_budgets_df[\"gross_income\"] "
   ],
   "outputs": [],
   "metadata": {}
  },
  {
   "cell_type": "code",
   "execution_count": 466,
   "source": [
    "tn_movie_budgets_df.head()"
   ],
   "outputs": [
    {
     "output_type": "execute_result",
     "data": {
      "text/plain": [
       "           production_budget  gross_income  net_income  cost_income_ratio\n",
       "movie_ID                                                                 \n",
       "tt1179933            5000000     108286422   103286422           0.046174\n",
       "tt3453052           12000000         14616   -11985384         821.018062\n",
       "tt1413492           35000000      71118378    36118378           0.492137\n",
       "tt2024544           20000000     181025343   161025343           0.110482\n",
       "tt1542344           18000000      60217171    42217171           0.298918"
      ],
      "text/html": [
       "<div>\n",
       "<style scoped>\n",
       "    .dataframe tbody tr th:only-of-type {\n",
       "        vertical-align: middle;\n",
       "    }\n",
       "\n",
       "    .dataframe tbody tr th {\n",
       "        vertical-align: top;\n",
       "    }\n",
       "\n",
       "    .dataframe thead th {\n",
       "        text-align: right;\n",
       "    }\n",
       "</style>\n",
       "<table border=\"1\" class=\"dataframe\">\n",
       "  <thead>\n",
       "    <tr style=\"text-align: right;\">\n",
       "      <th></th>\n",
       "      <th>production_budget</th>\n",
       "      <th>gross_income</th>\n",
       "      <th>net_income</th>\n",
       "      <th>cost_income_ratio</th>\n",
       "    </tr>\n",
       "    <tr>\n",
       "      <th>movie_ID</th>\n",
       "      <th></th>\n",
       "      <th></th>\n",
       "      <th></th>\n",
       "      <th></th>\n",
       "    </tr>\n",
       "  </thead>\n",
       "  <tbody>\n",
       "    <tr>\n",
       "      <th>tt1179933</th>\n",
       "      <td>5000000</td>\n",
       "      <td>108286422</td>\n",
       "      <td>103286422</td>\n",
       "      <td>0.046174</td>\n",
       "    </tr>\n",
       "    <tr>\n",
       "      <th>tt3453052</th>\n",
       "      <td>12000000</td>\n",
       "      <td>14616</td>\n",
       "      <td>-11985384</td>\n",
       "      <td>821.018062</td>\n",
       "    </tr>\n",
       "    <tr>\n",
       "      <th>tt1413492</th>\n",
       "      <td>35000000</td>\n",
       "      <td>71118378</td>\n",
       "      <td>36118378</td>\n",
       "      <td>0.492137</td>\n",
       "    </tr>\n",
       "    <tr>\n",
       "      <th>tt2024544</th>\n",
       "      <td>20000000</td>\n",
       "      <td>181025343</td>\n",
       "      <td>161025343</td>\n",
       "      <td>0.110482</td>\n",
       "    </tr>\n",
       "    <tr>\n",
       "      <th>tt1542344</th>\n",
       "      <td>18000000</td>\n",
       "      <td>60217171</td>\n",
       "      <td>42217171</td>\n",
       "      <td>0.298918</td>\n",
       "    </tr>\n",
       "  </tbody>\n",
       "</table>\n",
       "</div>"
      ]
     },
     "metadata": {},
     "execution_count": 466
    }
   ],
   "metadata": {}
  },
  {
   "cell_type": "markdown",
   "source": [
    "### 0.6.5 - View the Cleaned `tn.movie_budgets.csv` DataFrame"
   ],
   "metadata": {}
  },
  {
   "cell_type": "code",
   "execution_count": 467,
   "source": [
    "tn_movie_budgets_df.head()"
   ],
   "outputs": [
    {
     "output_type": "execute_result",
     "data": {
      "text/plain": [
       "           production_budget  gross_income  net_income  cost_income_ratio\n",
       "movie_ID                                                                 \n",
       "tt1179933            5000000     108286422   103286422           0.046174\n",
       "tt3453052           12000000         14616   -11985384         821.018062\n",
       "tt1413492           35000000      71118378    36118378           0.492137\n",
       "tt2024544           20000000     181025343   161025343           0.110482\n",
       "tt1542344           18000000      60217171    42217171           0.298918"
      ],
      "text/html": [
       "<div>\n",
       "<style scoped>\n",
       "    .dataframe tbody tr th:only-of-type {\n",
       "        vertical-align: middle;\n",
       "    }\n",
       "\n",
       "    .dataframe tbody tr th {\n",
       "        vertical-align: top;\n",
       "    }\n",
       "\n",
       "    .dataframe thead th {\n",
       "        text-align: right;\n",
       "    }\n",
       "</style>\n",
       "<table border=\"1\" class=\"dataframe\">\n",
       "  <thead>\n",
       "    <tr style=\"text-align: right;\">\n",
       "      <th></th>\n",
       "      <th>production_budget</th>\n",
       "      <th>gross_income</th>\n",
       "      <th>net_income</th>\n",
       "      <th>cost_income_ratio</th>\n",
       "    </tr>\n",
       "    <tr>\n",
       "      <th>movie_ID</th>\n",
       "      <th></th>\n",
       "      <th></th>\n",
       "      <th></th>\n",
       "      <th></th>\n",
       "    </tr>\n",
       "  </thead>\n",
       "  <tbody>\n",
       "    <tr>\n",
       "      <th>tt1179933</th>\n",
       "      <td>5000000</td>\n",
       "      <td>108286422</td>\n",
       "      <td>103286422</td>\n",
       "      <td>0.046174</td>\n",
       "    </tr>\n",
       "    <tr>\n",
       "      <th>tt3453052</th>\n",
       "      <td>12000000</td>\n",
       "      <td>14616</td>\n",
       "      <td>-11985384</td>\n",
       "      <td>821.018062</td>\n",
       "    </tr>\n",
       "    <tr>\n",
       "      <th>tt1413492</th>\n",
       "      <td>35000000</td>\n",
       "      <td>71118378</td>\n",
       "      <td>36118378</td>\n",
       "      <td>0.492137</td>\n",
       "    </tr>\n",
       "    <tr>\n",
       "      <th>tt2024544</th>\n",
       "      <td>20000000</td>\n",
       "      <td>181025343</td>\n",
       "      <td>161025343</td>\n",
       "      <td>0.110482</td>\n",
       "    </tr>\n",
       "    <tr>\n",
       "      <th>tt1542344</th>\n",
       "      <td>18000000</td>\n",
       "      <td>60217171</td>\n",
       "      <td>42217171</td>\n",
       "      <td>0.298918</td>\n",
       "    </tr>\n",
       "  </tbody>\n",
       "</table>\n",
       "</div>"
      ]
     },
     "metadata": {},
     "execution_count": 467
    }
   ],
   "metadata": {}
  },
  {
   "cell_type": "markdown",
   "source": [
    "### 0.6.6 - Rename the Cleaned `tn_movie_budgets_df` DataFrame to `id_to_financials_map` [Needed for Question 3]"
   ],
   "metadata": {}
  },
  {
   "cell_type": "code",
   "execution_count": 468,
   "source": [
    "id_to_financials_map = tn_movie_budgets_df\r\n",
    "del tn_movie_budgets_df"
   ],
   "outputs": [],
   "metadata": {}
  },
  {
   "cell_type": "markdown",
   "source": [
    "##\r\n",
    "---"
   ],
   "metadata": {}
  },
  {
   "cell_type": "markdown",
   "source": [
    "## 0.7 - Importing and Cleaning the Dataset in `tmdb.movies.csv`"
   ],
   "metadata": {}
  },
  {
   "cell_type": "markdown",
   "source": [
    "### 0.7.1 - Import the Dataset in `tmdb.movies.csv`"
   ],
   "metadata": {}
  },
  {
   "cell_type": "code",
   "execution_count": 469,
   "source": [
    "tmdb_movies_df = pd.read_csv(\"data/tmdb.movies.csv\")"
   ],
   "outputs": [],
   "metadata": {}
  },
  {
   "cell_type": "code",
   "execution_count": 470,
   "source": [
    "tmdb_movies_df.info()"
   ],
   "outputs": [
    {
     "output_type": "stream",
     "name": "stdout",
     "text": [
      "<class 'pandas.core.frame.DataFrame'>\n",
      "RangeIndex: 26517 entries, 0 to 26516\n",
      "Data columns (total 10 columns):\n",
      " #   Column             Non-Null Count  Dtype  \n",
      "---  ------             --------------  -----  \n",
      " 0   Unnamed: 0         26517 non-null  int64  \n",
      " 1   genre_ids          26517 non-null  object \n",
      " 2   id                 26517 non-null  int64  \n",
      " 3   original_language  26517 non-null  object \n",
      " 4   original_title     26517 non-null  object \n",
      " 5   popularity         26517 non-null  float64\n",
      " 6   release_date       26517 non-null  object \n",
      " 7   title              26517 non-null  object \n",
      " 8   vote_average       26517 non-null  float64\n",
      " 9   vote_count         26517 non-null  int64  \n",
      "dtypes: float64(2), int64(3), object(5)\n",
      "memory usage: 2.0+ MB\n"
     ]
    }
   ],
   "metadata": {}
  },
  {
   "cell_type": "markdown",
   "source": [
    "### 0.7.2 - Drop the Unnecessary Columns from `tmdb.movies.csv`"
   ],
   "metadata": {}
  },
  {
   "cell_type": "code",
   "execution_count": 471,
   "source": [
    "tmdb_movies_df.drop([\"Unnamed: 0\", \"genre_ids\", \"id\", \"original_language\", \"original_title\", \"popularity\"], axis=1, inplace=True)"
   ],
   "outputs": [],
   "metadata": {}
  },
  {
   "cell_type": "code",
   "execution_count": 472,
   "source": [
    "tmdb_movies_df.columns"
   ],
   "outputs": [
    {
     "output_type": "execute_result",
     "data": {
      "text/plain": [
       "Index(['release_date', 'title', 'vote_average', 'vote_count'], dtype='object')"
      ]
     },
     "metadata": {},
     "execution_count": 472
    }
   ],
   "metadata": {}
  },
  {
   "cell_type": "markdown",
   "source": [
    "### 0.7.3 - Discard the Day and Month of each Date in the `release_date` Column"
   ],
   "metadata": {}
  },
  {
   "cell_type": "code",
   "execution_count": 473,
   "source": [
    "tmdb_movies_df[\"release_date\"].head()"
   ],
   "outputs": [
    {
     "output_type": "execute_result",
     "data": {
      "text/plain": [
       "0    2010-11-19\n",
       "1    2010-03-26\n",
       "2    2010-05-07\n",
       "3    1995-11-22\n",
       "4    2010-07-16\n",
       "Name: release_date, dtype: object"
      ]
     },
     "metadata": {},
     "execution_count": 473
    }
   ],
   "metadata": {}
  },
  {
   "cell_type": "code",
   "execution_count": 474,
   "source": [
    "tmdb_movies_df[\"release_date\"] = tmdb_movies_df[\"release_date\"].str.split('-').map(lambda x: int(x[0]))"
   ],
   "outputs": [],
   "metadata": {}
  },
  {
   "cell_type": "code",
   "execution_count": 475,
   "source": [
    "tmdb_movies_df[\"release_date\"].head()"
   ],
   "outputs": [
    {
     "output_type": "execute_result",
     "data": {
      "text/plain": [
       "0    2010\n",
       "1    2010\n",
       "2    2010\n",
       "3    1995\n",
       "4    2010\n",
       "Name: release_date, dtype: int64"
      ]
     },
     "metadata": {},
     "execution_count": 475
    }
   ],
   "metadata": {}
  },
  {
   "cell_type": "markdown",
   "source": [
    "### 0.7.4 - Rename the Relevant Columns of `tmdb.movies.csv`"
   ],
   "metadata": {}
  },
  {
   "cell_type": "code",
   "execution_count": 476,
   "source": [
    "tmdb_movies_df.rename(columns={\"release_date\": \"year\", \"vote_average\": \"average_rating\"}, inplace=True)"
   ],
   "outputs": [],
   "metadata": {}
  },
  {
   "cell_type": "code",
   "execution_count": 477,
   "source": [
    "tmdb_movies_df.columns"
   ],
   "outputs": [
    {
     "output_type": "execute_result",
     "data": {
      "text/plain": [
       "Index(['year', 'title', 'average_rating', 'vote_count'], dtype='object')"
      ]
     },
     "metadata": {},
     "execution_count": 477
    }
   ],
   "metadata": {}
  },
  {
   "cell_type": "markdown",
   "source": [
    "### 0.7.5 - Drop Ratings wich have an Unnacceptably Small Number of Votes and then Discard the `vote_count` Column"
   ],
   "metadata": {}
  },
  {
   "cell_type": "code",
   "execution_count": 478,
   "source": [
    "tmdb_movies_df = tmdb_movies_df[tmdb_movies_df[\"vote_count\"] >= 10]\r\n",
    "tmdb_movies_df.drop(columns=\"vote_count\", inplace=True)"
   ],
   "outputs": [],
   "metadata": {}
  },
  {
   "cell_type": "code",
   "execution_count": 479,
   "source": [
    "tmdb_movies_df.info()"
   ],
   "outputs": [
    {
     "output_type": "stream",
     "name": "stdout",
     "text": [
      "<class 'pandas.core.frame.DataFrame'>\n",
      "Int64Index: 10397 entries, 0 to 26464\n",
      "Data columns (total 3 columns):\n",
      " #   Column          Non-Null Count  Dtype  \n",
      "---  ------          --------------  -----  \n",
      " 0   year            10397 non-null  int64  \n",
      " 1   title           10397 non-null  object \n",
      " 2   average_rating  10397 non-null  float64\n",
      "dtypes: float64(1), int64(1), object(1)\n",
      "memory usage: 324.9+ KB\n"
     ]
    }
   ],
   "metadata": {}
  },
  {
   "cell_type": "markdown",
   "source": [
    "##\r\n",
    "---"
   ],
   "metadata": {}
  },
  {
   "cell_type": "markdown",
   "source": [
    "## 0.8 - Creating a DataFrame (`id_to_tmdb_rating_map`) that Maps *Movie ID* to *TMDb Average Rating*"
   ],
   "metadata": {}
  },
  {
   "cell_type": "markdown",
   "source": [
    "### 0.8.1 - Set the `title` and `year` Columns as the Index of `tmdb_movies_df`"
   ],
   "metadata": {}
  },
  {
   "cell_type": "code",
   "execution_count": 480,
   "source": [
    "tmdb_movies_df.set_index([\"title\", \"year\"], inplace=True)"
   ],
   "outputs": [],
   "metadata": {}
  },
  {
   "cell_type": "code",
   "execution_count": 481,
   "source": [
    "tmdb_movies_df.head()"
   ],
   "outputs": [
    {
     "output_type": "execute_result",
     "data": {
      "text/plain": [
       "                                                   average_rating\n",
       "title                                        year                \n",
       "Harry Potter and the Deathly Hallows: Part 1 2010             7.7\n",
       "How to Train Your Dragon                     2010             7.7\n",
       "Iron Man 2                                   2010             6.8\n",
       "Toy Story                                    1995             7.9\n",
       "Inception                                    2010             8.3"
      ],
      "text/html": [
       "<div>\n",
       "<style scoped>\n",
       "    .dataframe tbody tr th:only-of-type {\n",
       "        vertical-align: middle;\n",
       "    }\n",
       "\n",
       "    .dataframe tbody tr th {\n",
       "        vertical-align: top;\n",
       "    }\n",
       "\n",
       "    .dataframe thead th {\n",
       "        text-align: right;\n",
       "    }\n",
       "</style>\n",
       "<table border=\"1\" class=\"dataframe\">\n",
       "  <thead>\n",
       "    <tr style=\"text-align: right;\">\n",
       "      <th></th>\n",
       "      <th></th>\n",
       "      <th>average_rating</th>\n",
       "    </tr>\n",
       "    <tr>\n",
       "      <th>title</th>\n",
       "      <th>year</th>\n",
       "      <th></th>\n",
       "    </tr>\n",
       "  </thead>\n",
       "  <tbody>\n",
       "    <tr>\n",
       "      <th>Harry Potter and the Deathly Hallows: Part 1</th>\n",
       "      <th>2010</th>\n",
       "      <td>7.7</td>\n",
       "    </tr>\n",
       "    <tr>\n",
       "      <th>How to Train Your Dragon</th>\n",
       "      <th>2010</th>\n",
       "      <td>7.7</td>\n",
       "    </tr>\n",
       "    <tr>\n",
       "      <th>Iron Man 2</th>\n",
       "      <th>2010</th>\n",
       "      <td>6.8</td>\n",
       "    </tr>\n",
       "    <tr>\n",
       "      <th>Toy Story</th>\n",
       "      <th>1995</th>\n",
       "      <td>7.9</td>\n",
       "    </tr>\n",
       "    <tr>\n",
       "      <th>Inception</th>\n",
       "      <th>2010</th>\n",
       "      <td>8.3</td>\n",
       "    </tr>\n",
       "  </tbody>\n",
       "</table>\n",
       "</div>"
      ]
     },
     "metadata": {},
     "execution_count": 481
    }
   ],
   "metadata": {}
  },
  {
   "cell_type": "markdown",
   "source": [
    "### 0.8.2- Append the Column with the Associated *Movie ID*  for each *Title* and *Year of Release* by Joining `titleyear_to_id_map` with `tmdb_movies_df`"
   ],
   "metadata": {}
  },
  {
   "cell_type": "code",
   "execution_count": 482,
   "source": [
    "tmdb_movies_df = tmdb_movies_df.join(titleyear_to_id_map, how='inner')"
   ],
   "outputs": [],
   "metadata": {}
  },
  {
   "cell_type": "code",
   "execution_count": 483,
   "source": [
    "tmdb_movies_df.head()"
   ],
   "outputs": [
    {
     "output_type": "execute_result",
     "data": {
      "text/plain": [
       "                                         average_rating   movie_ID\n",
       "title                              year                           \n",
       "#Horror                            2015             3.3  tt3526286\n",
       "#SquadGoals                        2018             4.3  tt6540984\n",
       "#Stuck                             2014             5.3  tt2075318\n",
       "$50K and a Call Girl: A Love Story 2014             6.8  tt2106284\n",
       "(A)sexual                          2011             5.3  tt1811293"
      ],
      "text/html": [
       "<div>\n",
       "<style scoped>\n",
       "    .dataframe tbody tr th:only-of-type {\n",
       "        vertical-align: middle;\n",
       "    }\n",
       "\n",
       "    .dataframe tbody tr th {\n",
       "        vertical-align: top;\n",
       "    }\n",
       "\n",
       "    .dataframe thead th {\n",
       "        text-align: right;\n",
       "    }\n",
       "</style>\n",
       "<table border=\"1\" class=\"dataframe\">\n",
       "  <thead>\n",
       "    <tr style=\"text-align: right;\">\n",
       "      <th></th>\n",
       "      <th></th>\n",
       "      <th>average_rating</th>\n",
       "      <th>movie_ID</th>\n",
       "    </tr>\n",
       "    <tr>\n",
       "      <th>title</th>\n",
       "      <th>year</th>\n",
       "      <th></th>\n",
       "      <th></th>\n",
       "    </tr>\n",
       "  </thead>\n",
       "  <tbody>\n",
       "    <tr>\n",
       "      <th>#Horror</th>\n",
       "      <th>2015</th>\n",
       "      <td>3.3</td>\n",
       "      <td>tt3526286</td>\n",
       "    </tr>\n",
       "    <tr>\n",
       "      <th>#SquadGoals</th>\n",
       "      <th>2018</th>\n",
       "      <td>4.3</td>\n",
       "      <td>tt6540984</td>\n",
       "    </tr>\n",
       "    <tr>\n",
       "      <th>#Stuck</th>\n",
       "      <th>2014</th>\n",
       "      <td>5.3</td>\n",
       "      <td>tt2075318</td>\n",
       "    </tr>\n",
       "    <tr>\n",
       "      <th>$50K and a Call Girl: A Love Story</th>\n",
       "      <th>2014</th>\n",
       "      <td>6.8</td>\n",
       "      <td>tt2106284</td>\n",
       "    </tr>\n",
       "    <tr>\n",
       "      <th>(A)sexual</th>\n",
       "      <th>2011</th>\n",
       "      <td>5.3</td>\n",
       "      <td>tt1811293</td>\n",
       "    </tr>\n",
       "  </tbody>\n",
       "</table>\n",
       "</div>"
      ]
     },
     "metadata": {},
     "execution_count": 483
    }
   ],
   "metadata": {}
  },
  {
   "cell_type": "markdown",
   "source": [
    "### 0.8.3 - Set the `movie_ID` Column as the Index of `tmdb_movies_df`"
   ],
   "metadata": {}
  },
  {
   "cell_type": "code",
   "execution_count": 484,
   "source": [
    "tmdb_movies_df.set_index(\"movie_ID\", inplace=True)"
   ],
   "outputs": [],
   "metadata": {}
  },
  {
   "cell_type": "code",
   "execution_count": 485,
   "source": [
    "tmdb_movies_df.head()"
   ],
   "outputs": [
    {
     "output_type": "execute_result",
     "data": {
      "text/plain": [
       "           average_rating\n",
       "movie_ID                 \n",
       "tt3526286             3.3\n",
       "tt6540984             4.3\n",
       "tt2075318             5.3\n",
       "tt2106284             6.8\n",
       "tt1811293             5.3"
      ],
      "text/html": [
       "<div>\n",
       "<style scoped>\n",
       "    .dataframe tbody tr th:only-of-type {\n",
       "        vertical-align: middle;\n",
       "    }\n",
       "\n",
       "    .dataframe tbody tr th {\n",
       "        vertical-align: top;\n",
       "    }\n",
       "\n",
       "    .dataframe thead th {\n",
       "        text-align: right;\n",
       "    }\n",
       "</style>\n",
       "<table border=\"1\" class=\"dataframe\">\n",
       "  <thead>\n",
       "    <tr style=\"text-align: right;\">\n",
       "      <th></th>\n",
       "      <th>average_rating</th>\n",
       "    </tr>\n",
       "    <tr>\n",
       "      <th>movie_ID</th>\n",
       "      <th></th>\n",
       "    </tr>\n",
       "  </thead>\n",
       "  <tbody>\n",
       "    <tr>\n",
       "      <th>tt3526286</th>\n",
       "      <td>3.3</td>\n",
       "    </tr>\n",
       "    <tr>\n",
       "      <th>tt6540984</th>\n",
       "      <td>4.3</td>\n",
       "    </tr>\n",
       "    <tr>\n",
       "      <th>tt2075318</th>\n",
       "      <td>5.3</td>\n",
       "    </tr>\n",
       "    <tr>\n",
       "      <th>tt2106284</th>\n",
       "      <td>6.8</td>\n",
       "    </tr>\n",
       "    <tr>\n",
       "      <th>tt1811293</th>\n",
       "      <td>5.3</td>\n",
       "    </tr>\n",
       "  </tbody>\n",
       "</table>\n",
       "</div>"
      ]
     },
     "metadata": {},
     "execution_count": 485
    }
   ],
   "metadata": {}
  },
  {
   "cell_type": "markdown",
   "source": [
    "### 0.8.4 - Rename the Cleaned `tmdb_movies_df` DataFrame to `id_to_tmdb_rating_map` [Needed for Question 3]"
   ],
   "metadata": {}
  },
  {
   "cell_type": "code",
   "execution_count": 486,
   "source": [
    "id_to_tmdb_rating_map = tmdb_movies_df\r\n",
    "del tmdb_movies_df"
   ],
   "outputs": [],
   "metadata": {}
  },
  {
   "cell_type": "markdown",
   "source": [
    "##\r\n",
    "---"
   ],
   "metadata": {}
  },
  {
   "cell_type": "markdown",
   "source": [
    "## 0.9- Importing and Cleaning the Dataset in `imdb.title.ratings.csv`"
   ],
   "metadata": {}
  },
  {
   "cell_type": "markdown",
   "source": [
    "### 0.9.1 - Import the Dataset in `imdb.title.ratings.csv`"
   ],
   "metadata": {}
  },
  {
   "cell_type": "code",
   "execution_count": 487,
   "source": [
    "imdb_title_ratings_df = pd.read_csv(\"data/imdb.title.ratings.csv\")"
   ],
   "outputs": [],
   "metadata": {}
  },
  {
   "cell_type": "code",
   "execution_count": 488,
   "source": [
    "imdb_title_ratings_df.info()"
   ],
   "outputs": [
    {
     "output_type": "stream",
     "name": "stdout",
     "text": [
      "<class 'pandas.core.frame.DataFrame'>\n",
      "RangeIndex: 73856 entries, 0 to 73855\n",
      "Data columns (total 3 columns):\n",
      " #   Column         Non-Null Count  Dtype  \n",
      "---  ------         --------------  -----  \n",
      " 0   tconst         73856 non-null  object \n",
      " 1   averagerating  73856 non-null  float64\n",
      " 2   numvotes       73856 non-null  int64  \n",
      "dtypes: float64(1), int64(1), object(1)\n",
      "memory usage: 1.7+ MB\n"
     ]
    }
   ],
   "metadata": {}
  },
  {
   "cell_type": "markdown",
   "source": [
    "### 0.9.2 - Rename the Relevant Columns of `imdb_title_ratings_df`"
   ],
   "metadata": {}
  },
  {
   "cell_type": "code",
   "execution_count": 489,
   "source": [
    "imdb_title_ratings_df.rename(columns={\"tconst\": \"movie_ID\", \"averagerating\": \"average_rating\", \"numvotes\": \"vote_count\"}, inplace=True)"
   ],
   "outputs": [],
   "metadata": {}
  },
  {
   "cell_type": "code",
   "execution_count": 490,
   "source": [
    "imdb_title_ratings_df.info()"
   ],
   "outputs": [
    {
     "output_type": "stream",
     "name": "stdout",
     "text": [
      "<class 'pandas.core.frame.DataFrame'>\n",
      "RangeIndex: 73856 entries, 0 to 73855\n",
      "Data columns (total 3 columns):\n",
      " #   Column          Non-Null Count  Dtype  \n",
      "---  ------          --------------  -----  \n",
      " 0   movie_ID        73856 non-null  object \n",
      " 1   average_rating  73856 non-null  float64\n",
      " 2   vote_count      73856 non-null  int64  \n",
      "dtypes: float64(1), int64(1), object(1)\n",
      "memory usage: 1.7+ MB\n"
     ]
    }
   ],
   "metadata": {}
  },
  {
   "cell_type": "markdown",
   "source": [
    "### 0.9.3 - Drop Ratings wich have an Unnacceptably Small Number of Votes and then Discard the `vote_count` Column"
   ],
   "metadata": {}
  },
  {
   "cell_type": "code",
   "execution_count": 491,
   "source": [
    "imdb_title_ratings_df = imdb_title_ratings_df[imdb_title_ratings_df[\"vote_count\"] >= 10]\r\n",
    "imdb_title_ratings_df.drop(columns=\"vote_count\", inplace=True)"
   ],
   "outputs": [],
   "metadata": {}
  },
  {
   "cell_type": "code",
   "execution_count": 492,
   "source": [
    "imdb_title_ratings_df.info()"
   ],
   "outputs": [
    {
     "output_type": "stream",
     "name": "stdout",
     "text": [
      "<class 'pandas.core.frame.DataFrame'>\n",
      "Int64Index: 61710 entries, 0 to 73855\n",
      "Data columns (total 2 columns):\n",
      " #   Column          Non-Null Count  Dtype  \n",
      "---  ------          --------------  -----  \n",
      " 0   movie_ID        61710 non-null  object \n",
      " 1   average_rating  61710 non-null  float64\n",
      "dtypes: float64(1), object(1)\n",
      "memory usage: 1.4+ MB\n"
     ]
    }
   ],
   "metadata": {}
  },
  {
   "cell_type": "markdown",
   "source": [
    "##\r\n",
    "---"
   ],
   "metadata": {}
  },
  {
   "cell_type": "markdown",
   "source": [
    "## 0.10 - Creating a DataFrame (`id_to_imdb_rating_map`) that Maps *Movie ID* to *IMDb Average Rating*"
   ],
   "metadata": {}
  },
  {
   "cell_type": "markdown",
   "source": [
    "### 0.10.1 - Set the `movie_ID` Column as the Index of `imdb_title_ratings_df`"
   ],
   "metadata": {}
  },
  {
   "cell_type": "code",
   "execution_count": 493,
   "source": [
    "imdb_title_ratings_df.set_index(\"movie_ID\", inplace=True)"
   ],
   "outputs": [],
   "metadata": {}
  },
  {
   "cell_type": "code",
   "execution_count": 494,
   "source": [
    "imdb_title_ratings_df.head()"
   ],
   "outputs": [
    {
     "output_type": "execute_result",
     "data": {
      "text/plain": [
       "            average_rating\n",
       "movie_ID                  \n",
       "tt10356526             8.3\n",
       "tt10384606             8.9\n",
       "tt1042974              6.4\n",
       "tt1043726              4.2\n",
       "tt1060240              6.5"
      ],
      "text/html": [
       "<div>\n",
       "<style scoped>\n",
       "    .dataframe tbody tr th:only-of-type {\n",
       "        vertical-align: middle;\n",
       "    }\n",
       "\n",
       "    .dataframe tbody tr th {\n",
       "        vertical-align: top;\n",
       "    }\n",
       "\n",
       "    .dataframe thead th {\n",
       "        text-align: right;\n",
       "    }\n",
       "</style>\n",
       "<table border=\"1\" class=\"dataframe\">\n",
       "  <thead>\n",
       "    <tr style=\"text-align: right;\">\n",
       "      <th></th>\n",
       "      <th>average_rating</th>\n",
       "    </tr>\n",
       "    <tr>\n",
       "      <th>movie_ID</th>\n",
       "      <th></th>\n",
       "    </tr>\n",
       "  </thead>\n",
       "  <tbody>\n",
       "    <tr>\n",
       "      <th>tt10356526</th>\n",
       "      <td>8.3</td>\n",
       "    </tr>\n",
       "    <tr>\n",
       "      <th>tt10384606</th>\n",
       "      <td>8.9</td>\n",
       "    </tr>\n",
       "    <tr>\n",
       "      <th>tt1042974</th>\n",
       "      <td>6.4</td>\n",
       "    </tr>\n",
       "    <tr>\n",
       "      <th>tt1043726</th>\n",
       "      <td>4.2</td>\n",
       "    </tr>\n",
       "    <tr>\n",
       "      <th>tt1060240</th>\n",
       "      <td>6.5</td>\n",
       "    </tr>\n",
       "  </tbody>\n",
       "</table>\n",
       "</div>"
      ]
     },
     "metadata": {},
     "execution_count": 494
    }
   ],
   "metadata": {}
  },
  {
   "cell_type": "markdown",
   "source": [
    "### 0.10.2 - Rename the Cleaned `tmdb_movies_df` DataFrame to `id_to_tmdb_rating_map` [Needed for Question 3]"
   ],
   "metadata": {}
  },
  {
   "cell_type": "code",
   "execution_count": 495,
   "source": [
    "id_to_imdb_rating_map = imdb_title_ratings_df\r\n",
    "del imdb_title_ratings_df"
   ],
   "outputs": [],
   "metadata": {}
  },
  {
   "cell_type": "markdown",
   "source": [
    "##\r\n",
    "---"
   ],
   "metadata": {}
  },
  {
   "cell_type": "markdown",
   "source": [
    "# Qestion 1 \r\n",
    "## *Which genres of film perform the best financially?*"
   ],
   "metadata": {}
  },
  {
   "cell_type": "markdown",
   "source": [
    "---"
   ],
   "metadata": {}
  },
  {
   "cell_type": "markdown",
   "source": [
    "## 1.1 - Creating a Dataframe (`financials_by_genre_df`) for Financial Performance Measures by Genre\r\n"
   ],
   "metadata": {}
  },
  {
   "cell_type": "markdown",
   "source": [
    "### 1.1.1 - Initialize `financials_by_genre_df` by Appending Columns with the Associated *Genres*  for Each *Movie ID* to `id_to_financials_map`"
   ],
   "metadata": {}
  },
  {
   "cell_type": "code",
   "execution_count": 496,
   "source": [
    "financials_by_genre_df = id_to_financials_map.join(id_to_genre_map, how='inner')"
   ],
   "outputs": [],
   "metadata": {}
  },
  {
   "cell_type": "code",
   "execution_count": 497,
   "source": [
    "financials_by_genre_df.head()"
   ],
   "outputs": [
    {
     "output_type": "execute_result",
     "data": {
      "text/plain": [
       "           production_budget  gross_income  net_income  cost_income_ratio  \\\n",
       "movie_ID                                                                    \n",
       "tt1179933            5000000     108286422   103286422           0.046174   \n",
       "tt3453052           12000000         14616   -11985384         821.018062   \n",
       "tt1413492           35000000      71118378    36118378           0.492137   \n",
       "tt2024544           20000000     181025343   161025343           0.110482   \n",
       "tt1542344           18000000      60217171    42217171           0.298918   \n",
       "\n",
       "             genre_1    genre_2  genre_3  \n",
       "movie_ID                                  \n",
       "tt1179933      Drama     Horror  Mystery  \n",
       "tt3453052      Drama       None     None  \n",
       "tt1413492     Action      Drama  History  \n",
       "tt2024544  Biography      Drama  History  \n",
       "tt1542344  Adventure  Biography    Drama  "
      ],
      "text/html": [
       "<div>\n",
       "<style scoped>\n",
       "    .dataframe tbody tr th:only-of-type {\n",
       "        vertical-align: middle;\n",
       "    }\n",
       "\n",
       "    .dataframe tbody tr th {\n",
       "        vertical-align: top;\n",
       "    }\n",
       "\n",
       "    .dataframe thead th {\n",
       "        text-align: right;\n",
       "    }\n",
       "</style>\n",
       "<table border=\"1\" class=\"dataframe\">\n",
       "  <thead>\n",
       "    <tr style=\"text-align: right;\">\n",
       "      <th></th>\n",
       "      <th>production_budget</th>\n",
       "      <th>gross_income</th>\n",
       "      <th>net_income</th>\n",
       "      <th>cost_income_ratio</th>\n",
       "      <th>genre_1</th>\n",
       "      <th>genre_2</th>\n",
       "      <th>genre_3</th>\n",
       "    </tr>\n",
       "    <tr>\n",
       "      <th>movie_ID</th>\n",
       "      <th></th>\n",
       "      <th></th>\n",
       "      <th></th>\n",
       "      <th></th>\n",
       "      <th></th>\n",
       "      <th></th>\n",
       "      <th></th>\n",
       "    </tr>\n",
       "  </thead>\n",
       "  <tbody>\n",
       "    <tr>\n",
       "      <th>tt1179933</th>\n",
       "      <td>5000000</td>\n",
       "      <td>108286422</td>\n",
       "      <td>103286422</td>\n",
       "      <td>0.046174</td>\n",
       "      <td>Drama</td>\n",
       "      <td>Horror</td>\n",
       "      <td>Mystery</td>\n",
       "    </tr>\n",
       "    <tr>\n",
       "      <th>tt3453052</th>\n",
       "      <td>12000000</td>\n",
       "      <td>14616</td>\n",
       "      <td>-11985384</td>\n",
       "      <td>821.018062</td>\n",
       "      <td>Drama</td>\n",
       "      <td>None</td>\n",
       "      <td>None</td>\n",
       "    </tr>\n",
       "    <tr>\n",
       "      <th>tt1413492</th>\n",
       "      <td>35000000</td>\n",
       "      <td>71118378</td>\n",
       "      <td>36118378</td>\n",
       "      <td>0.492137</td>\n",
       "      <td>Action</td>\n",
       "      <td>Drama</td>\n",
       "      <td>History</td>\n",
       "    </tr>\n",
       "    <tr>\n",
       "      <th>tt2024544</th>\n",
       "      <td>20000000</td>\n",
       "      <td>181025343</td>\n",
       "      <td>161025343</td>\n",
       "      <td>0.110482</td>\n",
       "      <td>Biography</td>\n",
       "      <td>Drama</td>\n",
       "      <td>History</td>\n",
       "    </tr>\n",
       "    <tr>\n",
       "      <th>tt1542344</th>\n",
       "      <td>18000000</td>\n",
       "      <td>60217171</td>\n",
       "      <td>42217171</td>\n",
       "      <td>0.298918</td>\n",
       "      <td>Adventure</td>\n",
       "      <td>Biography</td>\n",
       "      <td>Drama</td>\n",
       "    </tr>\n",
       "  </tbody>\n",
       "</table>\n",
       "</div>"
      ]
     },
     "metadata": {},
     "execution_count": 497
    }
   ],
   "metadata": {}
  },
  {
   "cell_type": "markdown",
   "source": [
    "### 1.1.2 - Convert `financials_by_genre_df` to Long Format"
   ],
   "metadata": {}
  },
  {
   "cell_type": "code",
   "execution_count": 498,
   "source": [
    "financials_by_genre_df = pd.melt(financials_by_genre_df.reset_index(), id_vars=[\"movie_ID\", \"production_budget\", \"gross_income\", \"net_income\", \"cost_income_ratio\"])\r\n",
    "financials_by_genre_df.set_index(\"movie_ID\", inplace=True)"
   ],
   "outputs": [],
   "metadata": {}
  },
  {
   "cell_type": "code",
   "execution_count": 499,
   "source": [
    "financials_by_genre_df.head()"
   ],
   "outputs": [
    {
     "output_type": "execute_result",
     "data": {
      "text/plain": [
       "           production_budget  gross_income  net_income  cost_income_ratio  \\\n",
       "movie_ID                                                                    \n",
       "tt1179933            5000000     108286422   103286422           0.046174   \n",
       "tt3453052           12000000         14616   -11985384         821.018062   \n",
       "tt1413492           35000000      71118378    36118378           0.492137   \n",
       "tt2024544           20000000     181025343   161025343           0.110482   \n",
       "tt1542344           18000000      60217171    42217171           0.298918   \n",
       "\n",
       "          variable      value  \n",
       "movie_ID                       \n",
       "tt1179933  genre_1      Drama  \n",
       "tt3453052  genre_1      Drama  \n",
       "tt1413492  genre_1     Action  \n",
       "tt2024544  genre_1  Biography  \n",
       "tt1542344  genre_1  Adventure  "
      ],
      "text/html": [
       "<div>\n",
       "<style scoped>\n",
       "    .dataframe tbody tr th:only-of-type {\n",
       "        vertical-align: middle;\n",
       "    }\n",
       "\n",
       "    .dataframe tbody tr th {\n",
       "        vertical-align: top;\n",
       "    }\n",
       "\n",
       "    .dataframe thead th {\n",
       "        text-align: right;\n",
       "    }\n",
       "</style>\n",
       "<table border=\"1\" class=\"dataframe\">\n",
       "  <thead>\n",
       "    <tr style=\"text-align: right;\">\n",
       "      <th></th>\n",
       "      <th>production_budget</th>\n",
       "      <th>gross_income</th>\n",
       "      <th>net_income</th>\n",
       "      <th>cost_income_ratio</th>\n",
       "      <th>variable</th>\n",
       "      <th>value</th>\n",
       "    </tr>\n",
       "    <tr>\n",
       "      <th>movie_ID</th>\n",
       "      <th></th>\n",
       "      <th></th>\n",
       "      <th></th>\n",
       "      <th></th>\n",
       "      <th></th>\n",
       "      <th></th>\n",
       "    </tr>\n",
       "  </thead>\n",
       "  <tbody>\n",
       "    <tr>\n",
       "      <th>tt1179933</th>\n",
       "      <td>5000000</td>\n",
       "      <td>108286422</td>\n",
       "      <td>103286422</td>\n",
       "      <td>0.046174</td>\n",
       "      <td>genre_1</td>\n",
       "      <td>Drama</td>\n",
       "    </tr>\n",
       "    <tr>\n",
       "      <th>tt3453052</th>\n",
       "      <td>12000000</td>\n",
       "      <td>14616</td>\n",
       "      <td>-11985384</td>\n",
       "      <td>821.018062</td>\n",
       "      <td>genre_1</td>\n",
       "      <td>Drama</td>\n",
       "    </tr>\n",
       "    <tr>\n",
       "      <th>tt1413492</th>\n",
       "      <td>35000000</td>\n",
       "      <td>71118378</td>\n",
       "      <td>36118378</td>\n",
       "      <td>0.492137</td>\n",
       "      <td>genre_1</td>\n",
       "      <td>Action</td>\n",
       "    </tr>\n",
       "    <tr>\n",
       "      <th>tt2024544</th>\n",
       "      <td>20000000</td>\n",
       "      <td>181025343</td>\n",
       "      <td>161025343</td>\n",
       "      <td>0.110482</td>\n",
       "      <td>genre_1</td>\n",
       "      <td>Biography</td>\n",
       "    </tr>\n",
       "    <tr>\n",
       "      <th>tt1542344</th>\n",
       "      <td>18000000</td>\n",
       "      <td>60217171</td>\n",
       "      <td>42217171</td>\n",
       "      <td>0.298918</td>\n",
       "      <td>genre_1</td>\n",
       "      <td>Adventure</td>\n",
       "    </tr>\n",
       "  </tbody>\n",
       "</table>\n",
       "</div>"
      ]
     },
     "metadata": {},
     "execution_count": 499
    }
   ],
   "metadata": {}
  },
  {
   "cell_type": "markdown",
   "source": [
    "### 1.1.3 - Drop the `variable` Column and Rename the `value` Column to `genre`"
   ],
   "metadata": {}
  },
  {
   "cell_type": "code",
   "execution_count": 500,
   "source": [
    "financials_by_genre_df.drop(columns=\"variable\", inplace=True)\r\n",
    "financials_by_genre_df.rename(columns={\"value\": \"genre\"}, inplace=True)"
   ],
   "outputs": [],
   "metadata": {}
  },
  {
   "cell_type": "code",
   "execution_count": 501,
   "source": [
    "financials_by_genre_df.head()"
   ],
   "outputs": [
    {
     "output_type": "execute_result",
     "data": {
      "text/plain": [
       "           production_budget  gross_income  net_income  cost_income_ratio  \\\n",
       "movie_ID                                                                    \n",
       "tt1179933            5000000     108286422   103286422           0.046174   \n",
       "tt3453052           12000000         14616   -11985384         821.018062   \n",
       "tt1413492           35000000      71118378    36118378           0.492137   \n",
       "tt2024544           20000000     181025343   161025343           0.110482   \n",
       "tt1542344           18000000      60217171    42217171           0.298918   \n",
       "\n",
       "               genre  \n",
       "movie_ID              \n",
       "tt1179933      Drama  \n",
       "tt3453052      Drama  \n",
       "tt1413492     Action  \n",
       "tt2024544  Biography  \n",
       "tt1542344  Adventure  "
      ],
      "text/html": [
       "<div>\n",
       "<style scoped>\n",
       "    .dataframe tbody tr th:only-of-type {\n",
       "        vertical-align: middle;\n",
       "    }\n",
       "\n",
       "    .dataframe tbody tr th {\n",
       "        vertical-align: top;\n",
       "    }\n",
       "\n",
       "    .dataframe thead th {\n",
       "        text-align: right;\n",
       "    }\n",
       "</style>\n",
       "<table border=\"1\" class=\"dataframe\">\n",
       "  <thead>\n",
       "    <tr style=\"text-align: right;\">\n",
       "      <th></th>\n",
       "      <th>production_budget</th>\n",
       "      <th>gross_income</th>\n",
       "      <th>net_income</th>\n",
       "      <th>cost_income_ratio</th>\n",
       "      <th>genre</th>\n",
       "    </tr>\n",
       "    <tr>\n",
       "      <th>movie_ID</th>\n",
       "      <th></th>\n",
       "      <th></th>\n",
       "      <th></th>\n",
       "      <th></th>\n",
       "      <th></th>\n",
       "    </tr>\n",
       "  </thead>\n",
       "  <tbody>\n",
       "    <tr>\n",
       "      <th>tt1179933</th>\n",
       "      <td>5000000</td>\n",
       "      <td>108286422</td>\n",
       "      <td>103286422</td>\n",
       "      <td>0.046174</td>\n",
       "      <td>Drama</td>\n",
       "    </tr>\n",
       "    <tr>\n",
       "      <th>tt3453052</th>\n",
       "      <td>12000000</td>\n",
       "      <td>14616</td>\n",
       "      <td>-11985384</td>\n",
       "      <td>821.018062</td>\n",
       "      <td>Drama</td>\n",
       "    </tr>\n",
       "    <tr>\n",
       "      <th>tt1413492</th>\n",
       "      <td>35000000</td>\n",
       "      <td>71118378</td>\n",
       "      <td>36118378</td>\n",
       "      <td>0.492137</td>\n",
       "      <td>Action</td>\n",
       "    </tr>\n",
       "    <tr>\n",
       "      <th>tt2024544</th>\n",
       "      <td>20000000</td>\n",
       "      <td>181025343</td>\n",
       "      <td>161025343</td>\n",
       "      <td>0.110482</td>\n",
       "      <td>Biography</td>\n",
       "    </tr>\n",
       "    <tr>\n",
       "      <th>tt1542344</th>\n",
       "      <td>18000000</td>\n",
       "      <td>60217171</td>\n",
       "      <td>42217171</td>\n",
       "      <td>0.298918</td>\n",
       "      <td>Adventure</td>\n",
       "    </tr>\n",
       "  </tbody>\n",
       "</table>\n",
       "</div>"
      ]
     },
     "metadata": {},
     "execution_count": 501
    }
   ],
   "metadata": {}
  },
  {
   "cell_type": "markdown",
   "source": [
    "### 1.1.4 - Drop the Rows with a Null Value in the `genre` Column"
   ],
   "metadata": {}
  },
  {
   "cell_type": "code",
   "execution_count": 502,
   "source": [
    "financials_by_genre_df.info()"
   ],
   "outputs": [
    {
     "output_type": "stream",
     "name": "stdout",
     "text": [
      "<class 'pandas.core.frame.DataFrame'>\n",
      "Index: 4254 entries, tt1179933 to tt1293847\n",
      "Data columns (total 5 columns):\n",
      " #   Column             Non-Null Count  Dtype  \n",
      "---  ------             --------------  -----  \n",
      " 0   production_budget  4254 non-null   int64  \n",
      " 1   gross_income       4254 non-null   int64  \n",
      " 2   net_income         4254 non-null   int64  \n",
      " 3   cost_income_ratio  4254 non-null   float64\n",
      " 4   genre              3628 non-null   object \n",
      "dtypes: float64(1), int64(3), object(1)\n",
      "memory usage: 199.4+ KB\n"
     ]
    }
   ],
   "metadata": {}
  },
  {
   "cell_type": "code",
   "execution_count": 503,
   "source": [
    "financials_by_genre_df.dropna(inplace=True)"
   ],
   "outputs": [],
   "metadata": {}
  },
  {
   "cell_type": "code",
   "execution_count": 504,
   "source": [
    "financials_by_genre_df.info()"
   ],
   "outputs": [
    {
     "output_type": "stream",
     "name": "stdout",
     "text": [
      "<class 'pandas.core.frame.DataFrame'>\n",
      "Index: 3628 entries, tt1179933 to tt1293847\n",
      "Data columns (total 5 columns):\n",
      " #   Column             Non-Null Count  Dtype  \n",
      "---  ------             --------------  -----  \n",
      " 0   production_budget  3628 non-null   int64  \n",
      " 1   gross_income       3628 non-null   int64  \n",
      " 2   net_income         3628 non-null   int64  \n",
      " 3   cost_income_ratio  3628 non-null   float64\n",
      " 4   genre              3628 non-null   object \n",
      "dtypes: float64(1), int64(3), object(1)\n",
      "memory usage: 170.1+ KB\n"
     ]
    }
   ],
   "metadata": {}
  },
  {
   "cell_type": "markdown",
   "source": [
    "### 1.1.5 - Separate the Data by Genre for Each Feature in `financials_by_genre_df`"
   ],
   "metadata": {}
  },
  {
   "cell_type": "code",
   "execution_count": 505,
   "source": [
    "def extract_feature_by_genre(financials_long_df, feature):\r\n",
    "    feature_series = []\r\n",
    "\r\n",
    "    for genre in financials_long_df[\"genre\"].unique():\r\n",
    "        genre_financials_df = financials_long_df.loc[financials_long_df[\"genre\"] == genre]\r\n",
    "        feature_series.append((genre, genre_financials_df[feature]))\r\n",
    "    \r\n",
    "    feature_series.sort(key=lambda x: len(x[1]), reverse=True)\r\n",
    "    \r\n",
    "    return pd.DataFrame(dict(feature_series[:14]))"
   ],
   "outputs": [],
   "metadata": {}
  },
  {
   "cell_type": "code",
   "execution_count": 506,
   "source": [
    "gross_incomes_by_genre_df = extract_feature_by_genre(financials_by_genre_df, \"gross_income\")\r\n",
    "net_incomes_by_genre_df = extract_feature_by_genre(financials_by_genre_df, \"net_income\")\r\n",
    "cost_income_ratios_by_genre_df = extract_feature_by_genre(financials_by_genre_df, \"cost_income_ratio\")"
   ],
   "outputs": [],
   "metadata": {}
  },
  {
   "cell_type": "code",
   "execution_count": 507,
   "source": [
    "gross_incomes_by_genre_df.info()"
   ],
   "outputs": [
    {
     "output_type": "stream",
     "name": "stdout",
     "text": [
      "<class 'pandas.core.frame.DataFrame'>\n",
      "Index: 1378 entries, tt0249516 to tt9889072\n",
      "Data columns (total 14 columns):\n",
      " #   Column     Non-Null Count  Dtype  \n",
      "---  ------     --------------  -----  \n",
      " 0   Drama      687 non-null    float64\n",
      " 1   Comedy     489 non-null    float64\n",
      " 2   Action     422 non-null    float64\n",
      " 3   Adventure  343 non-null    float64\n",
      " 4   Thriller   240 non-null    float64\n",
      " 5   Crime      222 non-null    float64\n",
      " 6   Romance    182 non-null    float64\n",
      " 7   Horror     157 non-null    float64\n",
      " 8   Biography  132 non-null    float64\n",
      " 9   Sci-Fi     127 non-null    float64\n",
      " 10  Fantasy    119 non-null    float64\n",
      " 11  Mystery    118 non-null    float64\n",
      " 12  Animation  98 non-null     float64\n",
      " 13  Family     88 non-null     float64\n",
      "dtypes: float64(14)\n",
      "memory usage: 161.5+ KB\n"
     ]
    }
   ],
   "metadata": {}
  },
  {
   "cell_type": "code",
   "execution_count": 508,
   "source": [
    "net_incomes_by_genre_df.info()"
   ],
   "outputs": [
    {
     "output_type": "stream",
     "name": "stdout",
     "text": [
      "<class 'pandas.core.frame.DataFrame'>\n",
      "Index: 1378 entries, tt0249516 to tt9889072\n",
      "Data columns (total 14 columns):\n",
      " #   Column     Non-Null Count  Dtype  \n",
      "---  ------     --------------  -----  \n",
      " 0   Drama      687 non-null    float64\n",
      " 1   Comedy     489 non-null    float64\n",
      " 2   Action     422 non-null    float64\n",
      " 3   Adventure  343 non-null    float64\n",
      " 4   Thriller   240 non-null    float64\n",
      " 5   Crime      222 non-null    float64\n",
      " 6   Romance    182 non-null    float64\n",
      " 7   Horror     157 non-null    float64\n",
      " 8   Biography  132 non-null    float64\n",
      " 9   Sci-Fi     127 non-null    float64\n",
      " 10  Fantasy    119 non-null    float64\n",
      " 11  Mystery    118 non-null    float64\n",
      " 12  Animation  98 non-null     float64\n",
      " 13  Family     88 non-null     float64\n",
      "dtypes: float64(14)\n",
      "memory usage: 161.5+ KB\n"
     ]
    }
   ],
   "metadata": {}
  },
  {
   "cell_type": "code",
   "execution_count": 509,
   "source": [
    "cost_income_ratios_by_genre_df.info()"
   ],
   "outputs": [
    {
     "output_type": "stream",
     "name": "stdout",
     "text": [
      "<class 'pandas.core.frame.DataFrame'>\n",
      "Index: 1378 entries, tt0249516 to tt9889072\n",
      "Data columns (total 14 columns):\n",
      " #   Column     Non-Null Count  Dtype  \n",
      "---  ------     --------------  -----  \n",
      " 0   Drama      687 non-null    float64\n",
      " 1   Comedy     489 non-null    float64\n",
      " 2   Action     422 non-null    float64\n",
      " 3   Adventure  343 non-null    float64\n",
      " 4   Thriller   240 non-null    float64\n",
      " 5   Crime      222 non-null    float64\n",
      " 6   Romance    182 non-null    float64\n",
      " 7   Horror     157 non-null    float64\n",
      " 8   Biography  132 non-null    float64\n",
      " 9   Sci-Fi     127 non-null    float64\n",
      " 10  Fantasy    119 non-null    float64\n",
      " 11  Mystery    118 non-null    float64\n",
      " 12  Animation  98 non-null     float64\n",
      " 13  Family     88 non-null     float64\n",
      "dtypes: float64(14)\n",
      "memory usage: 161.5+ KB\n"
     ]
    }
   ],
   "metadata": {}
  },
  {
   "cell_type": "markdown",
   "source": [
    "##\r\n",
    "---"
   ],
   "metadata": {}
  },
  {
   "cell_type": "markdown",
   "source": [
    "## 1.2 - Visualizing the Correlation between *Genre* and *Gross Income*\r\n"
   ],
   "metadata": {}
  },
  {
   "cell_type": "code",
   "execution_count": 510,
   "source": [
    "colors = sns.set_palette(\"GnBu\", 10)"
   ],
   "outputs": [],
   "metadata": {}
  },
  {
   "cell_type": "code",
   "execution_count": 511,
   "source": [
    "df = gross_incomes_by_genre_df\r\n",
    "\r\n",
    "fig, ax = plt.subplots(figsize=(25,13))\r\n",
    "ax = sns.boxplot(data=df[sorted(df.columns, key=lambda x: df[x].median(), reverse=True)],\r\n",
    "                 width=0.5,\r\n",
    "                 color='tomato',\r\n",
    "                 showfliers=False,\r\n",
    "                 whis=1)\r\n",
    "\r\n",
    "ax.set_ylabel(\"Gross Income [$]\", fontsize=16)\r\n",
    "ax.set_title(\"Gross Income of Movies by Genre\", fontsize=20)\r\n"
   ],
   "outputs": [
    {
     "output_type": "execute_result",
     "data": {
      "text/plain": [
       "Text(0.5, 1.0, 'Gross Income of Movies by Genre')"
      ]
     },
     "metadata": {},
     "execution_count": 511
    },
    {
     "output_type": "display_data",
     "data": {
      "text/plain": [
       "<Figure size 1800x936 with 1 Axes>"
      ],
      "image/png": "[encoded data removed]"
     },
     "metadata": {}
    }
   ],
   "metadata": {}
  },
  {
   "cell_type": "markdown",
   "source": [
    "##\r\n",
    "---"
   ],
   "metadata": {}
  },
  {
   "cell_type": "markdown",
   "source": [
    "## 1.3 - Visualizing the Correlation between *Genre* and *Net Income*\r\n"
   ],
   "metadata": {}
  },
  {
   "cell_type": "code",
   "execution_count": 512,
   "source": [
    "df = net_incomes_by_genre_df\r\n",
    "\r\n",
    "fig, ax = plt.subplots(figsize=(25,13))\r\n",
    "ax = sns.boxplot(data=df[sorted(df.columns, key=lambda x: df[x].median(), reverse=True)],\r\n",
    "                 color='mediumspringgreen',\r\n",
    "                 width=0.5,\r\n",
    "                 showfliers=False,\r\n",
    "                 whis=1)\r\n",
    "\r\n",
    "ax.set_ylabel(\"Net Income [$]\", fontsize=16)\r\n",
    "ax.set_title(\"Net Income of Movies by Genre\", fontsize=20)\r\n",
    "\r\n"
   ],
   "outputs": [
    {
     "output_type": "execute_result",
     "data": {
      "text/plain": [
       "Text(0.5, 1.0, 'Net Income of Movies by Genre')"
      ]
     },
     "metadata": {},
     "execution_count": 512
    },
    {
     "output_type": "display_data",
     "data": {
      "text/plain": [
       "<Figure size 1800x936 with 1 Axes>"
      ],
      "image/png": "[encoded data removed]"
     },
     "metadata": {}
    }
   ],
   "metadata": {}
  },
  {
   "cell_type": "markdown",
   "source": [
    "##\r\n",
    "---"
   ],
   "metadata": {}
  },
  {
   "cell_type": "markdown",
   "source": [
    "## 1.4 - Visualizing the Correlation between *Genre* and *Cost-to-Income Ratio*\r\n"
   ],
   "metadata": {}
  },
  {
   "cell_type": "code",
   "execution_count": 513,
   "source": [
    "df = cost_income_ratios_by_genre_df\r\n",
    "\r\n",
    "fig, ax = plt.subplots(figsize=(25,13))\r\n",
    "ax = sns.boxplot(data=df[sorted(df.columns, key=lambda x: df[x].median())],\r\n",
    "                 width=0.5,\r\n",
    "                 color='aqua',\r\n",
    "                 showfliers=False,\r\n",
    "                 whis=1)\r\n",
    "\r\n",
    "ax.set_ylabel(\"Cost-to-Income Ratio\", fontsize=16)\r\n",
    "ax.set_title(\"Cost-to-Income Ratio of Movies by Genre\", fontsize=20)"
   ],
   "outputs": [
    {
     "output_type": "execute_result",
     "data": {
      "text/plain": [
       "Text(0.5, 1.0, 'Cost-to-Income Ratio of Movies by Genre')"
      ]
     },
     "metadata": {},
     "execution_count": 513
    },
    {
     "output_type": "display_data",
     "data": {
      "text/plain": [
       "<Figure size 1800x936 with 1 Axes>"
      ],
      "image/png": "[encoded data removed]"
     },
     "metadata": {}
    }
   ],
   "metadata": {}
  },
  {
   "cell_type": "markdown",
   "source": [
    "##\r\n",
    "---"
   ],
   "metadata": {}
  },
  {
   "cell_type": "markdown",
   "source": [
    "# Question 2\r\n",
    "## *Which genres of film have the highest ratings?* "
   ],
   "metadata": {}
  },
  {
   "cell_type": "markdown",
   "source": [
    "---"
   ],
   "metadata": {}
  },
  {
   "cell_type": "markdown",
   "source": [
    "## 2.1 - Creating a Dataframe (`tmdb_rating_by_genre_df`) for the *TMDb Average Rating* by Genre"
   ],
   "metadata": {}
  },
  {
   "cell_type": "markdown",
   "source": [
    "### 2.1.1 - Initialize `tmdb_rating_by_genre_df` by Appending Columns with the Associated *Genres* for each *Movie ID* to `id_to_tmdb_rating_map`"
   ],
   "metadata": {}
  },
  {
   "cell_type": "code",
   "execution_count": 514,
   "source": [
    "tmdb_rating_by_genre_df = id_to_tmdb_rating_map.join(id_to_genre_map, how='inner')"
   ],
   "outputs": [],
   "metadata": {}
  },
  {
   "cell_type": "code",
   "execution_count": 515,
   "source": [
    "tmdb_rating_by_genre_df.head()"
   ],
   "outputs": [
    {
     "output_type": "execute_result",
     "data": {
      "text/plain": [
       "           average_rating    genre_1  genre_2   genre_3\n",
       "movie_ID                                               \n",
       "tt0069049             7.0      Drama     None      None\n",
       "tt0315642             6.6     Action    Crime     Drama\n",
       "tt0326965             5.4      Drama  Mystery  Thriller\n",
       "tt0337692             5.6  Adventure    Drama   Romance\n",
       "tt0359950             7.1  Adventure   Comedy     Drama"
      ],
      "text/html": [
       "<div>\n",
       "<style scoped>\n",
       "    .dataframe tbody tr th:only-of-type {\n",
       "        vertical-align: middle;\n",
       "    }\n",
       "\n",
       "    .dataframe tbody tr th {\n",
       "        vertical-align: top;\n",
       "    }\n",
       "\n",
       "    .dataframe thead th {\n",
       "        text-align: right;\n",
       "    }\n",
       "</style>\n",
       "<table border=\"1\" class=\"dataframe\">\n",
       "  <thead>\n",
       "    <tr style=\"text-align: right;\">\n",
       "      <th></th>\n",
       "      <th>average_rating</th>\n",
       "      <th>genre_1</th>\n",
       "      <th>genre_2</th>\n",
       "      <th>genre_3</th>\n",
       "    </tr>\n",
       "    <tr>\n",
       "      <th>movie_ID</th>\n",
       "      <th></th>\n",
       "      <th></th>\n",
       "      <th></th>\n",
       "      <th></th>\n",
       "    </tr>\n",
       "  </thead>\n",
       "  <tbody>\n",
       "    <tr>\n",
       "      <th>tt0069049</th>\n",
       "      <td>7.0</td>\n",
       "      <td>Drama</td>\n",
       "      <td>None</td>\n",
       "      <td>None</td>\n",
       "    </tr>\n",
       "    <tr>\n",
       "      <th>tt0315642</th>\n",
       "      <td>6.6</td>\n",
       "      <td>Action</td>\n",
       "      <td>Crime</td>\n",
       "      <td>Drama</td>\n",
       "    </tr>\n",
       "    <tr>\n",
       "      <th>tt0326965</th>\n",
       "      <td>5.4</td>\n",
       "      <td>Drama</td>\n",
       "      <td>Mystery</td>\n",
       "      <td>Thriller</td>\n",
       "    </tr>\n",
       "    <tr>\n",
       "      <th>tt0337692</th>\n",
       "      <td>5.6</td>\n",
       "      <td>Adventure</td>\n",
       "      <td>Drama</td>\n",
       "      <td>Romance</td>\n",
       "    </tr>\n",
       "    <tr>\n",
       "      <th>tt0359950</th>\n",
       "      <td>7.1</td>\n",
       "      <td>Adventure</td>\n",
       "      <td>Comedy</td>\n",
       "      <td>Drama</td>\n",
       "    </tr>\n",
       "  </tbody>\n",
       "</table>\n",
       "</div>"
      ]
     },
     "metadata": {},
     "execution_count": 515
    }
   ],
   "metadata": {}
  },
  {
   "cell_type": "markdown",
   "source": [
    "### 2.1.2 - Convert `tmdb_rating_by_genre_df` to Long Format"
   ],
   "metadata": {}
  },
  {
   "cell_type": "code",
   "execution_count": 516,
   "source": [
    "tmdb_rating_by_genre_df = pd.melt(tmdb_rating_by_genre_df.reset_index(), id_vars=[\"movie_ID\", \"average_rating\"])\r\n",
    "tmdb_rating_by_genre_df.set_index(\"movie_ID\", inplace=True)"
   ],
   "outputs": [],
   "metadata": {}
  },
  {
   "cell_type": "code",
   "execution_count": 517,
   "source": [
    "tmdb_rating_by_genre_df.head(10)"
   ],
   "outputs": [
    {
     "output_type": "execute_result",
     "data": {
      "text/plain": [
       "           average_rating variable      value\n",
       "movie_ID                                     \n",
       "tt0069049             7.0  genre_1      Drama\n",
       "tt0315642             6.6  genre_1     Action\n",
       "tt0326965             5.4  genre_1      Drama\n",
       "tt0337692             5.6  genre_1  Adventure\n",
       "tt0359950             7.1  genre_1  Adventure\n",
       "tt0360556             5.4  genre_1      Drama\n",
       "tt0365545             7.3  genre_1     Comedy\n",
       "tt0365907             6.3  genre_1     Action\n",
       "tt0369610             6.6  genre_1     Action\n",
       "tt0376136             5.7  genre_1     Comedy"
      ],
      "text/html": [
       "<div>\n",
       "<style scoped>\n",
       "    .dataframe tbody tr th:only-of-type {\n",
       "        vertical-align: middle;\n",
       "    }\n",
       "\n",
       "    .dataframe tbody tr th {\n",
       "        vertical-align: top;\n",
       "    }\n",
       "\n",
       "    .dataframe thead th {\n",
       "        text-align: right;\n",
       "    }\n",
       "</style>\n",
       "<table border=\"1\" class=\"dataframe\">\n",
       "  <thead>\n",
       "    <tr style=\"text-align: right;\">\n",
       "      <th></th>\n",
       "      <th>average_rating</th>\n",
       "      <th>variable</th>\n",
       "      <th>value</th>\n",
       "    </tr>\n",
       "    <tr>\n",
       "      <th>movie_ID</th>\n",
       "      <th></th>\n",
       "      <th></th>\n",
       "      <th></th>\n",
       "    </tr>\n",
       "  </thead>\n",
       "  <tbody>\n",
       "    <tr>\n",
       "      <th>tt0069049</th>\n",
       "      <td>7.0</td>\n",
       "      <td>genre_1</td>\n",
       "      <td>Drama</td>\n",
       "    </tr>\n",
       "    <tr>\n",
       "      <th>tt0315642</th>\n",
       "      <td>6.6</td>\n",
       "      <td>genre_1</td>\n",
       "      <td>Action</td>\n",
       "    </tr>\n",
       "    <tr>\n",
       "      <th>tt0326965</th>\n",
       "      <td>5.4</td>\n",
       "      <td>genre_1</td>\n",
       "      <td>Drama</td>\n",
       "    </tr>\n",
       "    <tr>\n",
       "      <th>tt0337692</th>\n",
       "      <td>5.6</td>\n",
       "      <td>genre_1</td>\n",
       "      <td>Adventure</td>\n",
       "    </tr>\n",
       "    <tr>\n",
       "      <th>tt0359950</th>\n",
       "      <td>7.1</td>\n",
       "      <td>genre_1</td>\n",
       "      <td>Adventure</td>\n",
       "    </tr>\n",
       "    <tr>\n",
       "      <th>tt0360556</th>\n",
       "      <td>5.4</td>\n",
       "      <td>genre_1</td>\n",
       "      <td>Drama</td>\n",
       "    </tr>\n",
       "    <tr>\n",
       "      <th>tt0365545</th>\n",
       "      <td>7.3</td>\n",
       "      <td>genre_1</td>\n",
       "      <td>Comedy</td>\n",
       "    </tr>\n",
       "    <tr>\n",
       "      <th>tt0365907</th>\n",
       "      <td>6.3</td>\n",
       "      <td>genre_1</td>\n",
       "      <td>Action</td>\n",
       "    </tr>\n",
       "    <tr>\n",
       "      <th>tt0369610</th>\n",
       "      <td>6.6</td>\n",
       "      <td>genre_1</td>\n",
       "      <td>Action</td>\n",
       "    </tr>\n",
       "    <tr>\n",
       "      <th>tt0376136</th>\n",
       "      <td>5.7</td>\n",
       "      <td>genre_1</td>\n",
       "      <td>Comedy</td>\n",
       "    </tr>\n",
       "  </tbody>\n",
       "</table>\n",
       "</div>"
      ]
     },
     "metadata": {},
     "execution_count": 517
    }
   ],
   "metadata": {}
  },
  {
   "cell_type": "markdown",
   "source": [
    "### 2.1.3 - Drop the `variable` Column and Rename the `value` Column to `genre`"
   ],
   "metadata": {}
  },
  {
   "cell_type": "code",
   "execution_count": 518,
   "source": [
    "tmdb_rating_by_genre_df.drop(columns=\"variable\", inplace=True)\r\n",
    "tmdb_rating_by_genre_df.rename(columns={\"value\": \"genre\"}, inplace=True)"
   ],
   "outputs": [],
   "metadata": {}
  },
  {
   "cell_type": "code",
   "execution_count": 519,
   "source": [
    "tmdb_rating_by_genre_df.head(10)"
   ],
   "outputs": [
    {
     "output_type": "execute_result",
     "data": {
      "text/plain": [
       "           average_rating      genre\n",
       "movie_ID                            \n",
       "tt0069049             7.0      Drama\n",
       "tt0315642             6.6     Action\n",
       "tt0326965             5.4      Drama\n",
       "tt0337692             5.6  Adventure\n",
       "tt0359950             7.1  Adventure\n",
       "tt0360556             5.4      Drama\n",
       "tt0365545             7.3     Comedy\n",
       "tt0365907             6.3     Action\n",
       "tt0369610             6.6     Action\n",
       "tt0376136             5.7     Comedy"
      ],
      "text/html": [
       "<div>\n",
       "<style scoped>\n",
       "    .dataframe tbody tr th:only-of-type {\n",
       "        vertical-align: middle;\n",
       "    }\n",
       "\n",
       "    .dataframe tbody tr th {\n",
       "        vertical-align: top;\n",
       "    }\n",
       "\n",
       "    .dataframe thead th {\n",
       "        text-align: right;\n",
       "    }\n",
       "</style>\n",
       "<table border=\"1\" class=\"dataframe\">\n",
       "  <thead>\n",
       "    <tr style=\"text-align: right;\">\n",
       "      <th></th>\n",
       "      <th>average_rating</th>\n",
       "      <th>genre</th>\n",
       "    </tr>\n",
       "    <tr>\n",
       "      <th>movie_ID</th>\n",
       "      <th></th>\n",
       "      <th></th>\n",
       "    </tr>\n",
       "  </thead>\n",
       "  <tbody>\n",
       "    <tr>\n",
       "      <th>tt0069049</th>\n",
       "      <td>7.0</td>\n",
       "      <td>Drama</td>\n",
       "    </tr>\n",
       "    <tr>\n",
       "      <th>tt0315642</th>\n",
       "      <td>6.6</td>\n",
       "      <td>Action</td>\n",
       "    </tr>\n",
       "    <tr>\n",
       "      <th>tt0326965</th>\n",
       "      <td>5.4</td>\n",
       "      <td>Drama</td>\n",
       "    </tr>\n",
       "    <tr>\n",
       "      <th>tt0337692</th>\n",
       "      <td>5.6</td>\n",
       "      <td>Adventure</td>\n",
       "    </tr>\n",
       "    <tr>\n",
       "      <th>tt0359950</th>\n",
       "      <td>7.1</td>\n",
       "      <td>Adventure</td>\n",
       "    </tr>\n",
       "    <tr>\n",
       "      <th>tt0360556</th>\n",
       "      <td>5.4</td>\n",
       "      <td>Drama</td>\n",
       "    </tr>\n",
       "    <tr>\n",
       "      <th>tt0365545</th>\n",
       "      <td>7.3</td>\n",
       "      <td>Comedy</td>\n",
       "    </tr>\n",
       "    <tr>\n",
       "      <th>tt0365907</th>\n",
       "      <td>6.3</td>\n",
       "      <td>Action</td>\n",
       "    </tr>\n",
       "    <tr>\n",
       "      <th>tt0369610</th>\n",
       "      <td>6.6</td>\n",
       "      <td>Action</td>\n",
       "    </tr>\n",
       "    <tr>\n",
       "      <th>tt0376136</th>\n",
       "      <td>5.7</td>\n",
       "      <td>Comedy</td>\n",
       "    </tr>\n",
       "  </tbody>\n",
       "</table>\n",
       "</div>"
      ]
     },
     "metadata": {},
     "execution_count": 519
    }
   ],
   "metadata": {}
  },
  {
   "cell_type": "markdown",
   "source": [
    "### 2.1.4 - Drop the Rows with a Null Value in the `genre` Column"
   ],
   "metadata": {}
  },
  {
   "cell_type": "code",
   "execution_count": 520,
   "source": [
    "tmdb_rating_by_genre_df.info() "
   ],
   "outputs": [
    {
     "output_type": "stream",
     "name": "stdout",
     "text": [
      "<class 'pandas.core.frame.DataFrame'>\n",
      "Index: 18639 entries, tt0069049 to tt9889072\n",
      "Data columns (total 2 columns):\n",
      " #   Column          Non-Null Count  Dtype  \n",
      "---  ------          --------------  -----  \n",
      " 0   average_rating  18639 non-null  float64\n",
      " 1   genre           14068 non-null  object \n",
      "dtypes: float64(1), object(1)\n",
      "memory usage: 436.9+ KB\n"
     ]
    }
   ],
   "metadata": {}
  },
  {
   "cell_type": "code",
   "execution_count": 521,
   "source": [
    "tmdb_rating_by_genre_df.dropna(inplace=True)"
   ],
   "outputs": [],
   "metadata": {}
  },
  {
   "cell_type": "code",
   "execution_count": 522,
   "source": [
    "tmdb_rating_by_genre_df.info() "
   ],
   "outputs": [
    {
     "output_type": "stream",
     "name": "stdout",
     "text": [
      "<class 'pandas.core.frame.DataFrame'>\n",
      "Index: 14068 entries, tt0069049 to tt9495224\n",
      "Data columns (total 2 columns):\n",
      " #   Column          Non-Null Count  Dtype  \n",
      "---  ------          --------------  -----  \n",
      " 0   average_rating  14068 non-null  float64\n",
      " 1   genre           14068 non-null  object \n",
      "dtypes: float64(1), object(1)\n",
      "memory usage: 329.7+ KB\n"
     ]
    }
   ],
   "metadata": {}
  },
  {
   "cell_type": "markdown",
   "source": [
    "### 2.1.5 - Group `tmdb_rating_by_genre_df` by *Genre* and View the Number of Data Points in each Group"
   ],
   "metadata": {}
  },
  {
   "cell_type": "code",
   "execution_count": 523,
   "source": [
    "tmdb_genre_counts = tmdb_rating_by_genre_df.groupby(\"genre\").count()[\"average_rating\"].sort_values(ascending=False)"
   ],
   "outputs": [],
   "metadata": {}
  },
  {
   "cell_type": "code",
   "execution_count": 524,
   "source": [
    "tmdb_genre_counts"
   ],
   "outputs": [
    {
     "output_type": "execute_result",
     "data": {
      "text/plain": [
       "genre\n",
       "Drama          2941\n",
       "Comedy         1740\n",
       "Thriller       1222\n",
       "Action         1190\n",
       "Horror         1082\n",
       "Crime           816\n",
       "Romance         733\n",
       "Adventure       729\n",
       "Documentary     720\n",
       "Mystery         478\n",
       "Biography       476\n",
       "Sci-Fi          418\n",
       "Fantasy         338\n",
       "Animation       239\n",
       "Family          237\n",
       "History         202\n",
       "Music           180\n",
       "Sport           141\n",
       "War              78\n",
       "Musical          43\n",
       "Western          39\n",
       "News             24\n",
       "Game-Show         1\n",
       "Reality-TV        1\n",
       "Name: average_rating, dtype: int64"
      ]
     },
     "metadata": {},
     "execution_count": 524
    }
   ],
   "metadata": {}
  },
  {
   "cell_type": "markdown",
   "source": [
    "### 2.1.6 - Drop Genres with an Unacceptably Small Number of Data Points"
   ],
   "metadata": {}
  },
  {
   "cell_type": "code",
   "execution_count": 525,
   "source": [
    "tmdb_acceptable_genres = tmdb_genre_counts.loc[lambda x: x>= 100].index"
   ],
   "outputs": [],
   "metadata": {}
  },
  {
   "cell_type": "code",
   "execution_count": 526,
   "source": [
    "tmdb_acceptable_genres"
   ],
   "outputs": [
    {
     "output_type": "execute_result",
     "data": {
      "text/plain": [
       "Index(['Drama', 'Comedy', 'Thriller', 'Action', 'Horror', 'Crime', 'Romance',\n",
       "       'Adventure', 'Documentary', 'Mystery', 'Biography', 'Sci-Fi', 'Fantasy',\n",
       "       'Animation', 'Family', 'History', 'Music', 'Sport'],\n",
       "      dtype='object', name='genre')"
      ]
     },
     "metadata": {},
     "execution_count": 526
    }
   ],
   "metadata": {}
  },
  {
   "cell_type": "code",
   "execution_count": 527,
   "source": [
    "tmdb_rating_by_genre_df = tmdb_rating_by_genre_df.loc[tmdb_rating_by_genre_df[\"genre\"].map(lambda x: x in tmdb_acceptable_genres)]"
   ],
   "outputs": [],
   "metadata": {}
  },
  {
   "cell_type": "code",
   "execution_count": 528,
   "source": [
    "set(tmdb_rating_by_genre_df[\"genre\"].unique()) == set(tmdb_acceptable_genres)"
   ],
   "outputs": [
    {
     "output_type": "execute_result",
     "data": {
      "text/plain": [
       "True"
      ]
     },
     "metadata": {},
     "execution_count": 528
    }
   ],
   "metadata": {}
  },
  {
   "cell_type": "markdown",
   "source": [
    "### 2.1.7 - Obtain the Mean Value of `average_rating` for Each Genre"
   ],
   "metadata": {}
  },
  {
   "cell_type": "code",
   "execution_count": 529,
   "source": [
    "tmdb_rating_by_genre_df = tmdb_rating_by_genre_df.groupby(\"genre\").mean()[\"average_rating\"].sort_values(ascending=False)"
   ],
   "outputs": [],
   "metadata": {}
  },
  {
   "cell_type": "code",
   "execution_count": 530,
   "source": [
    "tmdb_rating_by_genre_df"
   ],
   "outputs": [
    {
     "output_type": "execute_result",
     "data": {
      "text/plain": [
       "genre\n",
       "Documentary    6.947222\n",
       "Biography      6.859664\n",
       "Music          6.786667\n",
       "History        6.701980\n",
       "Sport          6.634043\n",
       "Animation      6.509623\n",
       "Romance        6.204638\n",
       "Drama          6.201836\n",
       "Adventure      6.054458\n",
       "Family         6.011814\n",
       "Crime          5.980515\n",
       "Comedy         5.906092\n",
       "Fantasy        5.826627\n",
       "Mystery        5.768828\n",
       "Action         5.756807\n",
       "Sci-Fi         5.544737\n",
       "Thriller       5.468576\n",
       "Horror         5.053512\n",
       "Name: average_rating, dtype: float64"
      ]
     },
     "metadata": {},
     "execution_count": 530
    }
   ],
   "metadata": {}
  },
  {
   "cell_type": "markdown",
   "source": [
    "##\r\n",
    "---"
   ],
   "metadata": {}
  },
  {
   "cell_type": "markdown",
   "source": [
    "## 2.2 - Visualizing the Correlation between *Genre* and *TMDb Average Rating* "
   ],
   "metadata": {}
  },
  {
   "cell_type": "code",
   "execution_count": 531,
   "source": [
    "df = tmdb_rating_by_genre_df\r\n",
    "sns.set_palette('dark')\r\n",
    "fig, ax = plt.subplots(figsize=(20,8))\r\n",
    "ax = sns.barplot(x=df.values, \r\n",
    "                 y=df.index,\r\n",
    "                 color='mediumspringgreen',\r\n",
    "                 orient=\"h\",\r\n",
    "                 dodge=False)\r\n",
    "ax.set_xlim(0,10)\r\n",
    "ax.set_xlabel(\"Rating\")\r\n",
    "ax.set_ylabel(\"Genre\")\r\n",
    "ax.set_title(\"Mean $TMBd$ Rating by Genre\")\r\n"
   ],
   "outputs": [
    {
     "output_type": "execute_result",
     "data": {
      "text/plain": [
       "Text(0.5, 1.0, 'Mean $TMBd$ Rating by Genre')"
      ]
     },
     "metadata": {},
     "execution_count": 531
    },
    {
     "output_type": "display_data",
     "data": {
      "text/plain": [
       "<Figure size 1440x576 with 1 Axes>"
      ],
      "image/png": "[encoded data removed]"
     },
     "metadata": {}
    }
   ],
   "metadata": {}
  },
  {
   "cell_type": "markdown",
   "source": [
    "##\r\n",
    "---"
   ],
   "metadata": {}
  },
  {
   "cell_type": "markdown",
   "source": [
    "## 2.3 - Creating a Dataframe (`imdb_rating_by_genre_df`) for the *IMDb Average Rating* by Genre"
   ],
   "metadata": {}
  },
  {
   "cell_type": "markdown",
   "source": [
    "### 2.3.1 - Initialize `imdb_rating_by_genre_df` by Appending Columns with the Associated *Genres* for each *Movie ID* "
   ],
   "metadata": {}
  },
  {
   "cell_type": "code",
   "execution_count": 532,
   "source": [
    "imdb_rating_by_genre_df = id_to_imdb_rating_map.join(id_to_genre_map, how='inner')"
   ],
   "outputs": [],
   "metadata": {}
  },
  {
   "cell_type": "code",
   "execution_count": 533,
   "source": [
    "imdb_rating_by_genre_df.head()"
   ],
   "outputs": [
    {
     "output_type": "execute_result",
     "data": {
      "text/plain": [
       "            average_rating      genre_1    genre_2  genre_3\n",
       "movie_ID                                                   \n",
       "tt10356526             8.3      Romance       None     None\n",
       "tt10384606             8.9  Documentary       None     None\n",
       "tt1042974              6.4        Drama       None     None\n",
       "tt1043726              4.2       Action  Adventure  Fantasy\n",
       "tt1060240              6.5      Mystery   Thriller     None"
      ],
      "text/html": [
       "<div>\n",
       "<style scoped>\n",
       "    .dataframe tbody tr th:only-of-type {\n",
       "        vertical-align: middle;\n",
       "    }\n",
       "\n",
       "    .dataframe tbody tr th {\n",
       "        vertical-align: top;\n",
       "    }\n",
       "\n",
       "    .dataframe thead th {\n",
       "        text-align: right;\n",
       "    }\n",
       "</style>\n",
       "<table border=\"1\" class=\"dataframe\">\n",
       "  <thead>\n",
       "    <tr style=\"text-align: right;\">\n",
       "      <th></th>\n",
       "      <th>average_rating</th>\n",
       "      <th>genre_1</th>\n",
       "      <th>genre_2</th>\n",
       "      <th>genre_3</th>\n",
       "    </tr>\n",
       "    <tr>\n",
       "      <th>movie_ID</th>\n",
       "      <th></th>\n",
       "      <th></th>\n",
       "      <th></th>\n",
       "      <th></th>\n",
       "    </tr>\n",
       "  </thead>\n",
       "  <tbody>\n",
       "    <tr>\n",
       "      <th>tt10356526</th>\n",
       "      <td>8.3</td>\n",
       "      <td>Romance</td>\n",
       "      <td>None</td>\n",
       "      <td>None</td>\n",
       "    </tr>\n",
       "    <tr>\n",
       "      <th>tt10384606</th>\n",
       "      <td>8.9</td>\n",
       "      <td>Documentary</td>\n",
       "      <td>None</td>\n",
       "      <td>None</td>\n",
       "    </tr>\n",
       "    <tr>\n",
       "      <th>tt1042974</th>\n",
       "      <td>6.4</td>\n",
       "      <td>Drama</td>\n",
       "      <td>None</td>\n",
       "      <td>None</td>\n",
       "    </tr>\n",
       "    <tr>\n",
       "      <th>tt1043726</th>\n",
       "      <td>4.2</td>\n",
       "      <td>Action</td>\n",
       "      <td>Adventure</td>\n",
       "      <td>Fantasy</td>\n",
       "    </tr>\n",
       "    <tr>\n",
       "      <th>tt1060240</th>\n",
       "      <td>6.5</td>\n",
       "      <td>Mystery</td>\n",
       "      <td>Thriller</td>\n",
       "      <td>None</td>\n",
       "    </tr>\n",
       "  </tbody>\n",
       "</table>\n",
       "</div>"
      ]
     },
     "metadata": {},
     "execution_count": 533
    }
   ],
   "metadata": {}
  },
  {
   "cell_type": "markdown",
   "source": [
    "### 2.3.2 - Convert `imdb_rating_by_genre_df` to Long Format"
   ],
   "metadata": {}
  },
  {
   "cell_type": "code",
   "execution_count": 534,
   "source": [
    "imdb_rating_by_genre_df = pd.melt(imdb_rating_by_genre_df.reset_index(), id_vars=[\"movie_ID\", \"average_rating\"])\r\n",
    "imdb_rating_by_genre_df.set_index(\"movie_ID\", inplace=True)"
   ],
   "outputs": [],
   "metadata": {}
  },
  {
   "cell_type": "code",
   "execution_count": 535,
   "source": [
    "imdb_rating_by_genre_df.head(10)"
   ],
   "outputs": [
    {
     "output_type": "execute_result",
     "data": {
      "text/plain": [
       "            average_rating variable        value\n",
       "movie_ID                                        \n",
       "tt10356526             8.3  genre_1      Romance\n",
       "tt10384606             8.9  genre_1  Documentary\n",
       "tt1042974              6.4  genre_1        Drama\n",
       "tt1043726              4.2  genre_1       Action\n",
       "tt1060240              6.5  genre_1      Mystery\n",
       "tt1069246              6.2  genre_1       Comedy\n",
       "tt1094666              7.0  genre_1    Biography\n",
       "tt1130982              6.4  genre_1        Drama\n",
       "tt1156528              7.2  genre_1        Drama\n",
       "tt1161457              4.2  genre_1       Action"
      ],
      "text/html": [
       "<div>\n",
       "<style scoped>\n",
       "    .dataframe tbody tr th:only-of-type {\n",
       "        vertical-align: middle;\n",
       "    }\n",
       "\n",
       "    .dataframe tbody tr th {\n",
       "        vertical-align: top;\n",
       "    }\n",
       "\n",
       "    .dataframe thead th {\n",
       "        text-align: right;\n",
       "    }\n",
       "</style>\n",
       "<table border=\"1\" class=\"dataframe\">\n",
       "  <thead>\n",
       "    <tr style=\"text-align: right;\">\n",
       "      <th></th>\n",
       "      <th>average_rating</th>\n",
       "      <th>variable</th>\n",
       "      <th>value</th>\n",
       "    </tr>\n",
       "    <tr>\n",
       "      <th>movie_ID</th>\n",
       "      <th></th>\n",
       "      <th></th>\n",
       "      <th></th>\n",
       "    </tr>\n",
       "  </thead>\n",
       "  <tbody>\n",
       "    <tr>\n",
       "      <th>tt10356526</th>\n",
       "      <td>8.3</td>\n",
       "      <td>genre_1</td>\n",
       "      <td>Romance</td>\n",
       "    </tr>\n",
       "    <tr>\n",
       "      <th>tt10384606</th>\n",
       "      <td>8.9</td>\n",
       "      <td>genre_1</td>\n",
       "      <td>Documentary</td>\n",
       "    </tr>\n",
       "    <tr>\n",
       "      <th>tt1042974</th>\n",
       "      <td>6.4</td>\n",
       "      <td>genre_1</td>\n",
       "      <td>Drama</td>\n",
       "    </tr>\n",
       "    <tr>\n",
       "      <th>tt1043726</th>\n",
       "      <td>4.2</td>\n",
       "      <td>genre_1</td>\n",
       "      <td>Action</td>\n",
       "    </tr>\n",
       "    <tr>\n",
       "      <th>tt1060240</th>\n",
       "      <td>6.5</td>\n",
       "      <td>genre_1</td>\n",
       "      <td>Mystery</td>\n",
       "    </tr>\n",
       "    <tr>\n",
       "      <th>tt1069246</th>\n",
       "      <td>6.2</td>\n",
       "      <td>genre_1</td>\n",
       "      <td>Comedy</td>\n",
       "    </tr>\n",
       "    <tr>\n",
       "      <th>tt1094666</th>\n",
       "      <td>7.0</td>\n",
       "      <td>genre_1</td>\n",
       "      <td>Biography</td>\n",
       "    </tr>\n",
       "    <tr>\n",
       "      <th>tt1130982</th>\n",
       "      <td>6.4</td>\n",
       "      <td>genre_1</td>\n",
       "      <td>Drama</td>\n",
       "    </tr>\n",
       "    <tr>\n",
       "      <th>tt1156528</th>\n",
       "      <td>7.2</td>\n",
       "      <td>genre_1</td>\n",
       "      <td>Drama</td>\n",
       "    </tr>\n",
       "    <tr>\n",
       "      <th>tt1161457</th>\n",
       "      <td>4.2</td>\n",
       "      <td>genre_1</td>\n",
       "      <td>Action</td>\n",
       "    </tr>\n",
       "  </tbody>\n",
       "</table>\n",
       "</div>"
      ]
     },
     "metadata": {},
     "execution_count": 535
    }
   ],
   "metadata": {}
  },
  {
   "cell_type": "markdown",
   "source": [
    "### 2.3.3 - Drop the `variable` Column and Rename the `value` Column to `genre`"
   ],
   "metadata": {}
  },
  {
   "cell_type": "code",
   "execution_count": 536,
   "source": [
    "imdb_rating_by_genre_df.drop(columns=\"variable\", inplace=True)\r\n",
    "imdb_rating_by_genre_df.rename(columns={\"value\": \"genre\"}, inplace=True)"
   ],
   "outputs": [],
   "metadata": {}
  },
  {
   "cell_type": "code",
   "execution_count": 537,
   "source": [
    "imdb_rating_by_genre_df.head(10)"
   ],
   "outputs": [
    {
     "output_type": "execute_result",
     "data": {
      "text/plain": [
       "            average_rating        genre\n",
       "movie_ID                               \n",
       "tt10356526             8.3      Romance\n",
       "tt10384606             8.9  Documentary\n",
       "tt1042974              6.4        Drama\n",
       "tt1043726              4.2       Action\n",
       "tt1060240              6.5      Mystery\n",
       "tt1069246              6.2       Comedy\n",
       "tt1094666              7.0    Biography\n",
       "tt1130982              6.4        Drama\n",
       "tt1156528              7.2        Drama\n",
       "tt1161457              4.2       Action"
      ],
      "text/html": [
       "<div>\n",
       "<style scoped>\n",
       "    .dataframe tbody tr th:only-of-type {\n",
       "        vertical-align: middle;\n",
       "    }\n",
       "\n",
       "    .dataframe tbody tr th {\n",
       "        vertical-align: top;\n",
       "    }\n",
       "\n",
       "    .dataframe thead th {\n",
       "        text-align: right;\n",
       "    }\n",
       "</style>\n",
       "<table border=\"1\" class=\"dataframe\">\n",
       "  <thead>\n",
       "    <tr style=\"text-align: right;\">\n",
       "      <th></th>\n",
       "      <th>average_rating</th>\n",
       "      <th>genre</th>\n",
       "    </tr>\n",
       "    <tr>\n",
       "      <th>movie_ID</th>\n",
       "      <th></th>\n",
       "      <th></th>\n",
       "    </tr>\n",
       "  </thead>\n",
       "  <tbody>\n",
       "    <tr>\n",
       "      <th>tt10356526</th>\n",
       "      <td>8.3</td>\n",
       "      <td>Romance</td>\n",
       "    </tr>\n",
       "    <tr>\n",
       "      <th>tt10384606</th>\n",
       "      <td>8.9</td>\n",
       "      <td>Documentary</td>\n",
       "    </tr>\n",
       "    <tr>\n",
       "      <th>tt1042974</th>\n",
       "      <td>6.4</td>\n",
       "      <td>Drama</td>\n",
       "    </tr>\n",
       "    <tr>\n",
       "      <th>tt1043726</th>\n",
       "      <td>4.2</td>\n",
       "      <td>Action</td>\n",
       "    </tr>\n",
       "    <tr>\n",
       "      <th>tt1060240</th>\n",
       "      <td>6.5</td>\n",
       "      <td>Mystery</td>\n",
       "    </tr>\n",
       "    <tr>\n",
       "      <th>tt1069246</th>\n",
       "      <td>6.2</td>\n",
       "      <td>Comedy</td>\n",
       "    </tr>\n",
       "    <tr>\n",
       "      <th>tt1094666</th>\n",
       "      <td>7.0</td>\n",
       "      <td>Biography</td>\n",
       "    </tr>\n",
       "    <tr>\n",
       "      <th>tt1130982</th>\n",
       "      <td>6.4</td>\n",
       "      <td>Drama</td>\n",
       "    </tr>\n",
       "    <tr>\n",
       "      <th>tt1156528</th>\n",
       "      <td>7.2</td>\n",
       "      <td>Drama</td>\n",
       "    </tr>\n",
       "    <tr>\n",
       "      <th>tt1161457</th>\n",
       "      <td>4.2</td>\n",
       "      <td>Action</td>\n",
       "    </tr>\n",
       "  </tbody>\n",
       "</table>\n",
       "</div>"
      ]
     },
     "metadata": {},
     "execution_count": 537
    }
   ],
   "metadata": {}
  },
  {
   "cell_type": "markdown",
   "source": [
    "### 2.3.4 - Drop the Rows with a Null Value in the `genre` Column"
   ],
   "metadata": {}
  },
  {
   "cell_type": "code",
   "execution_count": 538,
   "source": [
    "imdb_rating_by_genre_df.dropna(inplace=True)"
   ],
   "outputs": [],
   "metadata": {}
  },
  {
   "cell_type": "code",
   "execution_count": 539,
   "source": [
    "imdb_rating_by_genre_df.info() "
   ],
   "outputs": [
    {
     "output_type": "stream",
     "name": "stdout",
     "text": [
      "<class 'pandas.core.frame.DataFrame'>\n",
      "Index: 110029 entries, tt10356526 to tt9844256\n",
      "Data columns (total 2 columns):\n",
      " #   Column          Non-Null Count   Dtype  \n",
      "---  ------          --------------   -----  \n",
      " 0   average_rating  110029 non-null  float64\n",
      " 1   genre           110029 non-null  object \n",
      "dtypes: float64(1), object(1)\n",
      "memory usage: 2.5+ MB\n"
     ]
    }
   ],
   "metadata": {}
  },
  {
   "cell_type": "markdown",
   "source": [
    "### 2.3.5 - Group `imdb_rating_by_genre_df` by *Genre* and View the Number of Data Points for each Group"
   ],
   "metadata": {}
  },
  {
   "cell_type": "code",
   "execution_count": 540,
   "source": [
    "genre_counts = imdb_rating_by_genre_df.groupby(\"genre\").count()[\"average_rating\"].sort_values(ascending=False)"
   ],
   "outputs": [],
   "metadata": {}
  },
  {
   "cell_type": "code",
   "execution_count": 541,
   "source": [
    "genre_counts"
   ],
   "outputs": [
    {
     "output_type": "execute_result",
     "data": {
      "text/plain": [
       "genre\n",
       "Drama          26761\n",
       "Comedy         15436\n",
       "Documentary    12850\n",
       "Thriller        7440\n",
       "Horror          6842\n",
       "Action          6262\n",
       "Romance         5941\n",
       "Crime           4159\n",
       "Adventure       3361\n",
       "Biography       3089\n",
       "Family          2891\n",
       "Mystery         2703\n",
       "History         2260\n",
       "Sci-Fi          1980\n",
       "Fantasy         1872\n",
       "Music           1625\n",
       "Animation       1571\n",
       "Sport            987\n",
       "War              717\n",
       "Musical          587\n",
       "News             436\n",
       "Western          244\n",
       "Reality-TV        12\n",
       "Adult              2\n",
       "Game-Show          1\n",
       "Name: average_rating, dtype: int64"
      ]
     },
     "metadata": {},
     "execution_count": 541
    }
   ],
   "metadata": {}
  },
  {
   "cell_type": "markdown",
   "source": [
    "### 2.3.6 - Drop Genres that Are Not In `tmdb_acceptable_genres`"
   ],
   "metadata": {}
  },
  {
   "cell_type": "code",
   "execution_count": 542,
   "source": [
    "imdb_rating_by_genre_df = imdb_rating_by_genre_df.loc[imdb_rating_by_genre_df[\"genre\"].map(lambda x: x in tmdb_acceptable_genres)]"
   ],
   "outputs": [],
   "metadata": {}
  },
  {
   "cell_type": "code",
   "execution_count": 543,
   "source": [
    "set(imdb_rating_by_genre_df[\"genre\"].unique()) == set(tmdb_acceptable_genres)"
   ],
   "outputs": [
    {
     "output_type": "execute_result",
     "data": {
      "text/plain": [
       "True"
      ]
     },
     "metadata": {},
     "execution_count": 543
    }
   ],
   "metadata": {}
  },
  {
   "cell_type": "markdown",
   "source": [
    "### 2.3.7 - Obtain the Mean Value of `average_rating` for Each Genre"
   ],
   "metadata": {}
  },
  {
   "cell_type": "code",
   "execution_count": 544,
   "source": [
    "imdb_rating_by_genre_df = imdb_rating_by_genre_df.groupby(\"genre\").mean()[\"average_rating\"].sort_values(ascending=False)"
   ],
   "outputs": [],
   "metadata": {}
  },
  {
   "cell_type": "code",
   "execution_count": 545,
   "source": [
    "imdb_rating_by_genre_df"
   ],
   "outputs": [
    {
     "output_type": "execute_result",
     "data": {
      "text/plain": [
       "genre\n",
       "Documentary    7.303751\n",
       "Biography      7.107737\n",
       "Music          7.020369\n",
       "History        6.977788\n",
       "Sport          6.883587\n",
       "Drama          6.342678\n",
       "Family         6.302871\n",
       "Animation      6.243666\n",
       "Romance        6.110066\n",
       "Adventure      6.098631\n",
       "Crime          6.065497\n",
       "Comedy         5.925434\n",
       "Mystery        5.837551\n",
       "Fantasy        5.828205\n",
       "Action         5.739604\n",
       "Thriller       5.573374\n",
       "Sci-Fi         5.404949\n",
       "Horror         4.934142\n",
       "Name: average_rating, dtype: float64"
      ]
     },
     "metadata": {},
     "execution_count": 545
    }
   ],
   "metadata": {}
  },
  {
   "cell_type": "markdown",
   "source": [
    "##\r\n",
    "---"
   ],
   "metadata": {}
  },
  {
   "cell_type": "markdown",
   "source": [
    "## 2.4 - Visualizing the Correlation between *Genre* and *IMDb Average Rating* "
   ],
   "metadata": {}
  },
  {
   "cell_type": "code",
   "execution_count": 546,
   "source": [
    "df = imdb_rating_by_genre_df\r\n",
    "\r\n",
    "fig, ax = plt.subplots(figsize=(20,8))\r\n",
    "ax = sns.barplot(x=df.values, \r\n",
    "                 y=df.index,\r\n",
    "                 color='tomato',\r\n",
    "                 orient=\"h\",\r\n",
    "                 dodge=False)\r\n",
    "ax.set_xlim(0,10)\r\n",
    "ax.set_xlabel(\"Rating\")\r\n",
    "ax.set_ylabel(\"Genre\")\r\n",
    "ax.set_title(\"Mean $IMBd$ Rating by Genre\")"
   ],
   "outputs": [
    {
     "output_type": "execute_result",
     "data": {
      "text/plain": [
       "Text(0.5, 1.0, 'Mean $IMBd$ Rating by Genre')"
      ]
     },
     "metadata": {},
     "execution_count": 546
    },
    {
     "output_type": "display_data",
     "data": {
      "text/plain": [
       "<Figure size 1440x576 with 1 Axes>"
      ],
      "image/png": "[encoded data removed]"
     },
     "metadata": {}
    }
   ],
   "metadata": {}
  },
  {
   "cell_type": "markdown",
   "source": [
    "##\r\n",
    "---"
   ],
   "metadata": {}
  },
  {
   "cell_type": "markdown",
   "source": [
    "# Question 3 \r\n",
    "## *Does a film's financial performance and/or ratings depend on its production budget?*"
   ],
   "metadata": {}
  },
  {
   "cell_type": "markdown",
   "source": [
    "##\r\n",
    "---"
   ],
   "metadata": {}
  },
  {
   "cell_type": "markdown",
   "source": [
    "## 3.1 - Merging `id_to_financials_map` + `id_to_tmdb_rating_map` + `id_to_imdb_rating_map` into a Single DataFrame"
   ],
   "metadata": {}
  },
  {
   "cell_type": "code",
   "execution_count": 547,
   "source": [
    "budget_correlations_df = id_to_financials_map.join(id_to_tmdb_rating_map, how=\"inner\").join(id_to_imdb_rating_map, how=\"inner\", lsuffix=\"_tmdb\", rsuffix=\"_imdb\").drop(columns=\"cost_income_ratio\")"
   ],
   "outputs": [],
   "metadata": {}
  },
  {
   "cell_type": "code",
   "execution_count": 548,
   "source": [
    "budget_correlations_df.head()"
   ],
   "outputs": [
    {
     "output_type": "execute_result",
     "data": {
      "text/plain": [
       "           production_budget  gross_income  net_income  cost_income_ratio  \\\n",
       "movie_ID                                                                    \n",
       "tt0359950           91000000     187861183    96861183           0.484400   \n",
       "tt0365907           28000000      62108587    34108587           0.450823   \n",
       "tt0369610          215000000    1648854864  1433854864           0.130394   \n",
       "tt0376136           45000000      21544732   -23455268           2.088678   \n",
       "tt0383010           30000000      54052249    24052249           0.555019   \n",
       "\n",
       "           average_rating_tmdb  average_rating_imdb  \n",
       "movie_ID                                             \n",
       "tt0359950                  7.1                  7.3  \n",
       "tt0365907                  6.3                  6.5  \n",
       "tt0369610                  6.6                  7.0  \n",
       "tt0376136                  5.7                  6.2  \n",
       "tt0383010                  5.1                  5.1  "
      ],
      "text/html": [
       "<div>\n",
       "<style scoped>\n",
       "    .dataframe tbody tr th:only-of-type {\n",
       "        vertical-align: middle;\n",
       "    }\n",
       "\n",
       "    .dataframe tbody tr th {\n",
       "        vertical-align: top;\n",
       "    }\n",
       "\n",
       "    .dataframe thead th {\n",
       "        text-align: right;\n",
       "    }\n",
       "</style>\n",
       "<table border=\"1\" class=\"dataframe\">\n",
       "  <thead>\n",
       "    <tr style=\"text-align: right;\">\n",
       "      <th></th>\n",
       "      <th>production_budget</th>\n",
       "      <th>gross_income</th>\n",
       "      <th>net_income</th>\n",
       "      <th>cost_income_ratio</th>\n",
       "      <th>average_rating_tmdb</th>\n",
       "      <th>average_rating_imdb</th>\n",
       "    </tr>\n",
       "    <tr>\n",
       "      <th>movie_ID</th>\n",
       "      <th></th>\n",
       "      <th></th>\n",
       "      <th></th>\n",
       "      <th></th>\n",
       "      <th></th>\n",
       "      <th></th>\n",
       "    </tr>\n",
       "  </thead>\n",
       "  <tbody>\n",
       "    <tr>\n",
       "      <th>tt0359950</th>\n",
       "      <td>91000000</td>\n",
       "      <td>187861183</td>\n",
       "      <td>96861183</td>\n",
       "      <td>0.484400</td>\n",
       "      <td>7.1</td>\n",
       "      <td>7.3</td>\n",
       "    </tr>\n",
       "    <tr>\n",
       "      <th>tt0365907</th>\n",
       "      <td>28000000</td>\n",
       "      <td>62108587</td>\n",
       "      <td>34108587</td>\n",
       "      <td>0.450823</td>\n",
       "      <td>6.3</td>\n",
       "      <td>6.5</td>\n",
       "    </tr>\n",
       "    <tr>\n",
       "      <th>tt0369610</th>\n",
       "      <td>215000000</td>\n",
       "      <td>1648854864</td>\n",
       "      <td>1433854864</td>\n",
       "      <td>0.130394</td>\n",
       "      <td>6.6</td>\n",
       "      <td>7.0</td>\n",
       "    </tr>\n",
       "    <tr>\n",
       "      <th>tt0376136</th>\n",
       "      <td>45000000</td>\n",
       "      <td>21544732</td>\n",
       "      <td>-23455268</td>\n",
       "      <td>2.088678</td>\n",
       "      <td>5.7</td>\n",
       "      <td>6.2</td>\n",
       "    </tr>\n",
       "    <tr>\n",
       "      <th>tt0383010</th>\n",
       "      <td>30000000</td>\n",
       "      <td>54052249</td>\n",
       "      <td>24052249</td>\n",
       "      <td>0.555019</td>\n",
       "      <td>5.1</td>\n",
       "      <td>5.1</td>\n",
       "    </tr>\n",
       "  </tbody>\n",
       "</table>\n",
       "</div>"
      ]
     },
     "metadata": {},
     "execution_count": 548
    }
   ],
   "metadata": {}
  },
  {
   "cell_type": "markdown",
   "source": [
    "##\r\n",
    "---"
   ],
   "metadata": {}
  },
  {
   "cell_type": "markdown",
   "source": [
    "## 3.2 - Visualizing the Correlations between *Production Budget* and Performance"
   ],
   "metadata": {}
  },
  {
   "cell_type": "code",
   "execution_count": 550,
   "source": [
    "corr_coefficients = budget_correlations_df.corr()[\"production_budget\"]"
   ],
   "outputs": [],
   "metadata": {}
  },
  {
   "cell_type": "code",
   "execution_count": 551,
   "source": [
    "corr_coefficients"
   ],
   "outputs": [
    {
     "output_type": "execute_result",
     "data": {
      "text/plain": [
       "production_budget      1.000000\n",
       "gross_income           0.784298\n",
       "net_income             0.662642\n",
       "cost_income_ratio     -0.037128\n",
       "average_rating_tmdb    0.142422\n",
       "average_rating_imdb    0.186633\n",
       "Name: production_budget, dtype: float64"
      ]
     },
     "metadata": {},
     "execution_count": 551
    }
   ],
   "metadata": {}
  },
  {
   "cell_type": "code",
   "execution_count": 552,
   "source": [
    "df = budget_correlations_df\r\n",
    "fig, axes = plt.subplots(ncols=1, nrows=4, figsize=(22,40), sharex=True)\r\n",
    "\r\n",
    "colors = [\"seagreen\", \"tomato\", \"royalblue\", \"gold\"]\r\n",
    "ylabels = [\"Gross Income [$]\", \"Net Income [$]\", \"Average Rating (TMDb)\", \"Average Rating (IMDb)\"]\r\n",
    "\r\n",
    "for n, feature in enumerate(df.columns[1:]):\r\n",
    "    sns.regplot(x=\"production_budget\",\r\n",
    "                    y=feature,\r\n",
    "                    data=df,\r\n",
    "                    color=colors[n],\r\n",
    "                    ax=axes[n])\r\n",
    "    \r\n",
    "    axes[n].set_xlabel(\"Production Budget [$]\")\r\n",
    "    axes[n].set_ylabel(ylabels[n])\r\n",
    "    axes[n].legend(labels=[f\"r = {corr_coefficients[n+1]:.3f}\"])\r\n"
   ],
   "outputs": [
    {
     "output_type": "display_data",
     "data": {
      "text/plain": [
       "<Figure size 1584x2880 with 5 Axes>"
      ],
      "image/png": "[encoded data removed]"
     },
     "metadata": {}
    }
   ],
   "metadata": {}
  },
  {
   "cell_type": "markdown",
   "source": [
    "##\r\n",
    "---"
   ],
   "metadata": {}
  },
  {
   "cell_type": "markdown",
   "source": [
    "# Results"
   ],
   "metadata": {}
  },
  {
   "cell_type": "markdown",
   "source": [
    "## *Question 1*"
   ],
   "metadata": {}
  },
  {
   "cell_type": "markdown",
   "source": [
    "With respect to gross income and net income, animated movies clearly perform best, followed by adventure and sci-fi films, as their median net incomes are significantly higher than the rest of the genres. These distributions have more spread than all other genres, and so their medians are less representative as a measure of central tendency. However, the majority of data within their IQR's lies above the median net income of all other genres, making them the most profitable. This finding is highlighted in the boxplot depicting the relationship between net income and genre, as shown below:\r\n",
    "\r\n",
    "![figure1](./images/net_income_by_genre.png)\r\n",
    "\r\n",
    "In terms of cost-to-income rato, mystery and horror films perform best. It follows that, for films with smaller production budgets and gross incomes, mystery and horror films perform best in terms of income per dollar spent on production. Followed closely behind these two are animation, sci-fi, and adventure films, providing further evidence that films of these genres are the most profitable. These findings are highlighted in the boxplot depicting the relationship between cost-to-income ratio and genre, as shown below:\r\n",
    "\r\n",
    "![figure4](./images/cost_income_ratio_by_genre.png)"
   ],
   "metadata": {}
  },
  {
   "cell_type": "markdown",
   "source": [
    "##\r\n",
    "---"
   ],
   "metadata": {}
  },
  {
   "cell_type": "markdown",
   "source": [
    "## *Question 2*"
   ],
   "metadata": {}
  },
  {
   "cell_type": "markdown",
   "source": [
    "With respect to rating, the highest performers are documentaries, in addition to biographies and films related to music, history, and sports. This is true for both the *IMDb* and *TMDb*  mean ratings, as their distribution are strikingly similar. However, these genres do not overlap at all with the highest financial performers discussed above. This finding is highlighted in the bar graphs depicting the relationship between genre and mean *IMDb* and *TMDb* rating, as shown below:\r\n",
    "\r\n",
    "![figure2](./images/imdb_rating_by_genre.png)\r\n",
    "\r\n",
    "![figure4](./images/tmdb_rating_by_genre.png)"
   ],
   "metadata": {}
  },
  {
   "cell_type": "markdown",
   "source": [
    "##\r\n",
    "---"
   ],
   "metadata": {}
  },
  {
   "cell_type": "markdown",
   "source": [
    "## *Question 3*"
   ],
   "metadata": {}
  },
  {
   "cell_type": "markdown",
   "source": [
    "A film's production budget correlates strongly with gross income and net income, meaning that the profitability of a movie is likely to increase as the amount of money allocated for its production increases, and vice versa. Surprisingly, rating shows a weak correlation with production budget. This implies that increasing the budget for movie production, although likely to increase profit, does not ensure that viewers will enjoy the film itself. These findings are highlighted in the regression plots depicting the relationship between budget and performance, as shown below:\r\n",
    "\r\n",
    "![figure3](./images/budget_correlations_with_performance.png)"
   ],
   "metadata": {}
  },
  {
   "cell_type": "markdown",
   "source": [
    "##\r\n",
    "---"
   ],
   "metadata": {}
  },
  {
   "cell_type": "markdown",
   "source": [
    "# Conclusions"
   ],
   "metadata": {}
  },
  {
   "cell_type": "markdown",
   "source": [
    "Given a large production budget, the best choices to consider for movie genre, financially, are animation, adventure, and sci-fi movies since they have the highest median gross incomes and median net incomes among all genres. Given a smaller production budget, mystery and horror films are the most likely to perform the best financially, with the lowest cost-to-income ratios among all genres. \r\n",
    "\r\n",
    "In terms of audience enjoyment, documentaries, along with biographies, music-related movies, historical movies, and sports-related movies recieve the highest ratings. However, none of these genres are high-performers financially, and so are not good choices in terms of profit. \r\n",
    "\r\n",
    "Finally, production budget should be regarded as a major factor when producing a film. It shows strong correlation with gross income and net income."
   ],
   "metadata": {}
  },
  {
   "cell_type": "markdown",
   "source": [
    "##\r\n",
    "---"
   ],
   "metadata": {}
  },
  {
   "cell_type": "markdown",
   "source": [
    "# Limitations & Ideas for Further Analysis"
   ],
   "metadata": {}
  },
  {
   "cell_type": "markdown",
   "source": [
    "This limitations of this analysis stem mainly from the datasets themselves. The dataset containing financial information had data for only around 5,000 films, however, due to the nature of the analysis, only about 1,500 movies were able to used in the analysis. Also, production budgets and incomes, as reported by movie production agencies, are notorious for being exegerrated, and so some of this data is not reliable. Gross incomes and production budgets of a wider variety of films should therefore be collected. Further analysis should focus specifically on films that were financially successful, in order to search for, and gain insight into, the factors that led to this success. For example, determining which directors, writers, and actors are most  involved in these financially high-performing films. Another idea for analysis could involve classifying the tropes (i.e. the manner in which certain characters, settings, and situations are used in a given genre) that correlate the most highly with financial success.\r\n",
    "\r\n",
    "Additionally, financial performance did not correlate with *TMDb* and *IMDb* ratings, which rendered these ratings ineffective as a measure of performance. The correlation between ratings from other sources and financial performance should be investigated more thoroughly because it is impractical to rely solely on financial data as an indicator of success. For example, ratings from *Rotten Tomatoes* could be investigated as a potential metric for performance."
   ],
   "metadata": {}
  }
 ],
 "metadata": {
  "orig_nbformat": 4,
  "language_info": {
   "name": "python",
   "version": "3.8.5",
   "mimetype": "text/x-python",
   "codemirror_mode": {
    "name": "ipython",
    "version": 3
   },
   "pygments_lexer": "ipython3",
   "nbconvert_exporter": "python",
   "file_extension": ".py"
  },
  "kernelspec": {
   "name": "python3",
   "display_name": "Python 3.8.5 64-bit"
  },
  "interpreter": {
   "hash": "6ceedc61b457f06e34f4dcbde466844a1e718dedaf219119a1cc61ec59de0221"
  }
 },
 "nbformat": 4,
 "nbformat_minor": 2
}