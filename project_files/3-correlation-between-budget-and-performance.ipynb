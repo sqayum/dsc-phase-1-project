{
 "cells": [
  {
   "cell_type": "markdown",
   "source": [
    "# Question 3 \r\n",
    "# *Does a film's financial performance and/or ratings depend on its production budget?*"
   ],
   "metadata": {}
  },
  {
   "cell_type": "markdown",
   "source": [
    "## 3.1 - Importing the Required Modules and DataFrames"
   ],
   "metadata": {}
  },
  {
   "cell_type": "markdown",
   "source": [
    "### 3.1.1 - Import the Required Modules"
   ],
   "metadata": {}
  },
  {
   "cell_type": "code",
   "execution_count": 1,
   "source": [
    "import pandas as pd\r\n",
    "import numpy as np\r\n",
    "\r\n",
    "import matplotlib.pyplot as plt\r\n",
    "%matplotlib inline\r\n",
    "\r\n",
    "import seaborn as sns\r\n",
    "sns.set_style(\"darkgrid\")\r\n",
    "sns.set_context(\"talk\")"
   ],
   "outputs": [],
   "metadata": {}
  },
  {
   "cell_type": "markdown",
   "source": [
    "### 3.1.2 - Load the Required Mapping DataFrames"
   ],
   "metadata": {}
  },
  {
   "cell_type": "code",
   "execution_count": 2,
   "source": [
    "id_to_financials_map = pd.read_csv(\"maps/id_to_financials_map.csv\", index_col=\"movie_ID\").drop(columns=\"cost_income_ratio\")\r\n",
    "id_to_tmdb_rating_map = pd.read_csv(\"maps/id_to_tmdb_rating_map.csv\", index_col=\"movie_ID\")\r\n",
    "id_to_imdb_rating_map = pd.read_csv(\"maps/id_to_imdb_rating_map.csv\", index_col=\"movie_ID\")"
   ],
   "outputs": [],
   "metadata": {}
  },
  {
   "cell_type": "code",
   "execution_count": 3,
   "source": [
    "id_to_financials_map.head()"
   ],
   "outputs": [
    {
     "output_type": "execute_result",
     "data": {
      "text/plain": [
       "           production_budget  gross_income  net_income\n",
       "movie_ID                                              \n",
       "tt1179933            5000000     108286422   103286422\n",
       "tt3453052           12000000         14616   -11985384\n",
       "tt1413492           35000000      71118378    36118378\n",
       "tt2024544           20000000     181025343   161025343\n",
       "tt1542344           18000000      60217171    42217171"
      ],
      "text/html": [
       "<div>\n",
       "<style scoped>\n",
       "    .dataframe tbody tr th:only-of-type {\n",
       "        vertical-align: middle;\n",
       "    }\n",
       "\n",
       "    .dataframe tbody tr th {\n",
       "        vertical-align: top;\n",
       "    }\n",
       "\n",
       "    .dataframe thead th {\n",
       "        text-align: right;\n",
       "    }\n",
       "</style>\n",
       "<table border=\"1\" class=\"dataframe\">\n",
       "  <thead>\n",
       "    <tr style=\"text-align: right;\">\n",
       "      <th></th>\n",
       "      <th>production_budget</th>\n",
       "      <th>gross_income</th>\n",
       "      <th>net_income</th>\n",
       "    </tr>\n",
       "    <tr>\n",
       "      <th>movie_ID</th>\n",
       "      <th></th>\n",
       "      <th></th>\n",
       "      <th></th>\n",
       "    </tr>\n",
       "  </thead>\n",
       "  <tbody>\n",
       "    <tr>\n",
       "      <th>tt1179933</th>\n",
       "      <td>5000000</td>\n",
       "      <td>108286422</td>\n",
       "      <td>103286422</td>\n",
       "    </tr>\n",
       "    <tr>\n",
       "      <th>tt3453052</th>\n",
       "      <td>12000000</td>\n",
       "      <td>14616</td>\n",
       "      <td>-11985384</td>\n",
       "    </tr>\n",
       "    <tr>\n",
       "      <th>tt1413492</th>\n",
       "      <td>35000000</td>\n",
       "      <td>71118378</td>\n",
       "      <td>36118378</td>\n",
       "    </tr>\n",
       "    <tr>\n",
       "      <th>tt2024544</th>\n",
       "      <td>20000000</td>\n",
       "      <td>181025343</td>\n",
       "      <td>161025343</td>\n",
       "    </tr>\n",
       "    <tr>\n",
       "      <th>tt1542344</th>\n",
       "      <td>18000000</td>\n",
       "      <td>60217171</td>\n",
       "      <td>42217171</td>\n",
       "    </tr>\n",
       "  </tbody>\n",
       "</table>\n",
       "</div>"
      ]
     },
     "metadata": {},
     "execution_count": 3
    }
   ],
   "metadata": {}
  },
  {
   "cell_type": "code",
   "execution_count": 4,
   "source": [
    "id_to_tmdb_rating_map.head()"
   ],
   "outputs": [
    {
     "output_type": "execute_result",
     "data": {
      "text/plain": [
       "           average_rating\n",
       "movie_ID                 \n",
       "tt3526286             3.3\n",
       "tt6540984             4.3\n",
       "tt2075318             5.3\n",
       "tt2106284             6.8\n",
       "tt1811293             5.3"
      ],
      "text/html": [
       "<div>\n",
       "<style scoped>\n",
       "    .dataframe tbody tr th:only-of-type {\n",
       "        vertical-align: middle;\n",
       "    }\n",
       "\n",
       "    .dataframe tbody tr th {\n",
       "        vertical-align: top;\n",
       "    }\n",
       "\n",
       "    .dataframe thead th {\n",
       "        text-align: right;\n",
       "    }\n",
       "</style>\n",
       "<table border=\"1\" class=\"dataframe\">\n",
       "  <thead>\n",
       "    <tr style=\"text-align: right;\">\n",
       "      <th></th>\n",
       "      <th>average_rating</th>\n",
       "    </tr>\n",
       "    <tr>\n",
       "      <th>movie_ID</th>\n",
       "      <th></th>\n",
       "    </tr>\n",
       "  </thead>\n",
       "  <tbody>\n",
       "    <tr>\n",
       "      <th>tt3526286</th>\n",
       "      <td>3.3</td>\n",
       "    </tr>\n",
       "    <tr>\n",
       "      <th>tt6540984</th>\n",
       "      <td>4.3</td>\n",
       "    </tr>\n",
       "    <tr>\n",
       "      <th>tt2075318</th>\n",
       "      <td>5.3</td>\n",
       "    </tr>\n",
       "    <tr>\n",
       "      <th>tt2106284</th>\n",
       "      <td>6.8</td>\n",
       "    </tr>\n",
       "    <tr>\n",
       "      <th>tt1811293</th>\n",
       "      <td>5.3</td>\n",
       "    </tr>\n",
       "  </tbody>\n",
       "</table>\n",
       "</div>"
      ]
     },
     "metadata": {},
     "execution_count": 4
    }
   ],
   "metadata": {}
  },
  {
   "cell_type": "code",
   "execution_count": 5,
   "source": [
    "id_to_imdb_rating_map.head()"
   ],
   "outputs": [
    {
     "output_type": "execute_result",
     "data": {
      "text/plain": [
       "            average_rating\n",
       "movie_ID                  \n",
       "tt10356526             8.3\n",
       "tt10384606             8.9\n",
       "tt1042974              6.4\n",
       "tt1043726              4.2\n",
       "tt1060240              6.5"
      ],
      "text/html": [
       "<div>\n",
       "<style scoped>\n",
       "    .dataframe tbody tr th:only-of-type {\n",
       "        vertical-align: middle;\n",
       "    }\n",
       "\n",
       "    .dataframe tbody tr th {\n",
       "        vertical-align: top;\n",
       "    }\n",
       "\n",
       "    .dataframe thead th {\n",
       "        text-align: right;\n",
       "    }\n",
       "</style>\n",
       "<table border=\"1\" class=\"dataframe\">\n",
       "  <thead>\n",
       "    <tr style=\"text-align: right;\">\n",
       "      <th></th>\n",
       "      <th>average_rating</th>\n",
       "    </tr>\n",
       "    <tr>\n",
       "      <th>movie_ID</th>\n",
       "      <th></th>\n",
       "    </tr>\n",
       "  </thead>\n",
       "  <tbody>\n",
       "    <tr>\n",
       "      <th>tt10356526</th>\n",
       "      <td>8.3</td>\n",
       "    </tr>\n",
       "    <tr>\n",
       "      <th>tt10384606</th>\n",
       "      <td>8.9</td>\n",
       "    </tr>\n",
       "    <tr>\n",
       "      <th>tt1042974</th>\n",
       "      <td>6.4</td>\n",
       "    </tr>\n",
       "    <tr>\n",
       "      <th>tt1043726</th>\n",
       "      <td>4.2</td>\n",
       "    </tr>\n",
       "    <tr>\n",
       "      <th>tt1060240</th>\n",
       "      <td>6.5</td>\n",
       "    </tr>\n",
       "  </tbody>\n",
       "</table>\n",
       "</div>"
      ]
     },
     "metadata": {},
     "execution_count": 5
    }
   ],
   "metadata": {}
  },
  {
   "cell_type": "markdown",
   "source": [
    "## 3.2 - Merge `id_to_financials_map`, `id_to_tmdb_rating_map`, and `id_to_imdb_rating_map` into a Single DataFrame"
   ],
   "metadata": {}
  },
  {
   "cell_type": "code",
   "execution_count": 6,
   "source": [
    "budget_to_performance_correlations_df = id_to_financials_map.join(id_to_tmdb_rating_map, how=\"inner\").join(id_to_imdb_rating_map, how=\"inner\", lsuffix=\"_tmdb\", rsuffix=\"_imdb\")"
   ],
   "outputs": [],
   "metadata": {}
  },
  {
   "cell_type": "code",
   "execution_count": 7,
   "source": [
    "budget_to_performance_correlations_df.head()"
   ],
   "outputs": [
    {
     "output_type": "execute_result",
     "data": {
      "text/plain": [
       "           production_budget  gross_income  net_income  average_rating_tmdb  \\\n",
       "movie_ID                                                                      \n",
       "tt0359950           91000000     187861183    96861183                  7.1   \n",
       "tt0365907           28000000      62108587    34108587                  6.3   \n",
       "tt0369610          215000000    1648854864  1433854864                  6.6   \n",
       "tt0376136           45000000      21544732   -23455268                  5.7   \n",
       "tt0383010           30000000      54052249    24052249                  5.1   \n",
       "\n",
       "           average_rating_imdb  \n",
       "movie_ID                        \n",
       "tt0359950                  7.3  \n",
       "tt0365907                  6.5  \n",
       "tt0369610                  7.0  \n",
       "tt0376136                  6.2  \n",
       "tt0383010                  5.1  "
      ],
      "text/html": [
       "<div>\n",
       "<style scoped>\n",
       "    .dataframe tbody tr th:only-of-type {\n",
       "        vertical-align: middle;\n",
       "    }\n",
       "\n",
       "    .dataframe tbody tr th {\n",
       "        vertical-align: top;\n",
       "    }\n",
       "\n",
       "    .dataframe thead th {\n",
       "        text-align: right;\n",
       "    }\n",
       "</style>\n",
       "<table border=\"1\" class=\"dataframe\">\n",
       "  <thead>\n",
       "    <tr style=\"text-align: right;\">\n",
       "      <th></th>\n",
       "      <th>production_budget</th>\n",
       "      <th>gross_income</th>\n",
       "      <th>net_income</th>\n",
       "      <th>average_rating_tmdb</th>\n",
       "      <th>average_rating_imdb</th>\n",
       "    </tr>\n",
       "    <tr>\n",
       "      <th>movie_ID</th>\n",
       "      <th></th>\n",
       "      <th></th>\n",
       "      <th></th>\n",
       "      <th></th>\n",
       "      <th></th>\n",
       "    </tr>\n",
       "  </thead>\n",
       "  <tbody>\n",
       "    <tr>\n",
       "      <th>tt0359950</th>\n",
       "      <td>91000000</td>\n",
       "      <td>187861183</td>\n",
       "      <td>96861183</td>\n",
       "      <td>7.1</td>\n",
       "      <td>7.3</td>\n",
       "    </tr>\n",
       "    <tr>\n",
       "      <th>tt0365907</th>\n",
       "      <td>28000000</td>\n",
       "      <td>62108587</td>\n",
       "      <td>34108587</td>\n",
       "      <td>6.3</td>\n",
       "      <td>6.5</td>\n",
       "    </tr>\n",
       "    <tr>\n",
       "      <th>tt0369610</th>\n",
       "      <td>215000000</td>\n",
       "      <td>1648854864</td>\n",
       "      <td>1433854864</td>\n",
       "      <td>6.6</td>\n",
       "      <td>7.0</td>\n",
       "    </tr>\n",
       "    <tr>\n",
       "      <th>tt0376136</th>\n",
       "      <td>45000000</td>\n",
       "      <td>21544732</td>\n",
       "      <td>-23455268</td>\n",
       "      <td>5.7</td>\n",
       "      <td>6.2</td>\n",
       "    </tr>\n",
       "    <tr>\n",
       "      <th>tt0383010</th>\n",
       "      <td>30000000</td>\n",
       "      <td>54052249</td>\n",
       "      <td>24052249</td>\n",
       "      <td>5.1</td>\n",
       "      <td>5.1</td>\n",
       "    </tr>\n",
       "  </tbody>\n",
       "</table>\n",
       "</div>"
      ]
     },
     "metadata": {},
     "execution_count": 7
    }
   ],
   "metadata": {}
  },
  {
   "cell_type": "markdown",
   "source": [
    "## 3.3 - Visualizing the Correlations between *Production Budget* and Performance"
   ],
   "metadata": {}
  },
  {
   "cell_type": "code",
   "execution_count": 8,
   "source": [
    "corr_coefficients = budget_to_performance_correlations_df.corr()[\"production_budget\"]"
   ],
   "outputs": [],
   "metadata": {}
  },
  {
   "cell_type": "code",
   "execution_count": 9,
   "source": [
    "corr_coefficients"
   ],
   "outputs": [
    {
     "output_type": "execute_result",
     "data": {
      "text/plain": [
       "production_budget      1.000000\n",
       "gross_income           0.784437\n",
       "net_income             0.662830\n",
       "average_rating_tmdb    0.143696\n",
       "average_rating_imdb    0.187643\n",
       "Name: production_budget, dtype: float64"
      ]
     },
     "metadata": {},
     "execution_count": 9
    }
   ],
   "metadata": {}
  },
  {
   "cell_type": "code",
   "execution_count": 10,
   "source": [
    "df = budget_to_performance_correlations_df\r\n",
    "fig, axes = plt.subplots(ncols=1, nrows=4, figsize=(22,40), sharex=True)\r\n",
    "\r\n",
    "colors = [\"seagreen\", \"tomato\", \"royalblue\", \"gold\"]\r\n",
    "ylabels = [\"Gross Income [$]\", \"Net Income [$]\", \"Average Rating (TMDb)\", \"Average Rating (IMDb)\"]\r\n",
    "\r\n",
    "for n, feature in enumerate(df.columns[1:]):\r\n",
    "    sns.regplot(x=\"production_budget\",\r\n",
    "                    y=feature,\r\n",
    "                    data=df,\r\n",
    "                    color=colors[n],\r\n",
    "                    ax=axes[n])\r\n",
    "    \r\n",
    "    axes[n].set_xlabel(\"Production Budget [$]\")\r\n",
    "    axes[n].set_ylabel(ylabels[n])\r\n",
    "    axes[n].legend(labels=[f\"r = {corr_coefficients[n+1]:.3f}\"])\r\n"
   ],
   "outputs": [
    {
     "output_type": "display_data",
     "data": {
      "text/plain": [
       "<Figure size 1584x2880 with 4 Axes>"
      ],
      "image/png": ""
     },
     "metadata": {}
    }
   ],
   "metadata": {}
  }
 ],
 "metadata": {
  "orig_nbformat": 4,
  "language_info": {
   "name": "python",
   "version": "3.8.5",
   "mimetype": "text/x-python",
   "codemirror_mode": {
    "name": "ipython",
    "version": 3
   },
   "pygments_lexer": "ipython3",
   "nbconvert_exporter": "python",
   "file_extension": ".py"
  },
  "kernelspec": {
   "name": "python3",
   "display_name": "Python 3.8.5 64-bit ('learn-env': conda)"
  },
  "interpreter": {
   "hash": "6ceedc61b457f06e34f4dcbde466844a1e718dedaf219119a1cc61ec59de0221"
  }
 },
 "nbformat": 4,
 "nbformat_minor": 2
}