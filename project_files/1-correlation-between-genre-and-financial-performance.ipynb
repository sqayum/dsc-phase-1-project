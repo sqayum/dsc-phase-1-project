{
 "cells": [
  {
   "cell_type": "markdown",
   "source": [
    "# Qestion 1 \r\n",
    "# *Which genres of film perform the best financially?*"
   ],
   "metadata": {}
  },
  {
   "cell_type": "markdown",
   "source": [
    "---"
   ],
   "metadata": {}
  },
  {
   "cell_type": "markdown",
   "source": [
    "## 1.1 - Loading the Required Modules and DataFrames"
   ],
   "metadata": {}
  },
  {
   "cell_type": "markdown",
   "source": [
    "### 1.1.1 - Import the Required Modules"
   ],
   "metadata": {}
  },
  {
   "cell_type": "code",
   "execution_count": 51,
   "source": [
    "import pandas as pd\r\n",
    "import numpy as np\r\n",
    "\r\n",
    "import matplotlib.pyplot as plt\r\n",
    "%matplotlib inline\r\n",
    "\r\n",
    "import seaborn as sns\r\n",
    "sns.set_style(\"whitegrid\")\r\n",
    "sns.set_context(\"talk\")"
   ],
   "outputs": [],
   "metadata": {}
  },
  {
   "cell_type": "markdown",
   "source": [
    "### 1.1.2 - Load the Required Mapping DataFrames"
   ],
   "metadata": {}
  },
  {
   "cell_type": "code",
   "execution_count": 52,
   "source": [
    "id_to_genre_map = pd.read_csv(\"maps/id_to_genre_map.csv\", index_col=\"movie_ID\")\r\n",
    "titleyear_to_id_map = pd.read_csv(\"maps/titleyear_to_id_map.csv\", index_col=[\"title\", \"year\"])"
   ],
   "outputs": [],
   "metadata": {}
  },
  {
   "cell_type": "code",
   "execution_count": 53,
   "source": [
    "id_to_genre_map.head()"
   ],
   "outputs": [
    {
     "output_type": "execute_result",
     "data": {
      "text/plain": [
       "             genre_1 genre_2  genre_3\n",
       "movie_ID                             \n",
       "tt0063540     Action   Crime    Drama\n",
       "tt0066787  Biography   Drama      NaN\n",
       "tt0069049      Drama     NaN      NaN\n",
       "tt0069204     Comedy   Drama      NaN\n",
       "tt0100275     Comedy   Drama  Fantasy"
      ],
      "text/html": [
       "<div>\n",
       "<style scoped>\n",
       "    .dataframe tbody tr th:only-of-type {\n",
       "        vertical-align: middle;\n",
       "    }\n",
       "\n",
       "    .dataframe tbody tr th {\n",
       "        vertical-align: top;\n",
       "    }\n",
       "\n",
       "    .dataframe thead th {\n",
       "        text-align: right;\n",
       "    }\n",
       "</style>\n",
       "<table border=\"1\" class=\"dataframe\">\n",
       "  <thead>\n",
       "    <tr style=\"text-align: right;\">\n",
       "      <th></th>\n",
       "      <th>genre_1</th>\n",
       "      <th>genre_2</th>\n",
       "      <th>genre_3</th>\n",
       "    </tr>\n",
       "    <tr>\n",
       "      <th>movie_ID</th>\n",
       "      <th></th>\n",
       "      <th></th>\n",
       "      <th></th>\n",
       "    </tr>\n",
       "  </thead>\n",
       "  <tbody>\n",
       "    <tr>\n",
       "      <th>tt0063540</th>\n",
       "      <td>Action</td>\n",
       "      <td>Crime</td>\n",
       "      <td>Drama</td>\n",
       "    </tr>\n",
       "    <tr>\n",
       "      <th>tt0066787</th>\n",
       "      <td>Biography</td>\n",
       "      <td>Drama</td>\n",
       "      <td>NaN</td>\n",
       "    </tr>\n",
       "    <tr>\n",
       "      <th>tt0069049</th>\n",
       "      <td>Drama</td>\n",
       "      <td>NaN</td>\n",
       "      <td>NaN</td>\n",
       "    </tr>\n",
       "    <tr>\n",
       "      <th>tt0069204</th>\n",
       "      <td>Comedy</td>\n",
       "      <td>Drama</td>\n",
       "      <td>NaN</td>\n",
       "    </tr>\n",
       "    <tr>\n",
       "      <th>tt0100275</th>\n",
       "      <td>Comedy</td>\n",
       "      <td>Drama</td>\n",
       "      <td>Fantasy</td>\n",
       "    </tr>\n",
       "  </tbody>\n",
       "</table>\n",
       "</div>"
      ]
     },
     "metadata": {},
     "execution_count": 53
    }
   ],
   "metadata": {}
  },
  {
   "cell_type": "code",
   "execution_count": 54,
   "source": [
    "titleyear_to_id_map.head()"
   ],
   "outputs": [
    {
     "output_type": "execute_result",
     "data": {
      "text/plain": [
       "                                       movie_ID\n",
       "title                           year           \n",
       "Sunghursh                       2013  tt0063540\n",
       "One Day Before the Rainy Season 2019  tt0066787\n",
       "The Other Side of the Wind      2018  tt0069049\n",
       "Sabse Bada Sukh                 2018  tt0069204\n",
       "The Wandering Soap Opera        2017  tt0100275"
      ],
      "text/html": [
       "<div>\n",
       "<style scoped>\n",
       "    .dataframe tbody tr th:only-of-type {\n",
       "        vertical-align: middle;\n",
       "    }\n",
       "\n",
       "    .dataframe tbody tr th {\n",
       "        vertical-align: top;\n",
       "    }\n",
       "\n",
       "    .dataframe thead th {\n",
       "        text-align: right;\n",
       "    }\n",
       "</style>\n",
       "<table border=\"1\" class=\"dataframe\">\n",
       "  <thead>\n",
       "    <tr style=\"text-align: right;\">\n",
       "      <th></th>\n",
       "      <th></th>\n",
       "      <th>movie_ID</th>\n",
       "    </tr>\n",
       "    <tr>\n",
       "      <th>title</th>\n",
       "      <th>year</th>\n",
       "      <th></th>\n",
       "    </tr>\n",
       "  </thead>\n",
       "  <tbody>\n",
       "    <tr>\n",
       "      <th>Sunghursh</th>\n",
       "      <th>2013</th>\n",
       "      <td>tt0063540</td>\n",
       "    </tr>\n",
       "    <tr>\n",
       "      <th>One Day Before the Rainy Season</th>\n",
       "      <th>2019</th>\n",
       "      <td>tt0066787</td>\n",
       "    </tr>\n",
       "    <tr>\n",
       "      <th>The Other Side of the Wind</th>\n",
       "      <th>2018</th>\n",
       "      <td>tt0069049</td>\n",
       "    </tr>\n",
       "    <tr>\n",
       "      <th>Sabse Bada Sukh</th>\n",
       "      <th>2018</th>\n",
       "      <td>tt0069204</td>\n",
       "    </tr>\n",
       "    <tr>\n",
       "      <th>The Wandering Soap Opera</th>\n",
       "      <th>2017</th>\n",
       "      <td>tt0100275</td>\n",
       "    </tr>\n",
       "  </tbody>\n",
       "</table>\n",
       "</div>"
      ]
     },
     "metadata": {},
     "execution_count": 54
    }
   ],
   "metadata": {}
  },
  {
   "cell_type": "markdown",
   "source": [
    "##\r\n",
    "---"
   ],
   "metadata": {}
  },
  {
   "cell_type": "markdown",
   "source": [
    "## 1.2 - Importing and Cleaning the Dataset in `tn.movie_budgets.csv`"
   ],
   "metadata": {}
  },
  {
   "cell_type": "markdown",
   "source": [
    "### 1.2.1 - Import the Dataset in `tn.movie_budgets.csv`"
   ],
   "metadata": {}
  },
  {
   "cell_type": "code",
   "execution_count": 55,
   "source": [
    "tn_movie_budgets_df = pd.read_csv(\"data/tn.movie_budgets.csv\")"
   ],
   "outputs": [],
   "metadata": {}
  },
  {
   "cell_type": "code",
   "execution_count": 56,
   "source": [
    "tn_movie_budgets_df.info()"
   ],
   "outputs": [
    {
     "output_type": "stream",
     "name": "stdout",
     "text": [
      "<class 'pandas.core.frame.DataFrame'>\n",
      "RangeIndex: 5782 entries, 0 to 5781\n",
      "Data columns (total 6 columns):\n",
      " #   Column             Non-Null Count  Dtype \n",
      "---  ------             --------------  ----- \n",
      " 0   id                 5782 non-null   int64 \n",
      " 1   release_date       5782 non-null   object\n",
      " 2   movie              5782 non-null   object\n",
      " 3   production_budget  5782 non-null   object\n",
      " 4   domestic_gross     5782 non-null   object\n",
      " 5   worldwide_gross    5782 non-null   object\n",
      "dtypes: int64(1), object(5)\n",
      "memory usage: 271.2+ KB\n"
     ]
    }
   ],
   "metadata": {}
  },
  {
   "cell_type": "markdown",
   "source": [
    "### 1.2.2 - Drop the Unnecessary Columns from `tn.movie_budgets.csv`"
   ],
   "metadata": {}
  },
  {
   "cell_type": "code",
   "execution_count": 57,
   "source": [
    "tn_movie_budgets_df.drop([\"id\", \"domestic_gross\"], axis=1, inplace=True)"
   ],
   "outputs": [],
   "metadata": {}
  },
  {
   "cell_type": "code",
   "execution_count": 58,
   "source": [
    "tn_movie_budgets_df.head()"
   ],
   "outputs": [
    {
     "output_type": "execute_result",
     "data": {
      "text/plain": [
       "   release_date                                        movie  \\\n",
       "0  Dec 18, 2009                                       Avatar   \n",
       "1  May 20, 2011  Pirates of the Caribbean: On Stranger Tides   \n",
       "2   Jun 7, 2019                                 Dark Phoenix   \n",
       "3   May 1, 2015                      Avengers: Age of Ultron   \n",
       "4  Dec 15, 2017            Star Wars Ep. VIII: The Last Jedi   \n",
       "\n",
       "  production_budget worldwide_gross  \n",
       "0      $425,000,000  $2,776,345,279  \n",
       "1      $410,600,000  $1,045,663,875  \n",
       "2      $350,000,000    $149,762,350  \n",
       "3      $330,600,000  $1,403,013,963  \n",
       "4      $317,000,000  $1,316,721,747  "
      ],
      "text/html": [
       "<div>\n",
       "<style scoped>\n",
       "    .dataframe tbody tr th:only-of-type {\n",
       "        vertical-align: middle;\n",
       "    }\n",
       "\n",
       "    .dataframe tbody tr th {\n",
       "        vertical-align: top;\n",
       "    }\n",
       "\n",
       "    .dataframe thead th {\n",
       "        text-align: right;\n",
       "    }\n",
       "</style>\n",
       "<table border=\"1\" class=\"dataframe\">\n",
       "  <thead>\n",
       "    <tr style=\"text-align: right;\">\n",
       "      <th></th>\n",
       "      <th>release_date</th>\n",
       "      <th>movie</th>\n",
       "      <th>production_budget</th>\n",
       "      <th>worldwide_gross</th>\n",
       "    </tr>\n",
       "  </thead>\n",
       "  <tbody>\n",
       "    <tr>\n",
       "      <th>0</th>\n",
       "      <td>Dec 18, 2009</td>\n",
       "      <td>Avatar</td>\n",
       "      <td>$425,000,000</td>\n",
       "      <td>$2,776,345,279</td>\n",
       "    </tr>\n",
       "    <tr>\n",
       "      <th>1</th>\n",
       "      <td>May 20, 2011</td>\n",
       "      <td>Pirates of the Caribbean: On Stranger Tides</td>\n",
       "      <td>$410,600,000</td>\n",
       "      <td>$1,045,663,875</td>\n",
       "    </tr>\n",
       "    <tr>\n",
       "      <th>2</th>\n",
       "      <td>Jun 7, 2019</td>\n",
       "      <td>Dark Phoenix</td>\n",
       "      <td>$350,000,000</td>\n",
       "      <td>$149,762,350</td>\n",
       "    </tr>\n",
       "    <tr>\n",
       "      <th>3</th>\n",
       "      <td>May 1, 2015</td>\n",
       "      <td>Avengers: Age of Ultron</td>\n",
       "      <td>$330,600,000</td>\n",
       "      <td>$1,403,013,963</td>\n",
       "    </tr>\n",
       "    <tr>\n",
       "      <th>4</th>\n",
       "      <td>Dec 15, 2017</td>\n",
       "      <td>Star Wars Ep. VIII: The Last Jedi</td>\n",
       "      <td>$317,000,000</td>\n",
       "      <td>$1,316,721,747</td>\n",
       "    </tr>\n",
       "  </tbody>\n",
       "</table>\n",
       "</div>"
      ]
     },
     "metadata": {},
     "execution_count": 58
    }
   ],
   "metadata": {}
  },
  {
   "cell_type": "markdown",
   "source": [
    "### 1.2.3 - Discard the Day and Month of each Date in the `release_date` Column"
   ],
   "metadata": {}
  },
  {
   "cell_type": "code",
   "execution_count": 59,
   "source": [
    "tn_movie_budgets_df[\"release_date\"].head()"
   ],
   "outputs": [
    {
     "output_type": "execute_result",
     "data": {
      "text/plain": [
       "0    Dec 18, 2009\n",
       "1    May 20, 2011\n",
       "2     Jun 7, 2019\n",
       "3     May 1, 2015\n",
       "4    Dec 15, 2017\n",
       "Name: release_date, dtype: object"
      ]
     },
     "metadata": {},
     "execution_count": 59
    }
   ],
   "metadata": {}
  },
  {
   "cell_type": "code",
   "execution_count": 60,
   "source": [
    "tn_movie_budgets_df[\"release_date\"] = tn_movie_budgets_df[\"release_date\"].str.split(' ').map(lambda x: int(x[-1]))"
   ],
   "outputs": [],
   "metadata": {}
  },
  {
   "cell_type": "code",
   "execution_count": 61,
   "source": [
    "tn_movie_budgets_df[\"release_date\"].head()"
   ],
   "outputs": [
    {
     "output_type": "execute_result",
     "data": {
      "text/plain": [
       "0    2009\n",
       "1    2011\n",
       "2    2019\n",
       "3    2015\n",
       "4    2017\n",
       "Name: release_date, dtype: int64"
      ]
     },
     "metadata": {},
     "execution_count": 61
    }
   ],
   "metadata": {}
  },
  {
   "cell_type": "markdown",
   "source": [
    "### 1.2.4 - Rename the Relevant Columns of `tn.movie_budgets.csv`"
   ],
   "metadata": {}
  },
  {
   "cell_type": "code",
   "execution_count": 62,
   "source": [
    "tn_movie_budgets_df.columns"
   ],
   "outputs": [
    {
     "output_type": "execute_result",
     "data": {
      "text/plain": [
       "Index(['release_date', 'movie', 'production_budget', 'worldwide_gross'], dtype='object')"
      ]
     },
     "metadata": {},
     "execution_count": 62
    }
   ],
   "metadata": {}
  },
  {
   "cell_type": "code",
   "execution_count": 63,
   "source": [
    "tn_movie_budgets_df.rename(columns={\"release_date\": \"year\", \"movie\": \"title\", \"worldwide_gross\": \"gross_income\"}, inplace=True)"
   ],
   "outputs": [],
   "metadata": {}
  },
  {
   "cell_type": "code",
   "execution_count": 64,
   "source": [
    "tn_movie_budgets_df.columns"
   ],
   "outputs": [
    {
     "output_type": "execute_result",
     "data": {
      "text/plain": [
       "Index(['year', 'title', 'production_budget', 'gross_income'], dtype='object')"
      ]
     },
     "metadata": {},
     "execution_count": 64
    }
   ],
   "metadata": {}
  },
  {
   "cell_type": "markdown",
   "source": [
    "### 1.2.5 - View the Cleaned `tn.movie_budgets.csv` DataFrame"
   ],
   "metadata": {}
  },
  {
   "cell_type": "code",
   "execution_count": 65,
   "source": [
    "tn_movie_budgets_df.head()"
   ],
   "outputs": [
    {
     "output_type": "execute_result",
     "data": {
      "text/plain": [
       "   year                                        title production_budget  \\\n",
       "0  2009                                       Avatar      $425,000,000   \n",
       "1  2011  Pirates of the Caribbean: On Stranger Tides      $410,600,000   \n",
       "2  2019                                 Dark Phoenix      $350,000,000   \n",
       "3  2015                      Avengers: Age of Ultron      $330,600,000   \n",
       "4  2017            Star Wars Ep. VIII: The Last Jedi      $317,000,000   \n",
       "\n",
       "     gross_income  \n",
       "0  $2,776,345,279  \n",
       "1  $1,045,663,875  \n",
       "2    $149,762,350  \n",
       "3  $1,403,013,963  \n",
       "4  $1,316,721,747  "
      ],
      "text/html": [
       "<div>\n",
       "<style scoped>\n",
       "    .dataframe tbody tr th:only-of-type {\n",
       "        vertical-align: middle;\n",
       "    }\n",
       "\n",
       "    .dataframe tbody tr th {\n",
       "        vertical-align: top;\n",
       "    }\n",
       "\n",
       "    .dataframe thead th {\n",
       "        text-align: right;\n",
       "    }\n",
       "</style>\n",
       "<table border=\"1\" class=\"dataframe\">\n",
       "  <thead>\n",
       "    <tr style=\"text-align: right;\">\n",
       "      <th></th>\n",
       "      <th>year</th>\n",
       "      <th>title</th>\n",
       "      <th>production_budget</th>\n",
       "      <th>gross_income</th>\n",
       "    </tr>\n",
       "  </thead>\n",
       "  <tbody>\n",
       "    <tr>\n",
       "      <th>0</th>\n",
       "      <td>2009</td>\n",
       "      <td>Avatar</td>\n",
       "      <td>$425,000,000</td>\n",
       "      <td>$2,776,345,279</td>\n",
       "    </tr>\n",
       "    <tr>\n",
       "      <th>1</th>\n",
       "      <td>2011</td>\n",
       "      <td>Pirates of the Caribbean: On Stranger Tides</td>\n",
       "      <td>$410,600,000</td>\n",
       "      <td>$1,045,663,875</td>\n",
       "    </tr>\n",
       "    <tr>\n",
       "      <th>2</th>\n",
       "      <td>2019</td>\n",
       "      <td>Dark Phoenix</td>\n",
       "      <td>$350,000,000</td>\n",
       "      <td>$149,762,350</td>\n",
       "    </tr>\n",
       "    <tr>\n",
       "      <th>3</th>\n",
       "      <td>2015</td>\n",
       "      <td>Avengers: Age of Ultron</td>\n",
       "      <td>$330,600,000</td>\n",
       "      <td>$1,403,013,963</td>\n",
       "    </tr>\n",
       "    <tr>\n",
       "      <th>4</th>\n",
       "      <td>2017</td>\n",
       "      <td>Star Wars Ep. VIII: The Last Jedi</td>\n",
       "      <td>$317,000,000</td>\n",
       "      <td>$1,316,721,747</td>\n",
       "    </tr>\n",
       "  </tbody>\n",
       "</table>\n",
       "</div>"
      ]
     },
     "metadata": {},
     "execution_count": 65
    }
   ],
   "metadata": {}
  },
  {
   "cell_type": "markdown",
   "source": [
    "### 1.2.6 - Reformat the Entries in the `production_budget` and `gross_income` as Integers"
   ],
   "metadata": {}
  },
  {
   "cell_type": "code",
   "execution_count": 66,
   "source": [
    "tn_movie_budgets_df[[\"production_budget\", \"gross_income\"]]"
   ],
   "outputs": [
    {
     "output_type": "execute_result",
     "data": {
      "text/plain": [
       "     production_budget    gross_income\n",
       "0         $425,000,000  $2,776,345,279\n",
       "1         $410,600,000  $1,045,663,875\n",
       "2         $350,000,000    $149,762,350\n",
       "3         $330,600,000  $1,403,013,963\n",
       "4         $317,000,000  $1,316,721,747\n",
       "...                ...             ...\n",
       "5777            $7,000              $0\n",
       "5778            $6,000        $240,495\n",
       "5779            $5,000          $1,338\n",
       "5780            $1,400              $0\n",
       "5781            $1,100        $181,041\n",
       "\n",
       "[5782 rows x 2 columns]"
      ],
      "text/html": [
       "<div>\n",
       "<style scoped>\n",
       "    .dataframe tbody tr th:only-of-type {\n",
       "        vertical-align: middle;\n",
       "    }\n",
       "\n",
       "    .dataframe tbody tr th {\n",
       "        vertical-align: top;\n",
       "    }\n",
       "\n",
       "    .dataframe thead th {\n",
       "        text-align: right;\n",
       "    }\n",
       "</style>\n",
       "<table border=\"1\" class=\"dataframe\">\n",
       "  <thead>\n",
       "    <tr style=\"text-align: right;\">\n",
       "      <th></th>\n",
       "      <th>production_budget</th>\n",
       "      <th>gross_income</th>\n",
       "    </tr>\n",
       "  </thead>\n",
       "  <tbody>\n",
       "    <tr>\n",
       "      <th>0</th>\n",
       "      <td>$425,000,000</td>\n",
       "      <td>$2,776,345,279</td>\n",
       "    </tr>\n",
       "    <tr>\n",
       "      <th>1</th>\n",
       "      <td>$410,600,000</td>\n",
       "      <td>$1,045,663,875</td>\n",
       "    </tr>\n",
       "    <tr>\n",
       "      <th>2</th>\n",
       "      <td>$350,000,000</td>\n",
       "      <td>$149,762,350</td>\n",
       "    </tr>\n",
       "    <tr>\n",
       "      <th>3</th>\n",
       "      <td>$330,600,000</td>\n",
       "      <td>$1,403,013,963</td>\n",
       "    </tr>\n",
       "    <tr>\n",
       "      <th>4</th>\n",
       "      <td>$317,000,000</td>\n",
       "      <td>$1,316,721,747</td>\n",
       "    </tr>\n",
       "    <tr>\n",
       "      <th>...</th>\n",
       "      <td>...</td>\n",
       "      <td>...</td>\n",
       "    </tr>\n",
       "    <tr>\n",
       "      <th>5777</th>\n",
       "      <td>$7,000</td>\n",
       "      <td>$0</td>\n",
       "    </tr>\n",
       "    <tr>\n",
       "      <th>5778</th>\n",
       "      <td>$6,000</td>\n",
       "      <td>$240,495</td>\n",
       "    </tr>\n",
       "    <tr>\n",
       "      <th>5779</th>\n",
       "      <td>$5,000</td>\n",
       "      <td>$1,338</td>\n",
       "    </tr>\n",
       "    <tr>\n",
       "      <th>5780</th>\n",
       "      <td>$1,400</td>\n",
       "      <td>$0</td>\n",
       "    </tr>\n",
       "    <tr>\n",
       "      <th>5781</th>\n",
       "      <td>$1,100</td>\n",
       "      <td>$181,041</td>\n",
       "    </tr>\n",
       "  </tbody>\n",
       "</table>\n",
       "<p>5782 rows × 2 columns</p>\n",
       "</div>"
      ]
     },
     "metadata": {},
     "execution_count": 66
    }
   ],
   "metadata": {}
  },
  {
   "cell_type": "code",
   "execution_count": 67,
   "source": [
    "tn_movie_budgets_df[[\"production_budget\", \"gross_income\"]].info()\r\n"
   ],
   "outputs": [
    {
     "output_type": "stream",
     "name": "stdout",
     "text": [
      "<class 'pandas.core.frame.DataFrame'>\n",
      "RangeIndex: 5782 entries, 0 to 5781\n",
      "Data columns (total 2 columns):\n",
      " #   Column             Non-Null Count  Dtype \n",
      "---  ------             --------------  ----- \n",
      " 0   production_budget  5782 non-null   object\n",
      " 1   gross_income       5782 non-null   object\n",
      "dtypes: object(2)\n",
      "memory usage: 90.5+ KB\n"
     ]
    }
   ],
   "metadata": {}
  },
  {
   "cell_type": "code",
   "execution_count": 68,
   "source": [
    "tn_movie_budgets_df[\"production_budget\"] = tn_movie_budgets_df[\"production_budget\"].str.replace(\"[$,]\", '', regex=True).map(lambda x: int(x))\r\n",
    "tn_movie_budgets_df[\"gross_income\"] = tn_movie_budgets_df[\"gross_income\"].str.replace(\"[$,]\", '', regex=True).map(lambda x: int(x))"
   ],
   "outputs": [],
   "metadata": {}
  },
  {
   "cell_type": "code",
   "execution_count": 69,
   "source": [
    "tn_movie_budgets_df[[\"production_budget\", \"gross_income\"]].info()"
   ],
   "outputs": [
    {
     "output_type": "stream",
     "name": "stdout",
     "text": [
      "<class 'pandas.core.frame.DataFrame'>\n",
      "RangeIndex: 5782 entries, 0 to 5781\n",
      "Data columns (total 2 columns):\n",
      " #   Column             Non-Null Count  Dtype\n",
      "---  ------             --------------  -----\n",
      " 0   production_budget  5782 non-null   int64\n",
      " 1   gross_income       5782 non-null   int64\n",
      "dtypes: int64(2)\n",
      "memory usage: 90.5 KB\n"
     ]
    }
   ],
   "metadata": {}
  },
  {
   "cell_type": "markdown",
   "source": [
    "### 1.2.7 - Drop Rows with a Null Value for `production_budget` or `gross_income`"
   ],
   "metadata": {}
  },
  {
   "cell_type": "code",
   "execution_count": 70,
   "source": [
    "print(0 in tn_movie_budgets_df[\"production_budget\"].unique())\r\n",
    "print(0 in tn_movie_budgets_df[\"gross_income\"].unique())"
   ],
   "outputs": [
    {
     "output_type": "stream",
     "name": "stdout",
     "text": [
      "False\n",
      "True\n"
     ]
    }
   ],
   "metadata": {}
  },
  {
   "cell_type": "code",
   "execution_count": 71,
   "source": [
    "tn_movie_budgets_df[\"gross_income\"].value_counts()[0]"
   ],
   "outputs": [
    {
     "output_type": "execute_result",
     "data": {
      "text/plain": [
       "367"
      ]
     },
     "metadata": {},
     "execution_count": 71
    }
   ],
   "metadata": {}
  },
  {
   "cell_type": "code",
   "execution_count": 72,
   "source": [
    "tn_movie_budgets_df = tn_movie_budgets_df[tn_movie_budgets_df[\"gross_income\"] > 0]"
   ],
   "outputs": [],
   "metadata": {}
  },
  {
   "cell_type": "code",
   "execution_count": 73,
   "source": [
    "print(0 in tn_movie_budgets_df[\"gross_income\"].unique())"
   ],
   "outputs": [
    {
     "output_type": "stream",
     "name": "stdout",
     "text": [
      "False\n"
     ]
    }
   ],
   "metadata": {}
  },
  {
   "cell_type": "markdown",
   "source": [
    "### 1.2.8 - Set the `title` and `year` Columns as the Index of `tn_movie_budgets_df`"
   ],
   "metadata": {}
  },
  {
   "cell_type": "code",
   "execution_count": 74,
   "source": [
    "tn_movie_budgets_df.set_index([\"title\", \"year\"], inplace=True)"
   ],
   "outputs": [],
   "metadata": {}
  },
  {
   "cell_type": "code",
   "execution_count": 75,
   "source": [
    "tn_movie_budgets_df.head()"
   ],
   "outputs": [
    {
     "output_type": "execute_result",
     "data": {
      "text/plain": [
       "                                                  production_budget  \\\n",
       "title                                       year                      \n",
       "Avatar                                      2009          425000000   \n",
       "Pirates of the Caribbean: On Stranger Tides 2011          410600000   \n",
       "Dark Phoenix                                2019          350000000   \n",
       "Avengers: Age of Ultron                     2015          330600000   \n",
       "Star Wars Ep. VIII: The Last Jedi           2017          317000000   \n",
       "\n",
       "                                                  gross_income  \n",
       "title                                       year                \n",
       "Avatar                                      2009    2776345279  \n",
       "Pirates of the Caribbean: On Stranger Tides 2011    1045663875  \n",
       "Dark Phoenix                                2019     149762350  \n",
       "Avengers: Age of Ultron                     2015    1403013963  \n",
       "Star Wars Ep. VIII: The Last Jedi           2017    1316721747  "
      ],
      "text/html": [
       "<div>\n",
       "<style scoped>\n",
       "    .dataframe tbody tr th:only-of-type {\n",
       "        vertical-align: middle;\n",
       "    }\n",
       "\n",
       "    .dataframe tbody tr th {\n",
       "        vertical-align: top;\n",
       "    }\n",
       "\n",
       "    .dataframe thead th {\n",
       "        text-align: right;\n",
       "    }\n",
       "</style>\n",
       "<table border=\"1\" class=\"dataframe\">\n",
       "  <thead>\n",
       "    <tr style=\"text-align: right;\">\n",
       "      <th></th>\n",
       "      <th></th>\n",
       "      <th>production_budget</th>\n",
       "      <th>gross_income</th>\n",
       "    </tr>\n",
       "    <tr>\n",
       "      <th>title</th>\n",
       "      <th>year</th>\n",
       "      <th></th>\n",
       "      <th></th>\n",
       "    </tr>\n",
       "  </thead>\n",
       "  <tbody>\n",
       "    <tr>\n",
       "      <th>Avatar</th>\n",
       "      <th>2009</th>\n",
       "      <td>425000000</td>\n",
       "      <td>2776345279</td>\n",
       "    </tr>\n",
       "    <tr>\n",
       "      <th>Pirates of the Caribbean: On Stranger Tides</th>\n",
       "      <th>2011</th>\n",
       "      <td>410600000</td>\n",
       "      <td>1045663875</td>\n",
       "    </tr>\n",
       "    <tr>\n",
       "      <th>Dark Phoenix</th>\n",
       "      <th>2019</th>\n",
       "      <td>350000000</td>\n",
       "      <td>149762350</td>\n",
       "    </tr>\n",
       "    <tr>\n",
       "      <th>Avengers: Age of Ultron</th>\n",
       "      <th>2015</th>\n",
       "      <td>330600000</td>\n",
       "      <td>1403013963</td>\n",
       "    </tr>\n",
       "    <tr>\n",
       "      <th>Star Wars Ep. VIII: The Last Jedi</th>\n",
       "      <th>2017</th>\n",
       "      <td>317000000</td>\n",
       "      <td>1316721747</td>\n",
       "    </tr>\n",
       "  </tbody>\n",
       "</table>\n",
       "</div>"
      ]
     },
     "metadata": {},
     "execution_count": 75
    }
   ],
   "metadata": {}
  },
  {
   "cell_type": "markdown",
   "source": [
    "### 1.2.9 - Append the Column with the Associated *Movie ID*  for each *Title* and *Year of Release* by Joining `titleyear_to_id_map` with `tn_movie_budgets_df`\r\n"
   ],
   "metadata": {}
  },
  {
   "cell_type": "code",
   "execution_count": 76,
   "source": [
    "tn_movie_budgets_df = tn_movie_budgets_df.join(titleyear_to_id_map, how='inner')"
   ],
   "outputs": [],
   "metadata": {}
  },
  {
   "cell_type": "code",
   "execution_count": 77,
   "source": [
    "tn_movie_budgets_df.head()"
   ],
   "outputs": [
    {
     "output_type": "execute_result",
     "data": {
      "text/plain": [
       "                            production_budget  gross_income   movie_ID\n",
       "title                 year                                            \n",
       "10 Cloverfield Lane   2016            5000000     108286422  tt1179933\n",
       "10 Days in a Madhouse 2015           12000000         14616  tt3453052\n",
       "12 Strong             2018           35000000      71118378  tt1413492\n",
       "12 Years a Slave      2013           20000000     181025343  tt2024544\n",
       "127 Hours             2010           18000000      60217171  tt1542344"
      ],
      "text/html": [
       "<div>\n",
       "<style scoped>\n",
       "    .dataframe tbody tr th:only-of-type {\n",
       "        vertical-align: middle;\n",
       "    }\n",
       "\n",
       "    .dataframe tbody tr th {\n",
       "        vertical-align: top;\n",
       "    }\n",
       "\n",
       "    .dataframe thead th {\n",
       "        text-align: right;\n",
       "    }\n",
       "</style>\n",
       "<table border=\"1\" class=\"dataframe\">\n",
       "  <thead>\n",
       "    <tr style=\"text-align: right;\">\n",
       "      <th></th>\n",
       "      <th></th>\n",
       "      <th>production_budget</th>\n",
       "      <th>gross_income</th>\n",
       "      <th>movie_ID</th>\n",
       "    </tr>\n",
       "    <tr>\n",
       "      <th>title</th>\n",
       "      <th>year</th>\n",
       "      <th></th>\n",
       "      <th></th>\n",
       "      <th></th>\n",
       "    </tr>\n",
       "  </thead>\n",
       "  <tbody>\n",
       "    <tr>\n",
       "      <th>10 Cloverfield Lane</th>\n",
       "      <th>2016</th>\n",
       "      <td>5000000</td>\n",
       "      <td>108286422</td>\n",
       "      <td>tt1179933</td>\n",
       "    </tr>\n",
       "    <tr>\n",
       "      <th>10 Days in a Madhouse</th>\n",
       "      <th>2015</th>\n",
       "      <td>12000000</td>\n",
       "      <td>14616</td>\n",
       "      <td>tt3453052</td>\n",
       "    </tr>\n",
       "    <tr>\n",
       "      <th>12 Strong</th>\n",
       "      <th>2018</th>\n",
       "      <td>35000000</td>\n",
       "      <td>71118378</td>\n",
       "      <td>tt1413492</td>\n",
       "    </tr>\n",
       "    <tr>\n",
       "      <th>12 Years a Slave</th>\n",
       "      <th>2013</th>\n",
       "      <td>20000000</td>\n",
       "      <td>181025343</td>\n",
       "      <td>tt2024544</td>\n",
       "    </tr>\n",
       "    <tr>\n",
       "      <th>127 Hours</th>\n",
       "      <th>2010</th>\n",
       "      <td>18000000</td>\n",
       "      <td>60217171</td>\n",
       "      <td>tt1542344</td>\n",
       "    </tr>\n",
       "  </tbody>\n",
       "</table>\n",
       "</div>"
      ]
     },
     "metadata": {},
     "execution_count": 77
    }
   ],
   "metadata": {}
  },
  {
   "cell_type": "markdown",
   "source": [
    "### 1.2.10 - Set the `movie_ID` Column as the Index of `tn_movie_budgets_df`"
   ],
   "metadata": {}
  },
  {
   "cell_type": "code",
   "execution_count": 78,
   "source": [
    "tn_movie_budgets_df.set_index(\"movie_ID\", inplace=True)"
   ],
   "outputs": [],
   "metadata": {}
  },
  {
   "cell_type": "code",
   "execution_count": 79,
   "source": [
    "tn_movie_budgets_df.head()"
   ],
   "outputs": [
    {
     "output_type": "execute_result",
     "data": {
      "text/plain": [
       "           production_budget  gross_income\n",
       "movie_ID                                  \n",
       "tt1179933            5000000     108286422\n",
       "tt3453052           12000000         14616\n",
       "tt1413492           35000000      71118378\n",
       "tt2024544           20000000     181025343\n",
       "tt1542344           18000000      60217171"
      ],
      "text/html": [
       "<div>\n",
       "<style scoped>\n",
       "    .dataframe tbody tr th:only-of-type {\n",
       "        vertical-align: middle;\n",
       "    }\n",
       "\n",
       "    .dataframe tbody tr th {\n",
       "        vertical-align: top;\n",
       "    }\n",
       "\n",
       "    .dataframe thead th {\n",
       "        text-align: right;\n",
       "    }\n",
       "</style>\n",
       "<table border=\"1\" class=\"dataframe\">\n",
       "  <thead>\n",
       "    <tr style=\"text-align: right;\">\n",
       "      <th></th>\n",
       "      <th>production_budget</th>\n",
       "      <th>gross_income</th>\n",
       "    </tr>\n",
       "    <tr>\n",
       "      <th>movie_ID</th>\n",
       "      <th></th>\n",
       "      <th></th>\n",
       "    </tr>\n",
       "  </thead>\n",
       "  <tbody>\n",
       "    <tr>\n",
       "      <th>tt1179933</th>\n",
       "      <td>5000000</td>\n",
       "      <td>108286422</td>\n",
       "    </tr>\n",
       "    <tr>\n",
       "      <th>tt3453052</th>\n",
       "      <td>12000000</td>\n",
       "      <td>14616</td>\n",
       "    </tr>\n",
       "    <tr>\n",
       "      <th>tt1413492</th>\n",
       "      <td>35000000</td>\n",
       "      <td>71118378</td>\n",
       "    </tr>\n",
       "    <tr>\n",
       "      <th>tt2024544</th>\n",
       "      <td>20000000</td>\n",
       "      <td>181025343</td>\n",
       "    </tr>\n",
       "    <tr>\n",
       "      <th>tt1542344</th>\n",
       "      <td>18000000</td>\n",
       "      <td>60217171</td>\n",
       "    </tr>\n",
       "  </tbody>\n",
       "</table>\n",
       "</div>"
      ]
     },
     "metadata": {},
     "execution_count": 79
    }
   ],
   "metadata": {}
  },
  {
   "cell_type": "markdown",
   "source": [
    "### 1.2.11 - Feature Engineering: Create the *Net Income* and *Cost-to-Income Ratio* Features\r\n"
   ],
   "metadata": {}
  },
  {
   "cell_type": "code",
   "execution_count": 80,
   "source": [
    "tn_movie_budgets_df[\"net_income\"] = tn_movie_budgets_df[\"gross_income\"] - tn_movie_budgets_df[\"production_budget\"]\r\n",
    "tn_movie_budgets_df[\"cost_income_ratio\"] = tn_movie_budgets_df[\"production_budget\"] / tn_movie_budgets_df[\"gross_income\"] "
   ],
   "outputs": [],
   "metadata": {}
  },
  {
   "cell_type": "code",
   "execution_count": 81,
   "source": [
    "tn_movie_budgets_df.head()"
   ],
   "outputs": [
    {
     "output_type": "execute_result",
     "data": {
      "text/plain": [
       "           production_budget  gross_income  net_income  cost_income_ratio\n",
       "movie_ID                                                                 \n",
       "tt1179933            5000000     108286422   103286422           0.046174\n",
       "tt3453052           12000000         14616   -11985384         821.018062\n",
       "tt1413492           35000000      71118378    36118378           0.492137\n",
       "tt2024544           20000000     181025343   161025343           0.110482\n",
       "tt1542344           18000000      60217171    42217171           0.298918"
      ],
      "text/html": [
       "<div>\n",
       "<style scoped>\n",
       "    .dataframe tbody tr th:only-of-type {\n",
       "        vertical-align: middle;\n",
       "    }\n",
       "\n",
       "    .dataframe tbody tr th {\n",
       "        vertical-align: top;\n",
       "    }\n",
       "\n",
       "    .dataframe thead th {\n",
       "        text-align: right;\n",
       "    }\n",
       "</style>\n",
       "<table border=\"1\" class=\"dataframe\">\n",
       "  <thead>\n",
       "    <tr style=\"text-align: right;\">\n",
       "      <th></th>\n",
       "      <th>production_budget</th>\n",
       "      <th>gross_income</th>\n",
       "      <th>net_income</th>\n",
       "      <th>cost_income_ratio</th>\n",
       "    </tr>\n",
       "    <tr>\n",
       "      <th>movie_ID</th>\n",
       "      <th></th>\n",
       "      <th></th>\n",
       "      <th></th>\n",
       "      <th></th>\n",
       "    </tr>\n",
       "  </thead>\n",
       "  <tbody>\n",
       "    <tr>\n",
       "      <th>tt1179933</th>\n",
       "      <td>5000000</td>\n",
       "      <td>108286422</td>\n",
       "      <td>103286422</td>\n",
       "      <td>0.046174</td>\n",
       "    </tr>\n",
       "    <tr>\n",
       "      <th>tt3453052</th>\n",
       "      <td>12000000</td>\n",
       "      <td>14616</td>\n",
       "      <td>-11985384</td>\n",
       "      <td>821.018062</td>\n",
       "    </tr>\n",
       "    <tr>\n",
       "      <th>tt1413492</th>\n",
       "      <td>35000000</td>\n",
       "      <td>71118378</td>\n",
       "      <td>36118378</td>\n",
       "      <td>0.492137</td>\n",
       "    </tr>\n",
       "    <tr>\n",
       "      <th>tt2024544</th>\n",
       "      <td>20000000</td>\n",
       "      <td>181025343</td>\n",
       "      <td>161025343</td>\n",
       "      <td>0.110482</td>\n",
       "    </tr>\n",
       "    <tr>\n",
       "      <th>tt1542344</th>\n",
       "      <td>18000000</td>\n",
       "      <td>60217171</td>\n",
       "      <td>42217171</td>\n",
       "      <td>0.298918</td>\n",
       "    </tr>\n",
       "  </tbody>\n",
       "</table>\n",
       "</div>"
      ]
     },
     "metadata": {},
     "execution_count": 81
    }
   ],
   "metadata": {}
  },
  {
   "cell_type": "markdown",
   "source": [
    "### 1.2.12 - Export `tn_movie_budgets_df` [Needed for Part 3]"
   ],
   "metadata": {}
  },
  {
   "cell_type": "code",
   "execution_count": 82,
   "source": [
    "tn_movie_budgets_df.to_csv(\"maps/id_to_financials_map.csv\")"
   ],
   "outputs": [],
   "metadata": {}
  },
  {
   "cell_type": "markdown",
   "source": [
    "##\r\n",
    "---"
   ],
   "metadata": {}
  },
  {
   "cell_type": "markdown",
   "source": [
    "## 1.3 - Creating a Dataframe (`financials_by_genre_df`) for Financial Performance Measures by Genre\r\n"
   ],
   "metadata": {}
  },
  {
   "cell_type": "markdown",
   "source": [
    "### 1.3.1 - Initialize `financials_by_genre_df` by Appending Columns with the Associated *Genres*  for Each *Movie ID* to `tn_movie_budgets_df`"
   ],
   "metadata": {}
  },
  {
   "cell_type": "code",
   "execution_count": 83,
   "source": [
    "financials_by_genre_df = tn_movie_budgets_df.join(id_to_genre_map, how='inner')"
   ],
   "outputs": [],
   "metadata": {}
  },
  {
   "cell_type": "code",
   "execution_count": 84,
   "source": [
    "financials_by_genre_df.head()"
   ],
   "outputs": [
    {
     "output_type": "execute_result",
     "data": {
      "text/plain": [
       "           production_budget  gross_income  net_income  cost_income_ratio  \\\n",
       "movie_ID                                                                    \n",
       "tt1179933            5000000     108286422   103286422           0.046174   \n",
       "tt3453052           12000000         14616   -11985384         821.018062   \n",
       "tt1413492           35000000      71118378    36118378           0.492137   \n",
       "tt2024544           20000000     181025343   161025343           0.110482   \n",
       "tt1542344           18000000      60217171    42217171           0.298918   \n",
       "\n",
       "             genre_1    genre_2  genre_3  \n",
       "movie_ID                                  \n",
       "tt1179933      Drama     Horror  Mystery  \n",
       "tt3453052      Drama        NaN      NaN  \n",
       "tt1413492     Action      Drama  History  \n",
       "tt2024544  Biography      Drama  History  \n",
       "tt1542344  Adventure  Biography    Drama  "
      ],
      "text/html": [
       "<div>\n",
       "<style scoped>\n",
       "    .dataframe tbody tr th:only-of-type {\n",
       "        vertical-align: middle;\n",
       "    }\n",
       "\n",
       "    .dataframe tbody tr th {\n",
       "        vertical-align: top;\n",
       "    }\n",
       "\n",
       "    .dataframe thead th {\n",
       "        text-align: right;\n",
       "    }\n",
       "</style>\n",
       "<table border=\"1\" class=\"dataframe\">\n",
       "  <thead>\n",
       "    <tr style=\"text-align: right;\">\n",
       "      <th></th>\n",
       "      <th>production_budget</th>\n",
       "      <th>gross_income</th>\n",
       "      <th>net_income</th>\n",
       "      <th>cost_income_ratio</th>\n",
       "      <th>genre_1</th>\n",
       "      <th>genre_2</th>\n",
       "      <th>genre_3</th>\n",
       "    </tr>\n",
       "    <tr>\n",
       "      <th>movie_ID</th>\n",
       "      <th></th>\n",
       "      <th></th>\n",
       "      <th></th>\n",
       "      <th></th>\n",
       "      <th></th>\n",
       "      <th></th>\n",
       "      <th></th>\n",
       "    </tr>\n",
       "  </thead>\n",
       "  <tbody>\n",
       "    <tr>\n",
       "      <th>tt1179933</th>\n",
       "      <td>5000000</td>\n",
       "      <td>108286422</td>\n",
       "      <td>103286422</td>\n",
       "      <td>0.046174</td>\n",
       "      <td>Drama</td>\n",
       "      <td>Horror</td>\n",
       "      <td>Mystery</td>\n",
       "    </tr>\n",
       "    <tr>\n",
       "      <th>tt3453052</th>\n",
       "      <td>12000000</td>\n",
       "      <td>14616</td>\n",
       "      <td>-11985384</td>\n",
       "      <td>821.018062</td>\n",
       "      <td>Drama</td>\n",
       "      <td>NaN</td>\n",
       "      <td>NaN</td>\n",
       "    </tr>\n",
       "    <tr>\n",
       "      <th>tt1413492</th>\n",
       "      <td>35000000</td>\n",
       "      <td>71118378</td>\n",
       "      <td>36118378</td>\n",
       "      <td>0.492137</td>\n",
       "      <td>Action</td>\n",
       "      <td>Drama</td>\n",
       "      <td>History</td>\n",
       "    </tr>\n",
       "    <tr>\n",
       "      <th>tt2024544</th>\n",
       "      <td>20000000</td>\n",
       "      <td>181025343</td>\n",
       "      <td>161025343</td>\n",
       "      <td>0.110482</td>\n",
       "      <td>Biography</td>\n",
       "      <td>Drama</td>\n",
       "      <td>History</td>\n",
       "    </tr>\n",
       "    <tr>\n",
       "      <th>tt1542344</th>\n",
       "      <td>18000000</td>\n",
       "      <td>60217171</td>\n",
       "      <td>42217171</td>\n",
       "      <td>0.298918</td>\n",
       "      <td>Adventure</td>\n",
       "      <td>Biography</td>\n",
       "      <td>Drama</td>\n",
       "    </tr>\n",
       "  </tbody>\n",
       "</table>\n",
       "</div>"
      ]
     },
     "metadata": {},
     "execution_count": 84
    }
   ],
   "metadata": {}
  },
  {
   "cell_type": "markdown",
   "source": [
    "### 1.3.2 - Convert `financials_by_genre_df` to Long Format"
   ],
   "metadata": {}
  },
  {
   "cell_type": "code",
   "execution_count": 85,
   "source": [
    "financials_by_genre_df = pd.melt(financials_by_genre_df.reset_index(), id_vars=[\"movie_ID\", \"production_budget\", \"gross_income\", \"net_income\", \"cost_income_ratio\"])\r\n",
    "financials_by_genre_df.set_index(\"movie_ID\", inplace=True)"
   ],
   "outputs": [],
   "metadata": {}
  },
  {
   "cell_type": "code",
   "execution_count": 86,
   "source": [
    "financials_by_genre_df.head()"
   ],
   "outputs": [
    {
     "output_type": "execute_result",
     "data": {
      "text/plain": [
       "           production_budget  gross_income  net_income  cost_income_ratio  \\\n",
       "movie_ID                                                                    \n",
       "tt1179933            5000000     108286422   103286422           0.046174   \n",
       "tt3453052           12000000         14616   -11985384         821.018062   \n",
       "tt1413492           35000000      71118378    36118378           0.492137   \n",
       "tt2024544           20000000     181025343   161025343           0.110482   \n",
       "tt1542344           18000000      60217171    42217171           0.298918   \n",
       "\n",
       "          variable      value  \n",
       "movie_ID                       \n",
       "tt1179933  genre_1      Drama  \n",
       "tt3453052  genre_1      Drama  \n",
       "tt1413492  genre_1     Action  \n",
       "tt2024544  genre_1  Biography  \n",
       "tt1542344  genre_1  Adventure  "
      ],
      "text/html": [
       "<div>\n",
       "<style scoped>\n",
       "    .dataframe tbody tr th:only-of-type {\n",
       "        vertical-align: middle;\n",
       "    }\n",
       "\n",
       "    .dataframe tbody tr th {\n",
       "        vertical-align: top;\n",
       "    }\n",
       "\n",
       "    .dataframe thead th {\n",
       "        text-align: right;\n",
       "    }\n",
       "</style>\n",
       "<table border=\"1\" class=\"dataframe\">\n",
       "  <thead>\n",
       "    <tr style=\"text-align: right;\">\n",
       "      <th></th>\n",
       "      <th>production_budget</th>\n",
       "      <th>gross_income</th>\n",
       "      <th>net_income</th>\n",
       "      <th>cost_income_ratio</th>\n",
       "      <th>variable</th>\n",
       "      <th>value</th>\n",
       "    </tr>\n",
       "    <tr>\n",
       "      <th>movie_ID</th>\n",
       "      <th></th>\n",
       "      <th></th>\n",
       "      <th></th>\n",
       "      <th></th>\n",
       "      <th></th>\n",
       "      <th></th>\n",
       "    </tr>\n",
       "  </thead>\n",
       "  <tbody>\n",
       "    <tr>\n",
       "      <th>tt1179933</th>\n",
       "      <td>5000000</td>\n",
       "      <td>108286422</td>\n",
       "      <td>103286422</td>\n",
       "      <td>0.046174</td>\n",
       "      <td>genre_1</td>\n",
       "      <td>Drama</td>\n",
       "    </tr>\n",
       "    <tr>\n",
       "      <th>tt3453052</th>\n",
       "      <td>12000000</td>\n",
       "      <td>14616</td>\n",
       "      <td>-11985384</td>\n",
       "      <td>821.018062</td>\n",
       "      <td>genre_1</td>\n",
       "      <td>Drama</td>\n",
       "    </tr>\n",
       "    <tr>\n",
       "      <th>tt1413492</th>\n",
       "      <td>35000000</td>\n",
       "      <td>71118378</td>\n",
       "      <td>36118378</td>\n",
       "      <td>0.492137</td>\n",
       "      <td>genre_1</td>\n",
       "      <td>Action</td>\n",
       "    </tr>\n",
       "    <tr>\n",
       "      <th>tt2024544</th>\n",
       "      <td>20000000</td>\n",
       "      <td>181025343</td>\n",
       "      <td>161025343</td>\n",
       "      <td>0.110482</td>\n",
       "      <td>genre_1</td>\n",
       "      <td>Biography</td>\n",
       "    </tr>\n",
       "    <tr>\n",
       "      <th>tt1542344</th>\n",
       "      <td>18000000</td>\n",
       "      <td>60217171</td>\n",
       "      <td>42217171</td>\n",
       "      <td>0.298918</td>\n",
       "      <td>genre_1</td>\n",
       "      <td>Adventure</td>\n",
       "    </tr>\n",
       "  </tbody>\n",
       "</table>\n",
       "</div>"
      ]
     },
     "metadata": {},
     "execution_count": 86
    }
   ],
   "metadata": {}
  },
  {
   "cell_type": "markdown",
   "source": [
    "### 1.3.3 - Drop the `variable` Column and Rename the `value` Column to `genre`"
   ],
   "metadata": {}
  },
  {
   "cell_type": "code",
   "execution_count": 87,
   "source": [
    "financials_by_genre_df.drop(columns=\"variable\", inplace=True)\r\n",
    "financials_by_genre_df.rename(columns={\"value\": \"genre\"}, inplace=True)"
   ],
   "outputs": [],
   "metadata": {}
  },
  {
   "cell_type": "code",
   "execution_count": 88,
   "source": [
    "financials_by_genre_df.head()"
   ],
   "outputs": [
    {
     "output_type": "execute_result",
     "data": {
      "text/plain": [
       "           production_budget  gross_income  net_income  cost_income_ratio  \\\n",
       "movie_ID                                                                    \n",
       "tt1179933            5000000     108286422   103286422           0.046174   \n",
       "tt3453052           12000000         14616   -11985384         821.018062   \n",
       "tt1413492           35000000      71118378    36118378           0.492137   \n",
       "tt2024544           20000000     181025343   161025343           0.110482   \n",
       "tt1542344           18000000      60217171    42217171           0.298918   \n",
       "\n",
       "               genre  \n",
       "movie_ID              \n",
       "tt1179933      Drama  \n",
       "tt3453052      Drama  \n",
       "tt1413492     Action  \n",
       "tt2024544  Biography  \n",
       "tt1542344  Adventure  "
      ],
      "text/html": [
       "<div>\n",
       "<style scoped>\n",
       "    .dataframe tbody tr th:only-of-type {\n",
       "        vertical-align: middle;\n",
       "    }\n",
       "\n",
       "    .dataframe tbody tr th {\n",
       "        vertical-align: top;\n",
       "    }\n",
       "\n",
       "    .dataframe thead th {\n",
       "        text-align: right;\n",
       "    }\n",
       "</style>\n",
       "<table border=\"1\" class=\"dataframe\">\n",
       "  <thead>\n",
       "    <tr style=\"text-align: right;\">\n",
       "      <th></th>\n",
       "      <th>production_budget</th>\n",
       "      <th>gross_income</th>\n",
       "      <th>net_income</th>\n",
       "      <th>cost_income_ratio</th>\n",
       "      <th>genre</th>\n",
       "    </tr>\n",
       "    <tr>\n",
       "      <th>movie_ID</th>\n",
       "      <th></th>\n",
       "      <th></th>\n",
       "      <th></th>\n",
       "      <th></th>\n",
       "      <th></th>\n",
       "    </tr>\n",
       "  </thead>\n",
       "  <tbody>\n",
       "    <tr>\n",
       "      <th>tt1179933</th>\n",
       "      <td>5000000</td>\n",
       "      <td>108286422</td>\n",
       "      <td>103286422</td>\n",
       "      <td>0.046174</td>\n",
       "      <td>Drama</td>\n",
       "    </tr>\n",
       "    <tr>\n",
       "      <th>tt3453052</th>\n",
       "      <td>12000000</td>\n",
       "      <td>14616</td>\n",
       "      <td>-11985384</td>\n",
       "      <td>821.018062</td>\n",
       "      <td>Drama</td>\n",
       "    </tr>\n",
       "    <tr>\n",
       "      <th>tt1413492</th>\n",
       "      <td>35000000</td>\n",
       "      <td>71118378</td>\n",
       "      <td>36118378</td>\n",
       "      <td>0.492137</td>\n",
       "      <td>Action</td>\n",
       "    </tr>\n",
       "    <tr>\n",
       "      <th>tt2024544</th>\n",
       "      <td>20000000</td>\n",
       "      <td>181025343</td>\n",
       "      <td>161025343</td>\n",
       "      <td>0.110482</td>\n",
       "      <td>Biography</td>\n",
       "    </tr>\n",
       "    <tr>\n",
       "      <th>tt1542344</th>\n",
       "      <td>18000000</td>\n",
       "      <td>60217171</td>\n",
       "      <td>42217171</td>\n",
       "      <td>0.298918</td>\n",
       "      <td>Adventure</td>\n",
       "    </tr>\n",
       "  </tbody>\n",
       "</table>\n",
       "</div>"
      ]
     },
     "metadata": {},
     "execution_count": 88
    }
   ],
   "metadata": {}
  },
  {
   "cell_type": "markdown",
   "source": [
    "### 1.3.4 - Drop the Rows with a Null Value in the `genre` Column"
   ],
   "metadata": {}
  },
  {
   "cell_type": "code",
   "execution_count": 89,
   "source": [
    "financials_by_genre_df.info()"
   ],
   "outputs": [
    {
     "output_type": "stream",
     "name": "stdout",
     "text": [
      "<class 'pandas.core.frame.DataFrame'>\n",
      "Index: 4254 entries, tt1179933 to tt1293847\n",
      "Data columns (total 5 columns):\n",
      " #   Column             Non-Null Count  Dtype  \n",
      "---  ------             --------------  -----  \n",
      " 0   production_budget  4254 non-null   int64  \n",
      " 1   gross_income       4254 non-null   int64  \n",
      " 2   net_income         4254 non-null   int64  \n",
      " 3   cost_income_ratio  4254 non-null   float64\n",
      " 4   genre              3628 non-null   object \n",
      "dtypes: float64(1), int64(3), object(1)\n",
      "memory usage: 199.4+ KB\n"
     ]
    }
   ],
   "metadata": {}
  },
  {
   "cell_type": "code",
   "execution_count": 90,
   "source": [
    "financials_by_genre_df.dropna(inplace=True)"
   ],
   "outputs": [],
   "metadata": {}
  },
  {
   "cell_type": "code",
   "execution_count": 91,
   "source": [
    "financials_by_genre_df.info()"
   ],
   "outputs": [
    {
     "output_type": "stream",
     "name": "stdout",
     "text": [
      "<class 'pandas.core.frame.DataFrame'>\n",
      "Index: 3628 entries, tt1179933 to tt1293847\n",
      "Data columns (total 5 columns):\n",
      " #   Column             Non-Null Count  Dtype  \n",
      "---  ------             --------------  -----  \n",
      " 0   production_budget  3628 non-null   int64  \n",
      " 1   gross_income       3628 non-null   int64  \n",
      " 2   net_income         3628 non-null   int64  \n",
      " 3   cost_income_ratio  3628 non-null   float64\n",
      " 4   genre              3628 non-null   object \n",
      "dtypes: float64(1), int64(3), object(1)\n",
      "memory usage: 170.1+ KB\n"
     ]
    }
   ],
   "metadata": {}
  },
  {
   "cell_type": "markdown",
   "source": [
    "### 1.3.5 - Separate the Data by Genre for Each Feature in `financials_by_genre_df`"
   ],
   "metadata": {}
  },
  {
   "cell_type": "code",
   "execution_count": 92,
   "source": [
    "def extract_feature_by_genre(financials_long_df, feature):\r\n",
    "    feature_series = []\r\n",
    "\r\n",
    "    for genre in financials_long_df[\"genre\"].unique():\r\n",
    "        genre_financials_df = financials_long_df.loc[financials_long_df[\"genre\"] == genre]\r\n",
    "        feature_series.append((genre, genre_financials_df[feature]))\r\n",
    "    \r\n",
    "    feature_series.sort(key=lambda x: len(x[1]), reverse=True)\r\n",
    "    \r\n",
    "    return pd.DataFrame(dict(feature_series[:14]))"
   ],
   "outputs": [],
   "metadata": {}
  },
  {
   "cell_type": "code",
   "execution_count": 93,
   "source": [
    "gross_incomes_by_genre_df = extract_feature_by_genre(financials_by_genre_df, \"gross_income\")\r\n",
    "net_incomes_by_genre_df = extract_feature_by_genre(financials_by_genre_df, \"net_income\")\r\n",
    "cost_income_ratios_by_genre_df = extract_feature_by_genre(financials_by_genre_df, \"cost_income_ratio\")"
   ],
   "outputs": [],
   "metadata": {}
  },
  {
   "cell_type": "code",
   "execution_count": 94,
   "source": [
    "gross_incomes_by_genre_df.info()"
   ],
   "outputs": [
    {
     "output_type": "stream",
     "name": "stdout",
     "text": [
      "<class 'pandas.core.frame.DataFrame'>\n",
      "Index: 1378 entries, tt0249516 to tt9889072\n",
      "Data columns (total 14 columns):\n",
      " #   Column     Non-Null Count  Dtype  \n",
      "---  ------     --------------  -----  \n",
      " 0   Drama      687 non-null    float64\n",
      " 1   Comedy     489 non-null    float64\n",
      " 2   Action     422 non-null    float64\n",
      " 3   Adventure  343 non-null    float64\n",
      " 4   Thriller   240 non-null    float64\n",
      " 5   Crime      222 non-null    float64\n",
      " 6   Romance    182 non-null    float64\n",
      " 7   Horror     157 non-null    float64\n",
      " 8   Biography  132 non-null    float64\n",
      " 9   Sci-Fi     127 non-null    float64\n",
      " 10  Fantasy    119 non-null    float64\n",
      " 11  Mystery    118 non-null    float64\n",
      " 12  Animation  98 non-null     float64\n",
      " 13  Family     88 non-null     float64\n",
      "dtypes: float64(14)\n",
      "memory usage: 161.5+ KB\n"
     ]
    }
   ],
   "metadata": {}
  },
  {
   "cell_type": "code",
   "execution_count": 95,
   "source": [
    "net_incomes_by_genre_df.info()"
   ],
   "outputs": [
    {
     "output_type": "stream",
     "name": "stdout",
     "text": [
      "<class 'pandas.core.frame.DataFrame'>\n",
      "Index: 1378 entries, tt0249516 to tt9889072\n",
      "Data columns (total 14 columns):\n",
      " #   Column     Non-Null Count  Dtype  \n",
      "---  ------     --------------  -----  \n",
      " 0   Drama      687 non-null    float64\n",
      " 1   Comedy     489 non-null    float64\n",
      " 2   Action     422 non-null    float64\n",
      " 3   Adventure  343 non-null    float64\n",
      " 4   Thriller   240 non-null    float64\n",
      " 5   Crime      222 non-null    float64\n",
      " 6   Romance    182 non-null    float64\n",
      " 7   Horror     157 non-null    float64\n",
      " 8   Biography  132 non-null    float64\n",
      " 9   Sci-Fi     127 non-null    float64\n",
      " 10  Fantasy    119 non-null    float64\n",
      " 11  Mystery    118 non-null    float64\n",
      " 12  Animation  98 non-null     float64\n",
      " 13  Family     88 non-null     float64\n",
      "dtypes: float64(14)\n",
      "memory usage: 161.5+ KB\n"
     ]
    }
   ],
   "metadata": {}
  },
  {
   "cell_type": "code",
   "execution_count": 96,
   "source": [
    "cost_income_ratios_by_genre_df.info()"
   ],
   "outputs": [
    {
     "output_type": "stream",
     "name": "stdout",
     "text": [
      "<class 'pandas.core.frame.DataFrame'>\n",
      "Index: 1378 entries, tt0249516 to tt9889072\n",
      "Data columns (total 14 columns):\n",
      " #   Column     Non-Null Count  Dtype  \n",
      "---  ------     --------------  -----  \n",
      " 0   Drama      687 non-null    float64\n",
      " 1   Comedy     489 non-null    float64\n",
      " 2   Action     422 non-null    float64\n",
      " 3   Adventure  343 non-null    float64\n",
      " 4   Thriller   240 non-null    float64\n",
      " 5   Crime      222 non-null    float64\n",
      " 6   Romance    182 non-null    float64\n",
      " 7   Horror     157 non-null    float64\n",
      " 8   Biography  132 non-null    float64\n",
      " 9   Sci-Fi     127 non-null    float64\n",
      " 10  Fantasy    119 non-null    float64\n",
      " 11  Mystery    118 non-null    float64\n",
      " 12  Animation  98 non-null     float64\n",
      " 13  Family     88 non-null     float64\n",
      "dtypes: float64(14)\n",
      "memory usage: 161.5+ KB\n"
     ]
    }
   ],
   "metadata": {}
  },
  {
   "cell_type": "markdown",
   "source": [
    "##\r\n",
    "---"
   ],
   "metadata": {}
  },
  {
   "cell_type": "markdown",
   "source": [
    "## 1.4 - Visualizing the Correlation between *Genre* and *Gross Income*\r\n"
   ],
   "metadata": {}
  },
  {
   "cell_type": "code",
   "execution_count": 97,
   "source": [
    "colors = sns.set_palette(\"GnBu\", 10)"
   ],
   "outputs": [],
   "metadata": {}
  },
  {
   "cell_type": "code",
   "execution_count": 98,
   "source": [
    "df = gross_incomes_by_genre_df\r\n",
    "\r\n",
    "fig, ax = plt.subplots(figsize=(25,13))\r\n",
    "ax = sns.boxplot(data=df[sorted(df.columns, key=lambda x: df[x].median(), reverse=True)],\r\n",
    "                 width=0.5,\r\n",
    "                 color='tomato',\r\n",
    "                 showfliers=False,\r\n",
    "                 whis=1)\r\n",
    "\r\n",
    "ax.set_ylabel(\"Gross Income [$]\", fontsize=16)\r\n",
    "ax.set_title(\"Gross Income of Movies by Genre\", fontsize=20)\r\n"
   ],
   "outputs": [
    {
     "output_type": "execute_result",
     "data": {
      "text/plain": [
       "Text(0.5, 1.0, 'Gross Income of Movies by Genre')"
      ]
     },
     "metadata": {},
     "execution_count": 98
    },
    {
     "output_type": "display_data",
     "data": {
      "text/plain": [
       "<Figure size 1800x720 with 1 Axes>"
      ],
      "image/png": ""
     },
     "metadata": {}
    }
   ],
   "metadata": {}
  },
  {
   "cell_type": "markdown",
   "source": [
    "##\r\n",
    "---"
   ],
   "metadata": {}
  },
  {
   "cell_type": "markdown",
   "source": [
    "## 1.5 - Visualizing the Correlation between *Genre* and *Net Income*\r\n"
   ],
   "metadata": {}
  },
  {
   "cell_type": "code",
   "execution_count": 99,
   "source": [
    "df = net_incomes_by_genre_df\r\n",
    "\r\n",
    "fig, ax = plt.subplots(figsize=(25,13))\r\n",
    "ax = sns.boxplot(data=df[sorted(df.columns, key=lambda x: df[x].median(), reverse=True)],\r\n",
    "                 color='mediumspringgreen',\r\n",
    "                 width=0.5,\r\n",
    "                 showfliers=False,\r\n",
    "                 whis=1)\r\n",
    "\r\n",
    "ax.set_ylabel(\"Net Income [$]\", fontsize=16)\r\n",
    "ax.set_title(\"Net Income of Movies by Genre\", fontsize=20)\r\n",
    "\r\n"
   ],
   "outputs": [
    {
     "output_type": "execute_result",
     "data": {
      "text/plain": [
       "Text(0.5, 1.0, 'Net Income of Movies by Genre')"
      ]
     },
     "metadata": {},
     "execution_count": 99
    },
    {
     "output_type": "display_data",
     "data": {
      "text/plain": [
       "<Figure size 1800x720 with 1 Axes>"
      ],
      "image/png": ""
     },
     "metadata": {}
    }
   ],
   "metadata": {}
  },
  {
   "cell_type": "markdown",
   "source": [
    "##\r\n",
    "---"
   ],
   "metadata": {}
  },
  {
   "cell_type": "markdown",
   "source": [
    "## 1.6 - Visualizing the Correlation between *Genre* and *Cost-to-Income Ratio*\r\n"
   ],
   "metadata": {}
  },
  {
   "cell_type": "code",
   "execution_count": 100,
   "source": [
    "df = cost_income_ratios_by_genre_df\r\n",
    "\r\n",
    "fig, ax = plt.subplots(figsize=(25,13))\r\n",
    "ax = sns.boxplot(data=df[sorted(df.columns, key=lambda x: df[x].median())],\r\n",
    "                 width=0.5,\r\n",
    "                 color='aqua',\r\n",
    "                 showfliers=False,\r\n",
    "                 whis=1)\r\n",
    "\r\n",
    "ax.set_ylabel(\"Cost-to-Income Ratio\", fontsize=16)\r\n",
    "ax.set_title(\"Cost-to-Income Ratio of Movies by Genre\", fontsize=20)"
   ],
   "outputs": [
    {
     "output_type": "execute_result",
     "data": {
      "text/plain": [
       "Text(0.5, 1.0, 'Cost-to-Income Ratio of Movies by Genre')"
      ]
     },
     "metadata": {},
     "execution_count": 100
    },
    {
     "output_type": "display_data",
     "data": {
      "text/plain": [
       "<Figure size 1800x720 with 1 Axes>"
      ],
      "image/png": ""
     },
     "metadata": {}
    }
   ],
   "metadata": {}
  },
  {
   "cell_type": "markdown",
   "source": [
    "##\r\n",
    "---"
   ],
   "metadata": {}
  },
  {
   "cell_type": "markdown",
   "source": [
    "## 1.7 - Actionable Insights\r\n"
   ],
   "metadata": {}
  },
  {
   "cell_type": "markdown",
   "source": [
    "##\r\n",
    "---"
   ],
   "metadata": {}
  }
 ],
 "metadata": {
  "orig_nbformat": 4,
  "language_info": {
   "name": "python",
   "version": "3.8.5",
   "mimetype": "text/x-python",
   "codemirror_mode": {
    "name": "ipython",
    "version": 3
   },
   "pygments_lexer": "ipython3",
   "nbconvert_exporter": "python",
   "file_extension": ".py"
  },
  "kernelspec": {
   "name": "python3",
   "display_name": "Python 3.8.5 64-bit ('learn-env': conda)"
  },
  "interpreter": {
   "hash": "6ceedc61b457f06e34f4dcbde466844a1e718dedaf219119a1cc61ec59de0221"
  }
 },
 "nbformat": 4,
 "nbformat_minor": 2
}